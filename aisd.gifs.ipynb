{
 "cells": [
  {
   "cell_type": "code",
   "execution_count": 1,
   "metadata": {},
   "outputs": [],
   "source": [
    "from IPython.display import clear_output\n",
    "%pip install matplotlib\n",
    "%pip install numpy\n",
    "%pip install imageio\n",
    "clear_output()"
   ]
  },
  {
   "cell_type": "code",
   "execution_count": 2,
   "metadata": {},
   "outputs": [],
   "source": [
    "import os\n",
    "import imageio\n",
    "from matplotlib import rcParams\n",
    "from timeit import default_timer\n",
    "import numpy as np\n",
    "from scipy import special as sp\n",
    "from math import inf, sqrt, pi, log\n",
    "from random import random, shuffle\n",
    "from collections import deque\n",
    "from heapq import heapify, heappop, heappush\n",
    "from matplotlib import pyplot as plt"
   ]
  },
  {
   "cell_type": "code",
   "execution_count": 3,
   "metadata": {},
   "outputs": [],
   "source": [
    "def is_sorted(data):\n",
    "    return all([a <= b for a,b in zip(data, data[1:])])\n",
    "\n",
    "def bogosort(data):\n",
    "    inter = [list(data)]\n",
    "    while not is_sorted(data):\n",
    "        shuffle(data)\n",
    "        inter.append(list(data))\n",
    "    return data, inter\n"
   ]
  },
  {
   "cell_type": "code",
   "execution_count": 9,
   "metadata": {},
   "outputs": [],
   "source": [
    "N = 6\n",
    "data = [random() for i in range(N)]\n",
    "_, inter = bogosort(data)\n",
    "k = 0\n",
    "\n",
    "for arr in inter:\n",
    "    plt.figure(figsize=(4,4))\n",
    "    plt.bar(range(N), arr)\n",
    "    plt.title(f\"{k}-th frame\")\n",
    "\n",
    "    plt.savefig(f'gifs/tmp/{k}.png')\n",
    "    plt.clf()\n",
    "    plt.close()\n",
    "    k += 1\n",
    "\n",
    "with imageio.get_writer('gifs/bogo.gif', mode='I') as writer:\n",
    "    for filename in [f'gifs/tmp/{i}.png' for i in range(k)]:\n",
    "        image = imageio.imread(filename)\n",
    "        writer.append_data(image)\n",
    "dir = 'gifs/tmp'\n",
    "for f in os.listdir(dir):\n",
    "    os.remove(os.path.join(dir, f))"
   ]
  },
  {
   "cell_type": "code",
   "execution_count": 3,
   "metadata": {},
   "outputs": [],
   "source": [
    "def merge(A, B):\n",
    "    result = []\n",
    "    i, j = 0, 0\n",
    "    while i < len(A) and j < len(B):\n",
    "        if A[i] < B[j]:\n",
    "            result.append(A[i])\n",
    "            i += 1\n",
    "        else:\n",
    "            result.append(B[j])\n",
    "            j += 1\n",
    "    return result + A[i:] + B[j:]\n",
    "\n",
    "def loopMergeSort(L):\n",
    "    if len(L) < 1:\n",
    "        return L\n",
    "    Ls = [[x] for x in L]\n",
    "    inter = [Ls]\n",
    "    while len(Ls) > 1:\n",
    "        Ls2 = []\n",
    "        for i in range(0, len(Ls) - 1, 2):\n",
    "            Ls2.append(merge(Ls[i], Ls[i + 1]))\n",
    "        if len(Ls) %2 == 1:\n",
    "            Ls2.append(Ls[-1])\n",
    "        Ls = Ls2\n",
    "        inter.append(Ls)\n",
    "    return Ls[0], inter"
   ]
  },
  {
   "cell_type": "code",
   "execution_count": 12,
   "metadata": {},
   "outputs": [],
   "source": [
    "N = 10000\n",
    "data = [random() for i in range(N)]\n",
    "_, inter = loopMergeSort(data)\n",
    "k = 0\n",
    "\n",
    "for arr in inter:\n",
    "    plt.figure(figsize=(4,4))\n",
    "    total = 0\n",
    "    for sub in arr:\n",
    "        plt.bar(range(total, total + len(sub)), sub)\n",
    "        total += len(sub)\n",
    "    plt.title(f\"{k}-th frame\")\n",
    "\n",
    "    plt.savefig(f'gifs/tmp/{k}.png')\n",
    "    plt.clf()\n",
    "    plt.close()\n",
    "    k += 1\n",
    "\n",
    "with imageio.get_writer('gifs/merge.gif', mode='I') as writer:\n",
    "    for filename in [f'gifs/tmp/{i}.png' for i in range(k)]:\n",
    "        image = imageio.imread(filename)\n",
    "        writer.append_data(image)\n",
    "dir = 'gifs/tmp'\n",
    "for f in os.listdir(dir):\n",
    "    os.remove(os.path.join(dir, f))"
   ]
  }
 ],
 "metadata": {
  "kernelspec": {
   "display_name": "pyML2",
   "language": "python",
   "name": "python3"
  },
  "language_info": {
   "codemirror_mode": {
    "name": "ipython",
    "version": 3
   },
   "file_extension": ".py",
   "mimetype": "text/x-python",
   "name": "python",
   "nbconvert_exporter": "python",
   "pygments_lexer": "ipython3",
   "version": "3.9.6"
  },
  "orig_nbformat": 4,
  "vscode": {
   "interpreter": {
    "hash": "2d705a3254ba13857b8223e946b59c349eb97b3023c3bbac6bccd61d74bd64dd"
   }
  }
 },
 "nbformat": 4,
 "nbformat_minor": 2
}
