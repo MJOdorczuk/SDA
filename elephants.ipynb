{
 "cells": [
  {
   "cell_type": "markdown",
   "metadata": {},
   "source": [
    "## Słonie\n",
    "\n",
    "W Bajtockim Zoo ma się za chwilę odbyć parada, w której uczestniczyć będą wszystkie znajdujące się w nim słonie. Pracownicy zoo zachęcili już zwierzęta do ustawienia się w jednym rzędzie, gdyż zgodnie z zarządzeniem dyrektora zoo taka powinna być początkowa figura parady.\n",
    "\n",
    "Niestety, na miejsce przybył sam dyrektor i zupełnie nie spodobała mu się wybrana przez pracowników kolejność słoni. Dyrektor zaproponował kolejność, w której według niego zwierzęta będą się najlepiej prezentować, i wydał pracownikom polecenie poprzestawiania słoni zgodnie z tą propozycją.\n",
    "\n",
    "Aby uniknąć nadmiernego chaosu tuż przed paradą, pracownicy postanowili przestawiać słonie, zamieniając miejscami kolejno pewne pary słoni. Przestawiane zwierzęta nie muszą sąsiadować ze sobą w rzędzie. Wysiłek potrzebny do nakłonienia słonia do ruszenia się z miejsca jest wprost proporcjonalny do jego masy, a zatem wysiłek związany z zamianą miejscami dwóch słoni o masach $m_1$ oraz $m_2$ można oszacować przez $m_1 + m_2$. Jakim minimalnym wysiłkiem pracownicy mogą poprzestawiać słonie tak, aby usatysfakcjonować dyrektora?\n",
    "\n",
    "Napisz program, który:\n",
    " * wczyta ze standardowego wejścia masy wszystkich słoni z zoo oraz aktualną i docelową kolejność słoni w rzędzie,\n",
    " * wyznaczy taki sposób poprzestawiania słoni, który prowadzi od kolejności początkowej do docelowej i minimalizuje sumę wysiłków związanych ze wszystkimi wykonanymi zamianami pozycji słoni,\n",
    " * wypisze sumę wartości tych wysiłków na standardowe wyjście."
   ]
  },
  {
   "cell_type": "markdown",
   "metadata": {},
   "source": [
    "### Wejście\n",
    "\n",
    "Pierwszy wiersz wejścia zawiera jedną liczbę całkowitą $n$ ($2 \\leq n \\leq 1 000 000$), oznaczającą liczbę słoni w Bajtockim Zoo. Dla uproszczenia zakładamy, że słonie są ponumerowane od $1$ do $n$. Drugi wiersz zawiera $n$ liczb całkowitych $b_i$ ($100 \\leq b_i \\leq 500$ dla $1 \\leq i \\leq n$), pooddzielanych pojedynczymi odstępami i oznaczających masy poszczególnych słoni (wyrażone w kilogramach).\n",
    "\n",
    "Trzeci wiersz wejścia zawiera $n$ różnych liczb całkowitych ai ($1 \\leq a_i \\leq n$), pooddzielanych pojedynczymi odstępami i oznaczających numery kolejnych słoni w aktualnym ustawieniu. Czwarty wiersz zawiera $n$ różnych liczb całkowitych $b_i$ ($1 \\leq b_i \\leq n$), pooddzielanych pojedynczymi odstępami i oznaczających numery kolejnych słoni w ustawieniu proponowanym przez dyrektora zoo. Możesz założyć, że ustawienia reprezentowane przez ciągi ($a_i$) oraz ($b_i$) są różne."
   ]
  },
  {
   "cell_type": "markdown",
   "metadata": {},
   "source": [
    "### Wyjście\n",
    "\n",
    "Pierwszy i jedyny wiersz wyjścia powinien zawierać jedną liczbę całkowitą, oznaczającą minimalny łączny wysiłek związany z poprzestawianiem słoni, w wyniku którego z ustawienia reprezentowanego przez ($a_i$) uzyskuje się ustawienie ($b_i$)."
   ]
  },
  {
   "cell_type": "markdown",
   "metadata": {},
   "source": [
    "### Losowe dane wejściowe"
   ]
  },
  {
   "cell_type": "code",
   "execution_count": 1,
   "metadata": {},
   "outputs": [],
   "source": [
    "import numpy as np\n",
    "\n",
    "N = 1000000\n",
    "\n",
    "masses = np.random.randint(1, 1000000, N, 'int64')\n",
    "old_order = np.random.permutation(N)\n",
    "new_order = np.random.permutation(N)"
   ]
  },
  {
   "cell_type": "code",
   "execution_count": 2,
   "metadata": {},
   "outputs": [
    {
     "data": {
      "text/plain": [
       "array([114361, 664707, 458444, ...,  29855, 298850, 933394], dtype=int64)"
      ]
     },
     "metadata": {},
     "output_type": "display_data"
    },
    {
     "data": {
      "text/plain": [
       "array([112735, 932098, 594675, ..., 799722, 746105, 944265])"
      ]
     },
     "metadata": {},
     "output_type": "display_data"
    },
    {
     "data": {
      "text/plain": [
       "array([481647, 558320, 980862, ..., 505765, 412338, 822427])"
      ]
     },
     "metadata": {},
     "output_type": "display_data"
    }
   ],
   "source": [
    "display(masses)\n",
    "display(old_order)\n",
    "display(new_order)"
   ]
  },
  {
   "cell_type": "markdown",
   "metadata": {},
   "source": [
    "### Uporządkowanie danych\n",
    "\n",
    "Sortujemy nowy porządek `new_order` i masy `masses` względem starego porządku `old_order` w celu szybkiego operowania na nich."
   ]
  },
  {
   "cell_type": "code",
   "execution_count": 3,
   "metadata": {},
   "outputs": [],
   "source": [
    "perm = np.argsort(old_order)\n",
    "sorted_order = new_order[perm]\n",
    "sorted_masses = masses[perm]"
   ]
  },
  {
   "cell_type": "code",
   "execution_count": 4,
   "metadata": {},
   "outputs": [
    {
     "data": {
      "text/plain": [
       "array([451916, 146471, 664935, ..., 975210, 171704,  45649])"
      ]
     },
     "execution_count": 4,
     "metadata": {},
     "output_type": "execute_result"
    }
   ],
   "source": [
    "sorted_order"
   ]
  },
  {
   "cell_type": "markdown",
   "metadata": {},
   "source": [
    "### Cykle\n",
    "\n",
    "Dla każdego elementu znajdujemy jego następnik, jego następnik i tak dalej aż do momentu, gdy trafimy na pierwszy element z cyklu. Zapamiętujemy ten cykl, a jego elementy zamieniamy na $-1$ w celu zapobiegnięcia ponownego przejścia."
   ]
  },
  {
   "cell_type": "code",
   "execution_count": 5,
   "metadata": {},
   "outputs": [
    {
     "data": {
      "text/plain": [
       "[array([     0, 451916, 334481, ..., 477943, 131213, 600910]),\n",
       " array([     1, 146471, 161486, ..., 597290, 199573, 255027]),\n",
       " array([     5, 312247, 618641, ..., 448744, 278848, 323185]),\n",
       " array([     7,  19123, 421287, ...,  66249, 754295, 472766]),\n",
       " array([    10, 110729,  74758, ...,  55819,    969, 246126]),\n",
       " array([    12,  61934, 979374, ..., 430665, 396122, 861005]),\n",
       " array([    47, 987610, 656265, ..., 745260, 142302, 401905]),\n",
       " array([    53, 120945, 873368, ...,  83303, 566339, 162303]),\n",
       " array([   321, 262066, 284055, ..., 932846, 586084, 140369]),\n",
       " array([  1284, 574751, 823627, 686221, 475789, 232568, 212117, 473512,\n",
       "        397040, 879669, 922692, 406017, 288169, 305594, 128861, 652707,\n",
       "        654155, 460958,  72297, 667445, 239914, 521148,  73376, 701822,\n",
       "        534126, 158817, 222269,  14930, 272005, 233952, 217648, 254513,\n",
       "        806042, 157866, 818872, 817295, 367304, 788692, 966974, 425134,\n",
       "        548301, 563367,  94616, 605674, 388110, 349177, 357688, 991221,\n",
       "        661310, 439464, 218893, 872647, 521450,  41147, 769003, 821908,\n",
       "        311926, 427600, 955102, 417442, 999548, 750211, 782821, 166829,\n",
       "        388558, 715024, 911433, 296316, 650316, 208389, 355433, 911956,\n",
       "        628622, 475410, 808250, 114903, 732060, 398115, 868384, 355276,\n",
       "        674135,  68462, 993717, 856514, 102586, 526572, 554177, 301061,\n",
       "        396219, 535578, 780173, 726221, 245358, 857575, 177505,  59779,\n",
       "        869909, 978028, 776887, 418409, 158464, 794794, 304602, 701451,\n",
       "        809927,  75427, 222103, 140417, 155552, 670424,  85048, 664178,\n",
       "        915249, 981388, 323304, 278185, 138226, 736651, 191250, 603070,\n",
       "        735203, 482193, 272984, 598318, 531830, 973773, 139236, 588263,\n",
       "        399968, 650680, 963661, 815546,  13319, 334565, 930694, 536144,\n",
       "        133159, 700742, 590552, 211544, 126197, 490358, 646026, 119000,\n",
       "        122817, 391542, 320735, 558381, 789760, 386579, 307022, 247682,\n",
       "        146510,  41136, 402885, 905249, 717117, 767802, 673770, 257811,\n",
       "        683195, 431959, 565873, 256033, 831257, 841801, 152451, 804360,\n",
       "        111562,  73312, 981548, 551889, 697037,  96589, 731755, 306455,\n",
       "        932402, 830124, 484680, 753206, 774359, 500111, 534966, 272971,\n",
       "        650301, 721986, 795997,  14425, 631127, 244913, 491503,  83364,\n",
       "        685294, 842929, 891857, 805776, 877509, 887015, 219826, 901993,\n",
       "         85051, 235713, 331727, 593661, 787623, 407627, 131831, 261963,\n",
       "         88475, 402728, 619552, 110473, 855261, 453823, 111086, 384502,\n",
       "        685690, 538514,  48886, 938248, 985277, 907493, 736055, 197572,\n",
       "        811628, 746133, 424195, 903894, 992651, 264794, 602121, 499722,\n",
       "        963808, 864792, 975683, 273425, 608407, 522567, 851381, 556009,\n",
       "        918451, 275974, 592795, 498931, 977762, 838856, 834225, 573554,\n",
       "         76166, 923380, 544902, 366076, 524164, 121856, 287138, 824741,\n",
       "        455822, 785810, 314105,  18642, 758944, 895103,  85521, 171673,\n",
       "        926910, 669645, 714322, 820103, 448076, 439350, 524794, 935512,\n",
       "         40864, 305871, 352705, 819548, 445794,  44903, 833539, 806310,\n",
       "         61499, 629016,   9081, 952648, 377336, 612033, 510397, 868949,\n",
       "        617850,  26442, 940543, 310306, 964109, 342605, 762245, 681433,\n",
       "        576205,  42078, 872487, 197696, 818084, 407345, 922703, 321697,\n",
       "        372294,  90324, 335184, 297596, 259776, 440035,  41295, 702336,\n",
       "        913316, 715843, 618124, 772113,  39138, 516326, 602117, 993190,\n",
       "        659458, 750200, 321092,  69251, 416136, 617159, 903724, 943432,\n",
       "        330088, 708478, 882317, 416310, 457616, 193824,  97122, 110059,\n",
       "        942397, 444789, 369326, 390173, 709990, 938477, 482944, 569139,\n",
       "        225048, 398187, 579924, 734504,  88595, 720586, 456339, 467354,\n",
       "        386998, 465351, 850928, 690544, 452364, 924217, 791498, 939907,\n",
       "        895700, 146028, 403092, 353918, 180226, 835595, 162355, 241220,\n",
       "        270510,   9406, 299707,  41321, 499868, 374553, 438538, 931482,\n",
       "         11190, 150781, 243746, 232995, 882862, 829468, 407626, 446063,\n",
       "        267844, 847013, 851144, 318457, 794111, 937038, 317045, 631292,\n",
       "        567435, 454444, 297863, 384774, 862740, 509939, 611283, 233129,\n",
       "        137654, 467555, 212758, 921810, 755796, 505249, 121047, 552616,\n",
       "        642929, 390982, 887958, 261987, 188990, 461751, 239814, 549229,\n",
       "         57502, 347528, 887159,  51266, 269660,  90699, 555093,  40371,\n",
       "        398741, 270455, 513749, 730471, 986426, 867233,  26900, 309890,\n",
       "        242584, 670478, 699687, 536125, 868305, 392496, 646542, 953055,\n",
       "        902121, 630206, 626119, 337386, 652853, 235141, 267846, 546805,\n",
       "         96149, 212295, 686450, 330081, 990054, 873690, 422214,  62453,\n",
       "        318108, 838625,  36267, 425280, 209485,  62128, 659173, 121458,\n",
       "        349678]),\n",
       " array([  2114, 890338, 479168, 562993, 607818, 134574, 941859,  65581,\n",
       "        689748, 831856, 103749, 265852, 116722,  71525, 304564, 267820,\n",
       "        451497, 364281, 282908, 533234]),\n",
       " array([  2208,  86164, 310900, 556968, 127825, 407144, 214192, 100390,\n",
       "        534275, 887325, 936286, 254799, 328498, 939085, 505587, 764678,\n",
       "        797690, 913773,  56594, 525790, 149898, 356355, 503585, 796832,\n",
       "        161017, 280477,  44455, 844391, 810541, 832985, 832590, 161840,\n",
       "         56866, 713741, 663969, 242841, 210926, 730844, 435844, 349979,\n",
       "        134744, 358354, 186043, 321210, 909531, 431800, 159542, 462032,\n",
       "        695336, 380969, 674120, 403308, 112434, 201925, 245563, 682917,\n",
       "        429697, 570125, 207751, 299320, 539090, 665302, 455529, 295276,\n",
       "        491684, 253173, 211322, 742986, 507039, 405301, 417518, 247049,\n",
       "        489399, 604464, 289264, 778708, 499456, 307496, 287595, 621244,\n",
       "        950934, 713306, 486657, 624999, 327167, 626074, 363119, 854673,\n",
       "        493560, 965423, 472382,  35661, 760455, 318213, 525565, 220023,\n",
       "        355637, 677048, 745286, 806639, 687596, 143867, 161519, 668220,\n",
       "        299260, 500163, 390165, 242026, 337852, 120858, 311175, 513646,\n",
       "        742159, 458434,  50333,  71085, 443663, 374548, 203895, 569378,\n",
       "        346812,  50136, 854712, 731911, 824329, 403457, 285190, 587786,\n",
       "        810810, 764191, 380509, 178847, 736310, 806060, 393917,  33027,\n",
       "        675270, 418875,  92464, 629181, 501308,  43460, 949381, 618351,\n",
       "        450925, 234446, 322893, 220550, 110125, 283027, 628085, 221766,\n",
       "        256778, 396081,  13511, 564219, 186876, 183053,  53452,  36457,\n",
       "        798445, 176983, 645103,  43349, 486840, 791987, 181141, 879441,\n",
       "        634399, 427203, 596768, 689169, 804460, 942847, 878896, 212155,\n",
       "        561279, 874817, 451584, 999115, 147020, 188971, 352588, 722145,\n",
       "        565131, 691846,  60784, 166149, 167814, 481224, 656552,  61785,\n",
       "        473644, 431296, 979177, 405268, 143222, 417877, 733852,  93287,\n",
       "        220651, 557068, 632819, 130603,  46376, 988227, 373649, 560682,\n",
       "        459440, 971439, 750312, 584219, 172654,   5401, 165249, 838248,\n",
       "         45683, 613450, 442694, 243133, 730018, 500090, 349606, 138191,\n",
       "        820052, 758177, 136103, 449144, 739416, 804075,  86467, 719144,\n",
       "        770760, 116223, 263135, 776105, 683715, 665100, 881659, 177537,\n",
       "        526093, 836115, 811347, 322652, 653790, 157961, 698961, 236291,\n",
       "        326343, 684790, 831745,  61600, 741736, 806767, 735404, 605011,\n",
       "        173672,  11793, 561887, 173385, 832542,  86859, 953649, 853159,\n",
       "        679656, 120001, 796706, 992886, 550635, 628673, 216417, 852347,\n",
       "        915670, 730203, 907054, 473621, 291583,  20971,  49487, 724850,\n",
       "        646355, 141084, 600776, 397422, 504619, 280982, 610775,  86889,\n",
       "        610832, 231276, 128111, 781245, 984192, 406479, 459891, 801712,\n",
       "        734713, 370201, 631749,  11712, 370509, 421749, 560209, 485356,\n",
       "         13093, 436065, 497245, 497537,  69384, 947269, 915044, 266281,\n",
       "        345801, 240678, 789635, 209596, 570551, 797814, 139724, 455044,\n",
       "        541829,  51654,  75533, 252394, 278402, 754767, 485039, 861749,\n",
       "        585195, 766651, 358254, 307676, 245776, 495241, 779909,  43940,\n",
       "        889288, 262242, 927691, 829161, 143737, 973638, 724912, 443664,\n",
       "        377528, 503768, 794006, 370098, 842557,  59697,  34992, 188292,\n",
       "        659270, 682304, 986186, 114810, 687099, 531545, 611854,  18591,\n",
       "        119850, 120597, 478290, 618566, 992718, 350992, 545276,  60662,\n",
       "        791088, 347400,  51658,  57529, 523950, 567833, 576098, 172360,\n",
       "        212834, 204658,  13308, 295759, 923573, 700534, 357710,  25955,\n",
       "         86417, 934680, 857217, 623235, 517503, 621039, 572758, 428896,\n",
       "        685373, 492089, 490901,  99568, 469714, 426024, 806893, 238533,\n",
       "        901425, 492299, 961358, 702848, 481623, 235551, 184365, 740262,\n",
       "        903608, 375414, 528855, 865134,  68771, 208190, 381225,   3993,\n",
       "        393286, 218632, 202465, 822373, 688180, 842992, 693791, 820700,\n",
       "        424997,  67172, 330891, 886945, 852121, 784048, 469923, 728995,\n",
       "        882526, 507034, 510139, 408039, 970163,  38829, 986808, 631475,\n",
       "        427542, 160794,  67428, 318273, 502082, 481091, 589322, 376120,\n",
       "        699017,   6499, 620830, 791420, 960696, 223183, 672707, 416839,\n",
       "        437626, 927374, 145374, 564820, 114237, 708309, 765183, 866807,\n",
       "        169241, 488833,  66454,  35421, 811810,  50643, 928272, 774501,\n",
       "        724343, 142237, 588277, 563941,  88553,  43929, 926734, 444810,\n",
       "        118573, 133759, 526442, 685278, 591492, 919277, 101640, 610029,\n",
       "        740287, 547995, 989212, 511409, 915700, 734709, 322043, 431093,\n",
       "        977432, 751212, 138024, 483274, 124271, 192151, 118334, 522363,\n",
       "        179385, 442776, 779184, 534441, 982250, 879114, 173532,  21033,\n",
       "        189679, 544215, 573637, 593809, 642805, 662601, 312154, 262642,\n",
       "        456127, 440626, 983735, 711200, 328786, 892533, 430876, 681792,\n",
       "        418187, 127478, 719856, 669720, 601378, 737368, 858490, 970870,\n",
       "        147772, 780471, 763002, 441048, 301817, 751102, 711274, 116075,\n",
       "          8666, 839117, 866356, 626330, 550025, 989808, 331860, 775269,\n",
       "        971696, 276003, 618335,  50660, 330963, 128910, 438874, 603864,\n",
       "        889389, 196019, 851153, 715122, 617245, 123605, 693656, 457205,\n",
       "        515183, 551542, 341718, 671526, 861011, 495615, 198598, 966078,\n",
       "        782756, 875410, 708590, 719105, 670384, 183295, 712181, 719776,\n",
       "        896832, 929860,  84089, 452049, 122466, 634768, 486360, 434973,\n",
       "        531940, 321692, 570842, 347430, 948503, 416885, 704101]),\n",
       " array([  3241, 458888, 415291, 215058, 669076, 765431, 408214, 103122,\n",
       "         35858, 382250, 389546, 751673, 222775, 632409, 593218]),\n",
       " array([ 10941, 264065, 586938, 724074, 972214, 713034, 874307, 486402,\n",
       "        364654, 234440, 404391, 205833, 808213]),\n",
       " array([ 12278, 588487, 380998, 123104, 193704, 351293, 833803, 662162,\n",
       "        423672, 111534, 762281, 961832, 438015, 865086, 279522, 615552,\n",
       "        849248, 229309, 769186, 567152, 123800, 724376, 594643, 697163,\n",
       "        409437]),\n",
       " array([ 43623, 560307, 375235, 999081, 291777, 765592,  62824, 446923,\n",
       "        364984, 225510, 206119, 752717, 234262, 368932, 301277, 437931,\n",
       "        477847, 679288, 615753, 260135, 285539, 564568, 793238, 228940,\n",
       "        406251, 227211, 532936, 487777, 727292,  99051, 297731, 819282,\n",
       "        578145, 859755]),\n",
       " array([ 52091, 261835, 916594, 461804, 238677, 412743, 244943,  87796,\n",
       "        183076, 420226, 480179, 316474, 323976, 444608, 568862, 246451,\n",
       "        870228, 838210, 662873,  74715, 262094, 443747, 477905, 822276,\n",
       "        814081, 700484, 247754, 767106, 521649, 133466, 228512, 292978,\n",
       "         99926]),\n",
       " array([484180])]"
      ]
     },
     "execution_count": 5,
     "metadata": {},
     "output_type": "execute_result"
    }
   ],
   "source": [
    "cycles = []\n",
    "tmp_ord = np.copy(sorted_order)\n",
    "for i in range(N):\n",
    "    if tmp_ord[i] >= 0:\n",
    "        cycle = [i]\n",
    "        j = tmp_ord[i]\n",
    "        tmp_ord[i] = -1\n",
    "        while j != i:\n",
    "            cycle.append(j)\n",
    "            next = tmp_ord[j]\n",
    "            tmp_ord[j] = -1\n",
    "            j = next\n",
    "        cycles.append(np.array(cycle))\n",
    "\n",
    "cycles"
   ]
  },
  {
   "cell_type": "markdown",
   "metadata": {},
   "source": [
    "### Rozwiązywanie cykli\n",
    "\n",
    "Każdy cykl możemy rozwiązać na dwa sposoby. Albo znajdujemy najlżejszego słonia w cyklu i zamieniamy go ze słoniem, który chce się dostać na jego miejsce, po tym z kolejnym takim słoniem i tak dalej aż do ułożenia wszystkich słoni na swoim miejscu, albo zamieniamy tego słonia z ogólnie najlżejszym i po rozwiązaniu cyklu zamieniamy je z powrotem.\n",
    "\n",
    "Niezależnie od metody wszystkie słonie poza najlżejszymi muszą ruszyć się raz, stąd `np.sum(sorted_masses[cycle]) - sorted_masses[local_min]`. W przypadku pierwszej metody najlżejszy słoń z cyklu maszeruje $N - 1$ razy, w przypadku drugiej zaś, to ogólnie najlżejszy słoń maszeruje owe $N - 1$ razy plus zamieniamy te dwa słonie ze sobą dwukrotnie.\n",
    "\n",
    "Po obliczeniu wyników z obu metod wybieramy tańszy wariant."
   ]
  },
  {
   "cell_type": "code",
   "execution_count": 6,
   "metadata": {},
   "outputs": [],
   "source": [
    "global_min = np.argmin(sorted_masses)\n",
    "total_cost = 0\n",
    "\n",
    "for cycle in cycles:\n",
    "    if len(cycle) > 1:\n",
    "        local_min = np.argmin(sorted_masses[cycle])\n",
    "        rest_movement = np.sum(sorted_masses[cycle]) - sorted_masses[local_min]\n",
    "        local_movement = (len(cycle) - 1) * sorted_masses[local_min]\n",
    "        global_movement = (len(cycle) + 1) * sorted_masses[global_min] + 2 * sorted_masses[local_min]\n",
    "        total_cost += rest_movement + min(local_movement, global_movement)"
   ]
  },
  {
   "cell_type": "code",
   "execution_count": 7,
   "metadata": {},
   "outputs": [
    {
     "data": {
      "text/plain": [
       "499499942823"
      ]
     },
     "execution_count": 7,
     "metadata": {},
     "output_type": "execute_result"
    }
   ],
   "source": [
    "total_cost"
   ]
  }
 ],
 "metadata": {
  "kernelspec": {
   "display_name": "Python 3.9.6 ('pyML')",
   "language": "python",
   "name": "python3"
  },
  "language_info": {
   "codemirror_mode": {
    "name": "ipython",
    "version": 3
   },
   "file_extension": ".py",
   "mimetype": "text/x-python",
   "name": "python",
   "nbconvert_exporter": "python",
   "pygments_lexer": "ipython3",
   "version": "3.9.6"
  },
  "orig_nbformat": 4,
  "vscode": {
   "interpreter": {
    "hash": "43dbf5479a0fc87de1ee7ded1cd5b445b0b8a7634e32fcae97e87d9cabed96b1"
   }
  }
 },
 "nbformat": 4,
 "nbformat_minor": 2
}
