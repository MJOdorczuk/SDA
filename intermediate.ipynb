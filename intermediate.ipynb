{
 "cells": [
  {
   "cell_type": "markdown",
   "metadata": {},
   "source": [
    "# Python Średniozaawansowany"
   ]
  },
  {
   "cell_type": "markdown",
   "metadata": {},
   "source": [
    "#### Instrukcja instalacji VS Code <a class=\"anchor\" id=\"install\"></a>\n",
    "\n",
    " - Zainstaluj narzędzia [Python](https://www.python.org/downloads/).\n",
    "\n",
    " - Pobierz [VS Code](https://code.visualstudio.com/).\n",
    "\n",
    " - Zainstaluj rozszerzenie [Python](https://marketplace.visualstudio.com/items?itemName=ms-python.python).\n",
    "\n",
    " - Zainstaluj rozszerzenie [Jupyter](https://marketplace.visualstudio.com/items?itemName=ms-toolsai.jupyter).\n",
    "\n",
    "  - Zainstaluj rozszerzenie [Git Extension Pack](https://marketplace.visualstudio.com/items?itemName=donjayamanne.git-extension-pack)."
   ]
  },
  {
   "cell_type": "markdown",
   "metadata": {},
   "source": [
    "#### Potrzebne importy\n",
    "\n",
    " - [matplotlib](https://matplotlib.org/) - wymagana instalacja\n",
    "    * [pyplot](https://matplotlib.org/stable/tutorials/introductory/pyplot.html)\n",
    " - [numpy](https://numpy.org/) - wymagana instalacja\n",
    " - [traceback](https://docs.python.org/3/library/traceback.html) - nieobsłużone wyjątki zabijają jądro ipynb, stąd drukujemy treść wyjątku ręcznie zamiast pozostawiać to środowisku\n",
    " - os\n"
   ]
  },
  {
   "cell_type": "code",
   "execution_count": 1,
   "metadata": {},
   "outputs": [],
   "source": [
    "from matplotlib import pyplot as plt\n",
    "import numpy as np\n",
    "import traceback\n",
    "import os"
   ]
  },
  {
   "cell_type": "markdown",
   "metadata": {},
   "source": [
    "## Wyjątki"
   ]
  },
  {
   "cell_type": "markdown",
   "metadata": {},
   "source": [
    "### [Wyjątki](https://en.wikipedia.org/wiki/Exception_handling) są zdarzeniami, które pojawiają się podczas wykonania programu i przerywają jego normalny przebieg. Technicznie są to obiekty reprezentujące dany błąd."
   ]
  },
  {
   "cell_type": "code",
   "execution_count": 2,
   "metadata": {},
   "outputs": [
    {
     "name": "stderr",
     "output_type": "stream",
     "text": [
      "Traceback (most recent call last):\n",
      "  File \"C:\\Users\\micha\\AppData\\Local\\Temp/ipykernel_19020/3784231073.py\", line 4, in <module>\n",
      "    print(a/b)\n",
      "ZeroDivisionError: division by zero\n"
     ]
    }
   ],
   "source": [
    "try:\n",
    "    a = 5\n",
    "    b = 0\n",
    "    print(a/b)\n",
    "except:\n",
    "    traceback.print_exc()"
   ]
  },
  {
   "cell_type": "markdown",
   "metadata": {},
   "source": [
    "##### Wszystkie wbudowane, nie opuszczające systemu [wyjątki](https://docs.python.org/3/library/exceptions.html) dziedziczą po klasie `Exception`. Wyjątki tworzone przez programistę również powinny dziedziczyć po tej klasie."
   ]
  },
  {
   "cell_type": "markdown",
   "metadata": {},
   "source": [
    "##### Najczęściej spotykane wyjątki to\n",
    "\n",
    " - `AssertionError` - niespełnienie warunku operacji [assert](https://docs.python.org/3/reference/simple_stmts.html#the-assert-statement)\n",
    " - `AttributeError` - odwołanie do nieistniejącego atrybutu\n",
    " - `IOError` - błąd operacji wejścia/wyjścia\n",
    " - `IndexError` - odwołanie do kolekcji za pomocą indeksu poza zakresem\n",
    " - `ImportError` - problem z załadowaniem modułu\n",
    " - `KeyError` - odwołanie do słownika nieistniejącym kluczem\n",
    " - `ValueError` - przekazanie do funkcji argumentu o niepoprawnej wartości\n",
    " - `ZeroDivisionError` - dzielenie przez zero"
   ]
  },
  {
   "cell_type": "markdown",
   "metadata": {},
   "source": [
    "### Obsługa wyjątków"
   ]
  },
  {
   "cell_type": "markdown",
   "metadata": {},
   "source": [
    "##### Wyjątki obsługujemy za pomocą słów kluczowych:\n",
    " - `try` - poprzedza obszar sprawdzany pod kątem wyrzucania wyjątków,\n",
    " - `except` - poprzedza obszar obsługi wyłapanego wyjątku,\n",
    " - `finally` - poprzedza obszar, który jest wykonywany pod koniec obsługi, niezależnie od tego, czy wyjątek został wyrzucony czy też nie\n",
    " - `raise` - wyrzuca zadany wyjątek"
   ]
  },
  {
   "cell_type": "code",
   "execution_count": 3,
   "metadata": {},
   "outputs": [
    {
     "name": "stdout",
     "output_type": "stream",
     "text": [
      "0.2661037403294282   60.20334027498311\n",
      "0.9436220030648248   11.853650051410039\n",
      "0.4223042483507321   31.026584511904975\n",
      "0.03292230618061642   0\n"
     ]
    },
    {
     "name": "stderr",
     "output_type": "stream",
     "text": [
      "Traceback (most recent call last):\n",
      "  File \"C:\\Users\\micha\\AppData\\Local\\Temp/ipykernel_19020/337446643.py\", line 5, in <module>\n",
      "    result = 10/(max(0.1,i) - 0.1)\n",
      "ZeroDivisionError: float division by zero\n",
      "\n",
      "During handling of the above exception, another exception occurred:\n",
      "\n",
      "Traceback (most recent call last):\n",
      "  File \"C:\\Users\\micha\\AppData\\Local\\Temp/ipykernel_19020/337446643.py\", line 7, in <module>\n",
      "    raise ValueError(\"Value lower than 0.1\")\n",
      "ValueError: Value lower than 0.1\n"
     ]
    }
   ],
   "source": [
    "try:\n",
    "    for i in np.random.random(100):\n",
    "        result = 0\n",
    "        try:\n",
    "            result = 10/(max(0.1,i) - 0.1)\n",
    "        except:\n",
    "            raise ValueError(\"Value lower than 0.1\")\n",
    "        finally:\n",
    "            print(i, \" \", result)\n",
    "except:\n",
    "    traceback.print_exc()\n"
   ]
  },
  {
   "cell_type": "markdown",
   "metadata": {},
   "source": [
    "##### Do każdego bloku `try` możemy przypisać wiele bloków `except`."
   ]
  },
  {
   "cell_type": "code",
   "execution_count": 4,
   "metadata": {},
   "outputs": [
    {
     "name": "stdout",
     "output_type": "stream",
     "text": [
      "0.2\n",
      "Oopsie, whoopsie. You tried to divide by zero\n",
      "0.16666666666666666\n",
      "What did just happened here?\n",
      "0.5\n",
      "I went too far\n"
     ]
    }
   ],
   "source": [
    "from decimal import DivisionByZero\n",
    "\n",
    "\n",
    "l = [5, 0, 6, 2]\n",
    "\n",
    "for i in range(5):\n",
    "    try:\n",
    "        a = 1/l[i]\n",
    "        print(a)\n",
    "        assert a >= 0.2\n",
    "    except ZeroDivisionError:\n",
    "        print(\"Oopsie, whoopsie. You tried to divide by zero\")\n",
    "    except (IndexError, KeyError):\n",
    "        print(\"I went too far\")\n",
    "    except:\n",
    "        print(\"What did just happened here?\")"
   ]
  },
  {
   "cell_type": "markdown",
   "metadata": {},
   "source": [
    "##### Klauzulę `finally` zazwyczaj używamy, gdy po wykonaniu zadania musimy zwolnić pewne zasoby, niezależnie, czy procedura powiodła się czy nie. Na przykład, obsługa pliku"
   ]
  },
  {
   "cell_type": "code",
   "execution_count": 5,
   "metadata": {},
   "outputs": [
    {
     "name": "stdout",
     "output_type": "stream",
     "text": [
      "File is not readable\n"
     ]
    }
   ],
   "source": [
    "dummy_file_name = \"dummy.file\"\n",
    "\n",
    "try:\n",
    "    file = open(dummy_file_name, \"w\")\n",
    "    print(file.read())\n",
    "except:\n",
    "    print(\"File is not readable\")\n",
    "finally:\n",
    "    file.close()\n",
    "\n",
    "if os.path.exists(dummy_file_name):\n",
    "    os.remove(dummy_file_name)\n"
   ]
  },
  {
   "cell_type": "markdown",
   "metadata": {},
   "source": [
    "##### Zamiast tego możemy użyć wyrażenia [with](https://docs.python.org/3/reference/compound_stmts.html#the-with-statement), które obsługuje obiekty posiadające metody `__enter__` i `__exit__`"
   ]
  },
  {
   "cell_type": "code",
   "execution_count": 6,
   "metadata": {},
   "outputs": [],
   "source": [
    "dummy_file_name = \"dummy.file\"\n",
    "\n",
    "\n",
    "with open(dummy_file_name, \"w\") as file:\n",
    "    file.write(\"Alamakotaasierotkamarysia\")\n",
    "\n",
    "if os.path.exists(dummy_file_name):\n",
    "    os.remove(dummy_file_name)\n"
   ]
  },
  {
   "cell_type": "markdown",
   "metadata": {},
   "source": [
    "### [Rzucanie wyjątków](https://docs.python.org/3/tutorial/errors.html#raising-exceptions)"
   ]
  },
  {
   "cell_type": "markdown",
   "metadata": {},
   "source": [
    "##### W celu rzucenia wyjątku wykorzystujemy wyrażenie `raise`."
   ]
  },
  {
   "cell_type": "code",
   "execution_count": 7,
   "metadata": {},
   "outputs": [
    {
     "name": "stderr",
     "output_type": "stream",
     "text": [
      "Traceback (most recent call last):\n",
      "  File \"C:\\Users\\micha\\AppData\\Local\\Temp/ipykernel_19020/3287756808.py\", line 2, in <module>\n",
      "    raise Exception(\"My random exception\")\n",
      "Exception: My random exception\n"
     ]
    }
   ],
   "source": [
    "try:\n",
    "    raise Exception(\"My random exception\")\n",
    "except:\n",
    "    traceback.print_exc()"
   ]
  },
  {
   "cell_type": "markdown",
   "metadata": {},
   "source": [
    "### Tworzenie własnych wyjątków"
   ]
  },
  {
   "cell_type": "code",
   "execution_count": 8,
   "metadata": {},
   "outputs": [
    {
     "name": "stderr",
     "output_type": "stream",
     "text": [
      "Traceback (most recent call last):\n",
      "  File \"C:\\Users\\micha\\AppData\\Local\\Temp/ipykernel_19020/1260564153.py\", line 5, in <module>\n",
      "    raise CustomException1(\"Some custom exception\")\n",
      "CustomException1: Some custom exception\n",
      "Traceback (most recent call last):\n",
      "  File \"C:\\Users\\micha\\AppData\\Local\\Temp/ipykernel_19020/1260564153.py\", line 14, in <module>\n",
      "    raise CustomException2()\n",
      "CustomException2: My hardcoded message\n"
     ]
    }
   ],
   "source": [
    "class CustomException1(Exception):\n",
    "    pass\n",
    "\n",
    "try:\n",
    "    raise CustomException1(\"Some custom exception\")\n",
    "except:\n",
    "    traceback.print_exc()\n",
    "\n",
    "class CustomException2(Exception):\n",
    "    def __init__(self) -> None:\n",
    "        super().__init__(\"My hardcoded message\")\n",
    "\n",
    "try:\n",
    "    raise CustomException2()\n",
    "except:\n",
    "    traceback.print_exc()"
   ]
  },
  {
   "cell_type": "markdown",
   "metadata": {},
   "source": [
    "## Programowanie obiektowe"
   ]
  },
  {
   "cell_type": "markdown",
   "metadata": {},
   "source": [
    "##### Podstawowe koncepcje to\n",
    "\n",
    " - [dziedziczenie](https://en.wikipedia.org/wiki/Inheritance_(object-oriented_programming))\n",
    " - [abstrakcja](https://en.wikipedia.org/wiki/Abstraction_(computer_science)),\n",
    " - [hermetyzacja](https://en.wikipedia.org/wiki/Encapsulation_(computer_programming))\n",
    " - [polimorfizm](https://en.wikipedia.org/wiki/Polymorphism_(computer_science))"
   ]
  },
  {
   "cell_type": "markdown",
   "metadata": {},
   "source": [
    "### Dziedziczenie"
   ]
  },
  {
   "cell_type": "markdown",
   "metadata": {},
   "source": [
    "## Serializacja"
   ]
  },
  {
   "cell_type": "markdown",
   "metadata": {},
   "source": [
    "## Dekoratory"
   ]
  },
  {
   "cell_type": "markdown",
   "metadata": {},
   "source": [
    "## Manager kontekstu"
   ]
  },
  {
   "cell_type": "markdown",
   "metadata": {},
   "source": [
    "## Wyrażenia lambda"
   ]
  },
  {
   "cell_type": "markdown",
   "metadata": {},
   "source": [
    "## Generatory i iteratory"
   ]
  },
  {
   "cell_type": "markdown",
   "metadata": {},
   "source": [
    "## Wyrażenia regularne"
   ]
  },
  {
   "cell_type": "markdown",
   "metadata": {},
   "source": [
    "## Wielowątkowość"
   ]
  },
  {
   "cell_type": "markdown",
   "metadata": {},
   "source": [
    "## Profilowanie kodu"
   ]
  }
 ],
 "metadata": {
  "kernelspec": {
   "display_name": "Python 3.9.6 ('pyML')",
   "language": "python",
   "name": "python3"
  },
  "language_info": {
   "codemirror_mode": {
    "name": "ipython",
    "version": 3
   },
   "file_extension": ".py",
   "mimetype": "text/x-python",
   "name": "python",
   "nbconvert_exporter": "python",
   "pygments_lexer": "ipython3",
   "version": "3.9.6"
  },
  "orig_nbformat": 4,
  "vscode": {
   "interpreter": {
    "hash": "43dbf5479a0fc87de1ee7ded1cd5b445b0b8a7634e32fcae97e87d9cabed96b1"
   }
  }
 },
 "nbformat": 4,
 "nbformat_minor": 2
}
