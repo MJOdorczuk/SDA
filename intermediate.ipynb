{
 "cells": [
  {
   "cell_type": "markdown",
   "metadata": {},
   "source": [
    "# Python Średniozaawansowany"
   ]
  },
  {
   "cell_type": "markdown",
   "metadata": {},
   "source": [
    "#### Instrukcja instalacji VS Code <a class=\"anchor\" id=\"install\"></a>\n",
    "\n",
    " - Zainstaluj narzędzia [Python](https://www.python.org/downloads/).\n",
    "\n",
    " - Pobierz [VS Code](https://code.visualstudio.com/).\n",
    "\n",
    " - Zainstaluj rozszerzenie [Python](https://marketplace.visualstudio.com/items?itemName=ms-python.python).\n",
    "\n",
    " - Zainstaluj rozszerzenie [Jupyter](https://marketplace.visualstudio.com/items?itemName=ms-toolsai.jupyter).\n",
    "\n",
    "  - Zainstaluj rozszerzenie [Git Extension Pack](https://marketplace.visualstudio.com/items?itemName=donjayamanne.git-extension-pack)."
   ]
  },
  {
   "cell_type": "markdown",
   "metadata": {},
   "source": [
    "#### Potrzebne importy\n",
    "\n",
    " - [matplotlib](https://matplotlib.org/) - wymagana instalacja\n",
    "    * [pyplot](https://matplotlib.org/stable/tutorials/introductory/pyplot.html)\n",
    " - [numpy](https://numpy.org/) - wymagana instalacja\n",
    " - [pandas](https://pandas.pydata.org/) - wymagana instalacja\n",
    " - os\n",
    " - [inspect](https://docs.python.org/3/library/inspect.html) - biblioteka zawierająca [funkcjonalność przydatną przy analizowaniu struktur klas](https://docs.python.org/3/library/inspect.html#classes-and-functions).\n",
    " - [abc](https://docs.python.org/3/library/abc.html) - biblioteka do abstrakcji klasowej\n"
   ]
  },
  {
   "cell_type": "code",
   "execution_count": 1,
   "metadata": {},
   "outputs": [],
   "source": [
    "from abc import ABC, abstractmethod\n",
    "import traceback\n",
    "import os\n",
    "from inspect import getmro"
   ]
  },
  {
   "cell_type": "code",
   "execution_count": 2,
   "metadata": {},
   "outputs": [],
   "source": [
    "from matplotlib import pyplot as plt\n",
    "import numpy as np\n",
    "import pandas as pd"
   ]
  },
  {
   "cell_type": "markdown",
   "metadata": {},
   "source": [
    "## Wyjątki"
   ]
  },
  {
   "cell_type": "markdown",
   "metadata": {},
   "source": [
    "### [Wyjątki](https://en.wikipedia.org/wiki/Exception_handling) są zdarzeniami, które pojawiają się podczas wykonania programu i przerywają jego normalny przebieg. Technicznie są to obiekty reprezentujące dany błąd."
   ]
  },
  {
   "cell_type": "code",
   "execution_count": 3,
   "metadata": {},
   "outputs": [
    {
     "ename": "ZeroDivisionError",
     "evalue": "division by zero",
     "output_type": "error",
     "traceback": [
      "\u001b[1;31m---------------------------------------------------------------------------\u001b[0m",
      "\u001b[1;31mZeroDivisionError\u001b[0m                         Traceback (most recent call last)",
      "\u001b[1;32m~\\AppData\\Local\\Temp/ipykernel_23248/3543432582.py\u001b[0m in \u001b[0;36m<module>\u001b[1;34m\u001b[0m\n\u001b[0;32m      1\u001b[0m \u001b[0ma\u001b[0m \u001b[1;33m=\u001b[0m \u001b[1;36m5\u001b[0m\u001b[1;33m\u001b[0m\u001b[1;33m\u001b[0m\u001b[0m\n\u001b[0;32m      2\u001b[0m \u001b[0mb\u001b[0m \u001b[1;33m=\u001b[0m \u001b[1;36m0\u001b[0m\u001b[1;33m\u001b[0m\u001b[1;33m\u001b[0m\u001b[0m\n\u001b[1;32m----> 3\u001b[1;33m \u001b[0mprint\u001b[0m\u001b[1;33m(\u001b[0m\u001b[0ma\u001b[0m\u001b[1;33m/\u001b[0m\u001b[0mb\u001b[0m\u001b[1;33m)\u001b[0m\u001b[1;33m\u001b[0m\u001b[1;33m\u001b[0m\u001b[0m\n\u001b[0m",
      "\u001b[1;31mZeroDivisionError\u001b[0m: division by zero"
     ]
    }
   ],
   "source": [
    "a = 5\n",
    "b = 0\n",
    "print(a/b)"
   ]
  },
  {
   "cell_type": "markdown",
   "metadata": {},
   "source": [
    "##### Wszystkie wbudowane, nie opuszczające systemu [wyjątki](https://docs.python.org/3/library/exceptions.html) dziedziczą po klasie `Exception`. Wyjątki tworzone przez programistę również powinny dziedziczyć po tej klasie."
   ]
  },
  {
   "cell_type": "markdown",
   "metadata": {},
   "source": [
    "##### Najczęściej spotykane wyjątki to\n",
    "\n",
    " - `AssertionError` - niespełnienie warunku operacji [assert](https://docs.python.org/3/reference/simple_stmts.html#the-assert-statement)\n",
    " - `AttributeError` - odwołanie do nieistniejącego atrybutu\n",
    " - `IOError` - błąd operacji wejścia/wyjścia\n",
    " - `IndexError` - odwołanie do kolekcji za pomocą indeksu poza zakresem\n",
    " - `ImportError` - problem z załadowaniem modułu\n",
    " - `KeyError` - odwołanie do słownika nieistniejącym kluczem\n",
    " - `ValueError` - przekazanie do funkcji argumentu o niepoprawnej wartości\n",
    " - `ZeroDivisionError` - dzielenie przez zero"
   ]
  },
  {
   "cell_type": "markdown",
   "metadata": {},
   "source": [
    "### Obsługa wyjątków"
   ]
  },
  {
   "cell_type": "markdown",
   "metadata": {},
   "source": [
    "##### Wyjątki obsługujemy za pomocą słów kluczowych:\n",
    " - `try` - poprzedza obszar sprawdzany pod kątem wyrzucania wyjątków,\n",
    " - `except` - poprzedza obszar obsługi wyłapanego wyjątku,\n",
    " - `finally` - poprzedza obszar, który jest wykonywany pod koniec obsługi, niezależnie od tego, czy wyjątek został wyrzucony czy też nie\n",
    " - `raise` - wyrzuca zadany wyjątek"
   ]
  },
  {
   "cell_type": "code",
   "execution_count": 4,
   "metadata": {},
   "outputs": [
    {
     "name": "stdout",
     "output_type": "stream",
     "text": [
      "0.5   20.0\n",
      "0.3   33.333333333333336\n",
      "0   10000000\n"
     ]
    }
   ],
   "source": [
    "for i in [0.5, 0.3, 0]:\n",
    "    result = 0\n",
    "    try:\n",
    "        if i == 0:\n",
    "            result = 10000000\n",
    "        else:\n",
    "            result = 10/i\n",
    "    except:\n",
    "        result = 10000000\n",
    "    print(i, \" \", result)"
   ]
  },
  {
   "cell_type": "code",
   "execution_count": 5,
   "metadata": {},
   "outputs": [
    {
     "name": "stdout",
     "output_type": "stream",
     "text": [
      "Hey! I cannot take a root of that\n"
     ]
    }
   ],
   "source": [
    "def root4(x):\n",
    "    return x ** 0.25\n",
    "\n",
    "x = \"Some dummy text\"\n",
    "\n",
    "try:\n",
    "    print(root4(x))\n",
    "except:\n",
    "    print(\"Hey! I cannot take a root of that\")"
   ]
  },
  {
   "cell_type": "code",
   "execution_count": 6,
   "metadata": {},
   "outputs": [
    {
     "name": "stdout",
     "output_type": "stream",
     "text": [
      "0.5   25.0\n",
      "0.3   50.00000000000001\n",
      "0.001   10000000\n"
     ]
    },
    {
     "ename": "ValueError",
     "evalue": "Value lower than 0.1",
     "output_type": "error",
     "traceback": [
      "\u001b[1;31m---------------------------------------------------------------------------\u001b[0m",
      "\u001b[1;31mZeroDivisionError\u001b[0m                         Traceback (most recent call last)",
      "\u001b[1;32m~\\AppData\\Local\\Temp/ipykernel_23248/477041521.py\u001b[0m in \u001b[0;36m<module>\u001b[1;34m\u001b[0m\n\u001b[0;32m      3\u001b[0m     \u001b[1;32mtry\u001b[0m\u001b[1;33m:\u001b[0m\u001b[1;33m\u001b[0m\u001b[1;33m\u001b[0m\u001b[0m\n\u001b[1;32m----> 4\u001b[1;33m         \u001b[0mresult\u001b[0m \u001b[1;33m=\u001b[0m \u001b[1;36m10\u001b[0m\u001b[1;33m/\u001b[0m\u001b[1;33m(\u001b[0m\u001b[0mmax\u001b[0m\u001b[1;33m(\u001b[0m\u001b[1;36m0.1\u001b[0m\u001b[1;33m,\u001b[0m\u001b[0mi\u001b[0m\u001b[1;33m)\u001b[0m \u001b[1;33m-\u001b[0m \u001b[1;36m0.1\u001b[0m\u001b[1;33m)\u001b[0m\u001b[1;33m\u001b[0m\u001b[1;33m\u001b[0m\u001b[0m\n\u001b[0m\u001b[0;32m      5\u001b[0m     \u001b[1;32mexcept\u001b[0m\u001b[1;33m:\u001b[0m\u001b[1;33m\u001b[0m\u001b[1;33m\u001b[0m\u001b[0m\n",
      "\u001b[1;31mZeroDivisionError\u001b[0m: float division by zero",
      "\nDuring handling of the above exception, another exception occurred:\n",
      "\u001b[1;31mValueError\u001b[0m                                Traceback (most recent call last)",
      "\u001b[1;32m~\\AppData\\Local\\Temp/ipykernel_23248/477041521.py\u001b[0m in \u001b[0;36m<module>\u001b[1;34m\u001b[0m\n\u001b[0;32m      5\u001b[0m     \u001b[1;32mexcept\u001b[0m\u001b[1;33m:\u001b[0m\u001b[1;33m\u001b[0m\u001b[1;33m\u001b[0m\u001b[0m\n\u001b[0;32m      6\u001b[0m         \u001b[0mresult\u001b[0m \u001b[1;33m=\u001b[0m \u001b[1;36m10000000\u001b[0m\u001b[1;33m\u001b[0m\u001b[1;33m\u001b[0m\u001b[0m\n\u001b[1;32m----> 7\u001b[1;33m         \u001b[1;32mraise\u001b[0m \u001b[0mValueError\u001b[0m\u001b[1;33m(\u001b[0m\u001b[1;34m\"Value lower than 0.1\"\u001b[0m\u001b[1;33m)\u001b[0m\u001b[1;33m\u001b[0m\u001b[1;33m\u001b[0m\u001b[0m\n\u001b[0m\u001b[0;32m      8\u001b[0m     \u001b[1;32mfinally\u001b[0m\u001b[1;33m:\u001b[0m\u001b[1;33m\u001b[0m\u001b[1;33m\u001b[0m\u001b[0m\n\u001b[0;32m      9\u001b[0m         \u001b[0mprint\u001b[0m\u001b[1;33m(\u001b[0m\u001b[0mi\u001b[0m\u001b[1;33m,\u001b[0m \u001b[1;34m\" \"\u001b[0m\u001b[1;33m,\u001b[0m \u001b[0mresult\u001b[0m\u001b[1;33m)\u001b[0m\u001b[1;33m\u001b[0m\u001b[1;33m\u001b[0m\u001b[0m\n",
      "\u001b[1;31mValueError\u001b[0m: Value lower than 0.1"
     ]
    }
   ],
   "source": [
    "for i in [0.5, 0.3, 0.001]:\n",
    "    result = 0\n",
    "    try:\n",
    "        result = 10/(max(0.1,i) - 0.1)\n",
    "    except:\n",
    "        result = 10000000\n",
    "        raise ValueError(\"Value lower than 0.1\")\n",
    "    finally:\n",
    "        print(i, \" \", result)\n"
   ]
  },
  {
   "cell_type": "markdown",
   "metadata": {},
   "source": [
    "##### Do każdego bloku `try` możemy przypisać wiele bloków `except`."
   ]
  },
  {
   "cell_type": "code",
   "execution_count": 7,
   "metadata": {},
   "outputs": [
    {
     "name": "stdout",
     "output_type": "stream",
     "text": [
      "0.2\n",
      "Oopsie, whoopsie. You tried to divide by zero\n",
      "0.16666666666666666\n",
      "What did just happened here?\n",
      "0.5\n",
      "I went too far\n"
     ]
    }
   ],
   "source": [
    "l = [5, 0, 6, 2]\n",
    "\n",
    "for i in range(5):\n",
    "    try:\n",
    "        a = 1/l[i]\n",
    "        print(a)\n",
    "        assert a >= 0.2\n",
    "    except KeyError:\n",
    "        print(\"Wrong key\")\n",
    "    except (ZeroDivisionError):\n",
    "        print(\"Oopsie, whoopsie. You tried to divide by zero\")\n",
    "    except (IndexError, KeyError):\n",
    "        print(\"I went too far\")\n",
    "    except:\n",
    "        print(\"What did just happened here?\")"
   ]
  },
  {
   "cell_type": "markdown",
   "metadata": {},
   "source": [
    "##### Klauzulę `finally` zazwyczaj używamy, gdy po wykonaniu zadania musimy zwolnić pewne zasoby, niezależnie, czy procedura powiodła się czy nie. Na przykład, obsługa pliku."
   ]
  },
  {
   "cell_type": "code",
   "execution_count": 8,
   "metadata": {},
   "outputs": [
    {
     "name": "stdout",
     "output_type": "stream",
     "text": [
      "File is not readable\n"
     ]
    },
    {
     "ename": "NameError",
     "evalue": "name 'file' is not defined",
     "output_type": "error",
     "traceback": [
      "\u001b[1;31m---------------------------------------------------------------------------\u001b[0m",
      "\u001b[1;31mNameError\u001b[0m                                 Traceback (most recent call last)",
      "\u001b[1;32m~\\AppData\\Local\\Temp/ipykernel_23248/3024504181.py\u001b[0m in \u001b[0;36m<module>\u001b[1;34m\u001b[0m\n\u001b[0;32m      7\u001b[0m     \u001b[0mprint\u001b[0m\u001b[1;33m(\u001b[0m\u001b[1;34m\"File is not readable\"\u001b[0m\u001b[1;33m)\u001b[0m\u001b[1;33m\u001b[0m\u001b[1;33m\u001b[0m\u001b[0m\n\u001b[0;32m      8\u001b[0m \u001b[1;32mfinally\u001b[0m\u001b[1;33m:\u001b[0m\u001b[1;33m\u001b[0m\u001b[1;33m\u001b[0m\u001b[0m\n\u001b[1;32m----> 9\u001b[1;33m     \u001b[0mfile\u001b[0m\u001b[1;33m.\u001b[0m\u001b[0mclose\u001b[0m\u001b[1;33m(\u001b[0m\u001b[1;33m)\u001b[0m\u001b[1;33m\u001b[0m\u001b[1;33m\u001b[0m\u001b[0m\n\u001b[0m\u001b[0;32m     10\u001b[0m     \u001b[1;32mif\u001b[0m \u001b[0mos\u001b[0m\u001b[1;33m.\u001b[0m\u001b[0mpath\u001b[0m\u001b[1;33m.\u001b[0m\u001b[0mexists\u001b[0m\u001b[1;33m(\u001b[0m\u001b[0mdummy_file_name\u001b[0m\u001b[1;33m)\u001b[0m\u001b[1;33m:\u001b[0m\u001b[1;33m\u001b[0m\u001b[1;33m\u001b[0m\u001b[0m\n\u001b[0;32m     11\u001b[0m         \u001b[0mos\u001b[0m\u001b[1;33m.\u001b[0m\u001b[0mremove\u001b[0m\u001b[1;33m(\u001b[0m\u001b[0mdummy_file_name\u001b[0m\u001b[1;33m)\u001b[0m\u001b[1;33m\u001b[0m\u001b[1;33m\u001b[0m\u001b[0m\n",
      "\u001b[1;31mNameError\u001b[0m: name 'file' is not defined"
     ]
    }
   ],
   "source": [
    "dummy_file_name = \"dummy.file\"\n",
    "\n",
    "try:\n",
    "    file = open(dummy_file_name, \"r\")\n",
    "    print(file.read())\n",
    "except:\n",
    "    print(\"File is not readable\")\n",
    "finally:\n",
    "    file.close()\n",
    "    if os.path.exists(dummy_file_name):\n",
    "        os.remove(dummy_file_name)\n"
   ]
  },
  {
   "cell_type": "markdown",
   "metadata": {},
   "source": [
    "### Manager kontekstu"
   ]
  },
  {
   "cell_type": "markdown",
   "metadata": {},
   "source": [
    "##### Zamiast tego możemy użyć wyrażenia [with](https://docs.python.org/3/reference/compound_stmts.html#the-with-statement) zwanego managerem kontekstu, które obsługuje obiekty posiadające metody `__enter__` i `__exit__`"
   ]
  },
  {
   "cell_type": "code",
   "execution_count": 9,
   "metadata": {},
   "outputs": [
    {
     "ename": "FileNotFoundError",
     "evalue": "[Errno 2] No such file or directory: 'dummy.file'",
     "output_type": "error",
     "traceback": [
      "\u001b[1;31m---------------------------------------------------------------------------\u001b[0m",
      "\u001b[1;31mFileNotFoundError\u001b[0m                         Traceback (most recent call last)",
      "\u001b[1;32m~\\AppData\\Local\\Temp/ipykernel_23248/2402687180.py\u001b[0m in \u001b[0;36m<module>\u001b[1;34m\u001b[0m\n\u001b[0;32m      7\u001b[0m     \u001b[0mos\u001b[0m\u001b[1;33m.\u001b[0m\u001b[0mremove\u001b[0m\u001b[1;33m(\u001b[0m\u001b[0mdummy_file_name\u001b[0m\u001b[1;33m)\u001b[0m\u001b[1;33m\u001b[0m\u001b[1;33m\u001b[0m\u001b[0m\n\u001b[0;32m      8\u001b[0m \u001b[1;33m\u001b[0m\u001b[0m\n\u001b[1;32m----> 9\u001b[1;33m \u001b[1;32mwith\u001b[0m \u001b[0mopen\u001b[0m\u001b[1;33m(\u001b[0m\u001b[0mdummy_file_name\u001b[0m\u001b[1;33m,\u001b[0m \u001b[1;34m\"r\"\u001b[0m\u001b[1;33m)\u001b[0m \u001b[1;32mas\u001b[0m \u001b[0mfile\u001b[0m\u001b[1;33m:\u001b[0m\u001b[1;33m\u001b[0m\u001b[1;33m\u001b[0m\u001b[0m\n\u001b[0m\u001b[0;32m     10\u001b[0m     \u001b[0mprint\u001b[0m\u001b[1;33m(\u001b[0m\u001b[0mfile\u001b[0m\u001b[1;33m.\u001b[0m\u001b[0mread\u001b[0m\u001b[1;33m(\u001b[0m\u001b[1;33m)\u001b[0m\u001b[1;33m)\u001b[0m\u001b[1;33m\u001b[0m\u001b[1;33m\u001b[0m\u001b[0m\n",
      "\u001b[1;31mFileNotFoundError\u001b[0m: [Errno 2] No such file or directory: 'dummy.file'"
     ]
    }
   ],
   "source": [
    "dummy_file_name = \"dummy.file\"\n",
    "\n",
    "with open(dummy_file_name, \"w\") as file:\n",
    "    file.write(\"Somedummytextjusttofillthefilewithsomecontent\")\n",
    "\n",
    "if os.path.exists(dummy_file_name):\n",
    "    os.remove(dummy_file_name)\n",
    "\n",
    "with open(dummy_file_name, \"r\") as file:\n",
    "    print(file.read())"
   ]
  },
  {
   "cell_type": "markdown",
   "metadata": {},
   "source": [
    "#### Zadanie\n",
    "\n",
    "Napisz klasę `AutodestructingFile` która stworzy plik o lokalizacji zadanej w konstruktorze i pozwoli na zapisywanie i odczytywanie z owego pliku. Obiekt tej klasy, gdy użyty w ramach klauzuli `with`, ma usunąć automatycznie plik z dysku w momencie zakończenia działania, niezależnie od tego, czy klauzula zakończyła się poprawnie czy błędem. Należy zastąpić wszystkie wystąpienia `pass` odpowiednim kodem.\n",
    "\n",
    "###### Rozwiązanie znajduje się w komórce poniżej kodu zadania."
   ]
  },
  {
   "cell_type": "code",
   "execution_count": 10,
   "metadata": {},
   "outputs": [
    {
     "ename": "AssertionError",
     "evalue": "",
     "output_type": "error",
     "traceback": [
      "\u001b[1;31m---------------------------------------------------------------------------\u001b[0m",
      "\u001b[1;31mAssertionError\u001b[0m                            Traceback (most recent call last)",
      "\u001b[1;32m~\\AppData\\Local\\Temp/ipykernel_23248/2531413275.py\u001b[0m in \u001b[0;36m<module>\u001b[1;34m\u001b[0m\n\u001b[0;32m     23\u001b[0m \u001b[1;33m\u001b[0m\u001b[0m\n\u001b[0;32m     24\u001b[0m \u001b[1;32mwith\u001b[0m \u001b[0mAutodestructingFile\u001b[0m\u001b[1;33m(\u001b[0m\u001b[0mdummy_file_name\u001b[0m\u001b[1;33m)\u001b[0m \u001b[1;32mas\u001b[0m \u001b[0mfile\u001b[0m\u001b[1;33m:\u001b[0m\u001b[1;33m\u001b[0m\u001b[1;33m\u001b[0m\u001b[0m\n\u001b[1;32m---> 25\u001b[1;33m     \u001b[1;32massert\u001b[0m \u001b[0mos\u001b[0m\u001b[1;33m.\u001b[0m\u001b[0mpath\u001b[0m\u001b[1;33m.\u001b[0m\u001b[0mexists\u001b[0m\u001b[1;33m(\u001b[0m\u001b[0mdummy_file_name\u001b[0m\u001b[1;33m)\u001b[0m\u001b[1;33m\u001b[0m\u001b[1;33m\u001b[0m\u001b[0m\n\u001b[0m\u001b[0;32m     26\u001b[0m     \u001b[0mfile\u001b[0m\u001b[1;33m.\u001b[0m\u001b[0mwrite\u001b[0m\u001b[1;33m(\u001b[0m\u001b[0msome_dummy_message\u001b[0m\u001b[1;33m)\u001b[0m\u001b[1;33m\u001b[0m\u001b[1;33m\u001b[0m\u001b[0m\n\u001b[0;32m     27\u001b[0m     \u001b[0mprint\u001b[0m\u001b[1;33m(\u001b[0m\u001b[0mfile\u001b[0m\u001b[1;33m.\u001b[0m\u001b[0mread\u001b[0m\u001b[1;33m(\u001b[0m\u001b[1;33m)\u001b[0m\u001b[1;33m)\u001b[0m\u001b[1;33m\u001b[0m\u001b[1;33m\u001b[0m\u001b[0m\n",
      "\u001b[1;31mAssertionError\u001b[0m: "
     ]
    }
   ],
   "source": [
    "class AutodestructingFile:\n",
    "\n",
    "    def __init__(self, address) -> None:\n",
    "        pass\n",
    "\n",
    "    def write(self, text):\n",
    "        pass\n",
    "\n",
    "    def read(self):\n",
    "        pass\n",
    "\n",
    "    def __enter__(self):\n",
    "        return self\n",
    "\n",
    "    def __exit__(self, type, value, traceback):\n",
    "        pass\n",
    "\n",
    "\n",
    "dummy_file_name = \"dummy.file\"\n",
    "some_dummy_message = \"somedummymessage\"\n",
    "\n",
    "assert not os.path.exists(dummy_file_name)\n",
    "\n",
    "with AutodestructingFile(dummy_file_name) as file:\n",
    "    assert os.path.exists(dummy_file_name)\n",
    "    file.write(some_dummy_message)\n",
    "    print(file.read())\n",
    "\n",
    "    raise Exception(f\"This code should fail here and {dummy_file_name} should not exist\")\n",
    "    print(\"This message should not be displayed\")"
   ]
  },
  {
   "cell_type": "markdown",
   "metadata": {},
   "source": [
    "##### Rozwiązanie\n",
    "\n",
    " * podpowiedź 1 - zapisz zmienną `address` w konstruktorze jako pole obiektu. Następnie stwórz pola `reader` i `writer` i przypisz do nich odpowiednio `open(address, \"w\")` i `open(address, \"r\")`.\n",
    "\n",
    " * podpowiedź 2 - w operacji `write` zapisz tekst do pliku odwołując się do pola `self.writer`. Analogicznie zczytaj treść pliku z pomocą `self.reader` w operacji `write`.\n",
    "\n",
    " * podpowiedź 3 - W operacji `__exit__` zamknij `self.writer` i `self.reader` oraz usuń plik z pomocą operacji `os.path.exists` i `os.remove`."
   ]
  },
  {
   "cell_type": "code",
   "execution_count": 11,
   "metadata": {},
   "outputs": [
    {
     "name": "stdout",
     "output_type": "stream",
     "text": [
      "\n"
     ]
    },
    {
     "ename": "Exception",
     "evalue": "This code should fail here and dummy.file should not exist",
     "output_type": "error",
     "traceback": [
      "\u001b[1;31m---------------------------------------------------------------------------\u001b[0m",
      "\u001b[1;31mException\u001b[0m                                 Traceback (most recent call last)",
      "\u001b[1;32m~\\AppData\\Local\\Temp/ipykernel_23248/4197174020.py\u001b[0m in \u001b[0;36m<module>\u001b[1;34m\u001b[0m\n\u001b[0;32m     32\u001b[0m     \u001b[0mprint\u001b[0m\u001b[1;33m(\u001b[0m\u001b[0mfile\u001b[0m\u001b[1;33m.\u001b[0m\u001b[0mread\u001b[0m\u001b[1;33m(\u001b[0m\u001b[1;33m)\u001b[0m\u001b[1;33m)\u001b[0m\u001b[1;33m\u001b[0m\u001b[1;33m\u001b[0m\u001b[0m\n\u001b[0;32m     33\u001b[0m \u001b[1;33m\u001b[0m\u001b[0m\n\u001b[1;32m---> 34\u001b[1;33m     \u001b[1;32mraise\u001b[0m \u001b[0mException\u001b[0m\u001b[1;33m(\u001b[0m\u001b[1;34mf\"This code should fail here and {dummy_file_name} should not exist\"\u001b[0m\u001b[1;33m)\u001b[0m\u001b[1;33m\u001b[0m\u001b[1;33m\u001b[0m\u001b[0m\n\u001b[0m\u001b[0;32m     35\u001b[0m     \u001b[0mprint\u001b[0m\u001b[1;33m(\u001b[0m\u001b[1;34m\"This message should not be displayed\"\u001b[0m\u001b[1;33m)\u001b[0m\u001b[1;33m\u001b[0m\u001b[1;33m\u001b[0m\u001b[0m\n",
      "\u001b[1;31mException\u001b[0m: This code should fail here and dummy.file should not exist"
     ]
    }
   ],
   "source": [
    "class AutodestructingFile:\n",
    "\n",
    "    def __init__(self, address) -> None:\n",
    "        self.address = address\n",
    "        self.writer = open(address, \"w\")\n",
    "        self.reader = open(address, \"r\")\n",
    "\n",
    "    def write(self, text):\n",
    "        self.writer.write(text)\n",
    "\n",
    "    def read(self):\n",
    "        return self.reader.read()\n",
    "\n",
    "    def __enter__(self):\n",
    "        return self\n",
    "\n",
    "    def __exit__(self, type, value, traceback):\n",
    "        self.reader.close()\n",
    "        self.writer.close()\n",
    "        if os.path.exists(self.address):\n",
    "            os.remove(self.address)\n",
    "\n",
    "\n",
    "dummy_file_name = \"dummy.file\"\n",
    "some_dummy_message = \"somedummymessage\"\n",
    "\n",
    "assert not os.path.exists(dummy_file_name)\n",
    "\n",
    "with AutodestructingFile(dummy_file_name) as file:\n",
    "    assert os.path.exists(dummy_file_name)\n",
    "    file.write(some_dummy_message)\n",
    "    print(file.read())\n",
    "\n",
    "    raise Exception(f\"This code should fail here and {dummy_file_name} should not exist\")\n",
    "    print(\"This message should not be displayed\")"
   ]
  },
  {
   "cell_type": "markdown",
   "metadata": {},
   "source": [
    "Podobną funkcjonalność można osiągnąć również z pomocą dekoratora [@contextmanager](https://docs.python.org/3/library/contextlib.html#contextlib.contextmanager)"
   ]
  },
  {
   "cell_type": "code",
   "execution_count": 12,
   "metadata": {},
   "outputs": [
    {
     "name": "stdout",
     "output_type": "stream",
     "text": [
      "\n"
     ]
    },
    {
     "ename": "Exception",
     "evalue": "some dummy exception",
     "output_type": "error",
     "traceback": [
      "\u001b[1;31m---------------------------------------------------------------------------\u001b[0m",
      "\u001b[1;31mException\u001b[0m                                 Traceback (most recent call last)",
      "\u001b[1;32m~\\AppData\\Local\\Temp/ipykernel_23248/2079409913.py\u001b[0m in \u001b[0;36m<module>\u001b[1;34m\u001b[0m\n\u001b[0;32m     30\u001b[0m     \u001b[0mprint\u001b[0m\u001b[1;33m(\u001b[0m\u001b[0mfile\u001b[0m\u001b[1;33m.\u001b[0m\u001b[0mread\u001b[0m\u001b[1;33m(\u001b[0m\u001b[1;33m)\u001b[0m\u001b[1;33m)\u001b[0m\u001b[1;33m\u001b[0m\u001b[1;33m\u001b[0m\u001b[0m\n\u001b[0;32m     31\u001b[0m \u001b[1;33m\u001b[0m\u001b[0m\n\u001b[1;32m---> 32\u001b[1;33m     \u001b[1;32mraise\u001b[0m \u001b[0mException\u001b[0m\u001b[1;33m(\u001b[0m\u001b[1;34m\"some dummy exception\"\u001b[0m\u001b[1;33m)\u001b[0m\u001b[1;33m\u001b[0m\u001b[1;33m\u001b[0m\u001b[0m\n\u001b[0m\u001b[0;32m     33\u001b[0m     \u001b[0mprint\u001b[0m\u001b[1;33m(\u001b[0m\u001b[1;34m\"message ignored\"\u001b[0m\u001b[1;33m)\u001b[0m\u001b[1;33m\u001b[0m\u001b[1;33m\u001b[0m\u001b[0m\n",
      "\u001b[1;31mException\u001b[0m: some dummy exception"
     ]
    }
   ],
   "source": [
    "from contextlib import contextmanager\n",
    "\n",
    "dummy_file_name = \"dummy.file\"\n",
    "\n",
    "class ReadWriteFile:\n",
    "    def __init__(self, address) -> None:\n",
    "        self.writer = open(address, \"w\")\n",
    "        self.reader = open(address, \"r\")\n",
    "\n",
    "    def write(self, text):\n",
    "        self.writer.write(text)\n",
    "\n",
    "    def read(self):\n",
    "        return self.reader.read()\n",
    "\n",
    "@contextmanager\n",
    "def autodestructingFile(address):\n",
    "    file = ReadWriteFile(address)\n",
    "    try:\n",
    "        yield file\n",
    "    finally:\n",
    "        file.reader.close()\n",
    "        file.writer.close()\n",
    "        if os.path.exists(address):\n",
    "            os.remove(address)\n",
    "\n",
    "\n",
    "with autodestructingFile(dummy_file_name) as file:\n",
    "    file.write(\"somedummytext\")\n",
    "    print(file.read())\n",
    "\n",
    "    raise Exception(\"some dummy exception\")\n",
    "    print(\"message ignored\")"
   ]
  },
  {
   "cell_type": "markdown",
   "metadata": {},
   "source": [
    "### [Rzucanie wyjątków](https://docs.python.org/3/tutorial/errors.html#raising-exceptions)"
   ]
  },
  {
   "cell_type": "markdown",
   "metadata": {},
   "source": [
    "##### W celu rzucenia wyjątku wykorzystujemy wyrażenie `raise`."
   ]
  },
  {
   "cell_type": "code",
   "execution_count": 13,
   "metadata": {},
   "outputs": [
    {
     "ename": "Exception",
     "evalue": "My dummy exception",
     "output_type": "error",
     "traceback": [
      "\u001b[1;31m---------------------------------------------------------------------------\u001b[0m",
      "\u001b[1;31mException\u001b[0m                                 Traceback (most recent call last)",
      "\u001b[1;32m~\\AppData\\Local\\Temp/ipykernel_23248/2182675704.py\u001b[0m in \u001b[0;36m<module>\u001b[1;34m\u001b[0m\n\u001b[1;32m----> 1\u001b[1;33m \u001b[1;32mraise\u001b[0m \u001b[0mException\u001b[0m\u001b[1;33m(\u001b[0m\u001b[1;34m\"My dummy exception\"\u001b[0m\u001b[1;33m)\u001b[0m\u001b[1;33m\u001b[0m\u001b[1;33m\u001b[0m\u001b[0m\n\u001b[0m",
      "\u001b[1;31mException\u001b[0m: My dummy exception"
     ]
    }
   ],
   "source": [
    "raise Exception(\"My dummy exception\")"
   ]
  },
  {
   "cell_type": "markdown",
   "metadata": {},
   "source": [
    "### Tworzenie własnych wyjątków"
   ]
  },
  {
   "cell_type": "code",
   "execution_count": 14,
   "metadata": {},
   "outputs": [
    {
     "name": "stdout",
     "output_type": "stream",
     "text": [
      "In the marry month of June\n"
     ]
    },
    {
     "name": "stderr",
     "output_type": "stream",
     "text": [
      "Traceback (most recent call last):\n",
      "  File \"C:\\Users\\micha\\AppData\\Local\\Temp/ipykernel_23248/2871786223.py\", line 5, in <module>\n",
      "    raise CustomException1(\"Some custom exception\")\n",
      "CustomException1: Some custom exception\n",
      "Traceback (most recent call last):\n",
      "  File \"C:\\Users\\micha\\AppData\\Local\\Temp/ipykernel_23248/2871786223.py\", line 17, in <module>\n",
      "    raise CustomException2()\n",
      "CustomException2: My hardcoded message\n"
     ]
    }
   ],
   "source": [
    "class CustomException1(Exception):\n",
    "    pass\n",
    "\n",
    "try:\n",
    "    raise CustomException1(\"Some custom exception\")\n",
    "except:\n",
    "    traceback.print_exc()\n",
    "\n",
    "class CustomException2(Exception):\n",
    "    def __init__(self) -> None:\n",
    "        super().__init__(\"My hardcoded message\")\n",
    "\n",
    "    def sing(self):\n",
    "        print(\"In the marry month of June\")\n",
    "\n",
    "try:\n",
    "    raise CustomException2()\n",
    "except CustomException2 as e:\n",
    "    traceback.print_exc()\n",
    "    e.sing()"
   ]
  },
  {
   "cell_type": "markdown",
   "metadata": {},
   "source": [
    "###### <font color='red'>Uwaga, niektóre wyjątki zabijają jądro Jupyter. Poniższy przykład ma na celu wywołania jednego z takich wyjątków. Po śmierci jądra cały kontekst wywołania zostanie stracony i wszelkie zmienne i importy będą musiały zostać wprowadzone na nowo.</font>"
   ]
  },
  {
   "cell_type": "markdown",
   "metadata": {},
   "source": [
    "Dla jakiego `n` poniższy kod może nigdy się nie zakończyć? Czemu? Czemu jednak się kończy? Jakim błędem się kończy? (wywołaj poza środowiskiem `.ipynb` żeby uzyskać treść błędu) Co to znaczy?"
   ]
  },
  {
   "cell_type": "code",
   "execution_count": 15,
   "metadata": {},
   "outputs": [],
   "source": [
    "def fact(n):\n",
    "    if n == 0:\n",
    "        return 1\n",
    "    else:\n",
    "        return fact(n - 1) * n"
   ]
  },
  {
   "cell_type": "markdown",
   "metadata": {},
   "source": [
    "\n",
    " 1. <font size=\"1\" color=\"gray\">Dowolna liczba nie będąca liczbą naturalną</font>\n",
    " 2. <font size=\"1\" color=\"gray\">Funkcja będzie wywoływała siebie samą w nieskończoność. To tak zwana [rekurencja](https://en.wikipedia.org/wiki/Recursion).</font>\n",
    " 3. <font size=\"1\" color=\"gray\">Python przerywa samodzielnie zbyt głęboko schodzące rekursje.</font>\n",
    " 4. <font size=\"1\" color=\"gray\">Przekroczono dopuszczalną głębokość rekurencji. Przerywa to program zanim zostanie wyrzucony systemowy błąd `stackoverflow`.</font>\n",
    "\n"
   ]
  },
  {
   "cell_type": "markdown",
   "metadata": {},
   "source": [
    "## [Programowanie obiektowe](https://en.wikipedia.org/wiki/Object-oriented_programming)"
   ]
  },
  {
   "cell_type": "markdown",
   "metadata": {},
   "source": [
    "##### Podstawowe koncepcje to\n",
    "\n",
    " - [dziedziczenie](https://en.wikipedia.org/wiki/Inheritance_(object-oriented_programming)),\n",
    " - [kompozycja](https://en.wikipedia.org/wiki/Object_composition),\n",
    " - [abstrakcja](https://en.wikipedia.org/wiki/Abstraction_(computer_science)),\n",
    " - [hermetyzacja](https://en.wikipedia.org/wiki/Encapsulation_(computer_programming)),\n",
    " - [polimorfizm](https://en.wikipedia.org/wiki/Polymorphism_(computer_science))."
   ]
  },
  {
   "cell_type": "markdown",
   "metadata": {},
   "source": [
    "### Dziedziczenie"
   ]
  },
  {
   "cell_type": "markdown",
   "metadata": {},
   "source": [
    "Jeżeli pewna klasa posiada funkcjonalność, która jest nam potrzebna, ale chcielibyśmy jeszcze dodać coś od siebie, możemy rozszerzyć klasę tworząc nową, która dziedziczy funkcjonalności klasy bazowej."
   ]
  },
  {
   "cell_type": "code",
   "execution_count": 16,
   "metadata": {},
   "outputs": [
    {
     "name": "stdout",
     "output_type": "stream",
     "text": [
      "Creature :Nom, nom, nom. Tasty other animal\n",
      "Tweety :Nom, nom, nom. Tasty grain\n",
      "Tweety : I can fly\n",
      "Tweety :Nom, nom, nom. Tasty grain\n",
      "Tweety : I can fly\n"
     ]
    }
   ],
   "source": [
    "class Animal:\n",
    "    def __init__(self, name) -> None:\n",
    "        self.name = name\n",
    "\n",
    "    def eat(self, food):\n",
    "        print(self.name, \":Nom, nom, nom. Tasty\", food)\n",
    "\n",
    "class Bird(Animal):\n",
    "    def fly(self):\n",
    "        print(self.name, \": I can fly\")\n",
    "\n",
    "animal = Animal(\"Creature\")\n",
    "animal.eat(\"other animal\")\n",
    "\n",
    "bird = Bird(\"Tweety\")\n",
    "bird.eat(\"grain\")\n",
    "bird.fly()\n",
    "\n",
    "def feed(animal: Bird, food: object) -> None:\n",
    "    animal.eat(food)\n",
    "    animal.fly()\n",
    "\n",
    "feed(bird, \"grain\")"
   ]
  },
  {
   "cell_type": "markdown",
   "metadata": {},
   "source": [
    "Możemy sprawdzić pochodzenie naszej klasy za pomocą funkcji [getmro](https://docs.python.org/3/library/inspect.html#inspect.getmro) z pakietu `inspect`."
   ]
  },
  {
   "cell_type": "code",
   "execution_count": 17,
   "metadata": {},
   "outputs": [
    {
     "name": "stdout",
     "output_type": "stream",
     "text": [
      "(<class '__main__.Bird'>, <class '__main__.Animal'>, <class 'object'>)\n",
      "(<class 'function'>, <class 'object'>)\n",
      "(<class 'AttributeError'>, <class 'Exception'>, <class 'BaseException'>, <class 'object'>)\n",
      "(<class 'float'>, <class 'object'>)\n"
     ]
    }
   ],
   "source": [
    "print(getmro(type(bird)))\n",
    "print(getmro(type(getmro)))\n",
    "print(getmro(AttributeError))\n",
    "print(getmro(type(5.0)))"
   ]
  },
  {
   "cell_type": "markdown",
   "metadata": {},
   "source": [
    "Możemy też dziedziczyć po wielu klasach przejmując atrybuty każdej z nich."
   ]
  },
  {
   "cell_type": "code",
   "execution_count": 18,
   "metadata": {},
   "outputs": [
    {
     "name": "stdout",
     "output_type": "stream",
     "text": [
      "I am an animal\n",
      "I am an oviparous\n",
      "I am a mammal\n",
      "I am a platypus\n",
      "Perry : plop\n",
      "Perry : blurp\n",
      "Perry : Nom, nom, nom. Tasty algae\n",
      "Perry : phew\n",
      "(<class '__main__.Platypus'>, <class '__main__.Mammal'>, <class '__main__.Oviparous'>, <class '__main__.Animal'>, <class 'object'>)\n"
     ]
    }
   ],
   "source": [
    "class Animal:\n",
    "    def __init__(self, name) -> None:\n",
    "        self.name = name\n",
    "        print(\"I am an animal\")\n",
    "\n",
    "    def eat(self, food):\n",
    "        print(self.name, \": Nom, nom, nom. Tasty\", food)\n",
    "\n",
    "class Oviparous(Animal):\n",
    "    def __init__(self, name) -> None:\n",
    "        super().__init__(name)\n",
    "        print(\"I am an oviparous\")\n",
    "\n",
    "    def bearEgg(self):\n",
    "        print(self.name, \": plop\")\n",
    "\n",
    "    def breath(self):\n",
    "        print(self.name, \": wheez\")\n",
    "\n",
    "class Mammal(Animal):\n",
    "    def __init__(self, name) -> None:\n",
    "        super().__init__(name)\n",
    "        print(\"I am a mammal\")\n",
    "\n",
    "    def giveMilk(self):\n",
    "        print(self.name, \": blurp\")\n",
    "\n",
    "    def breath(self):\n",
    "        print(self.name, \": phew\")\n",
    "\n",
    "class Platypus(Mammal, Oviparous):\n",
    "    def __init__(self, name) -> None:\n",
    "        super().__init__(name)\n",
    "        print(\"I am a platypus\")\n",
    "\n",
    "    def sting(self):\n",
    "        print(self.name, \": sting\")\n",
    "\n",
    "perry = Platypus(\"Perry\")\n",
    "\n",
    "perry.bearEgg()\n",
    "perry.giveMilk()\n",
    "perry.eat(\"algae\")\n",
    "perry.breath()\n",
    "\n",
    "print(getmro(Platypus))"
   ]
  },
  {
   "cell_type": "markdown",
   "metadata": {},
   "source": [
    "Zauważmy, że powyższa klasa rozwiązuje dziedziczenie wpierw rozpatrując klasę `Mammal`. Oznacza to, że jeśli klasy `Mammal` i `Oviparous` będą miały takie samo pole, `Platypus` przejmie tylko pole od `Mammal`."
   ]
  },
  {
   "cell_type": "markdown",
   "metadata": {},
   "source": [
    "### Kompozycja"
   ]
  },
  {
   "cell_type": "markdown",
   "metadata": {},
   "source": [
    "Zamiast dziedziczyć wszystkie atrybuty możemy wkomponować jedną klasę w drugą tworząc obiekt tej pierwszej jako pole drugiej. Następnie pole to możemy wykorzystać do implementacja własnych metod."
   ]
  },
  {
   "cell_type": "code",
   "execution_count": 19,
   "metadata": {},
   "outputs": [
    {
     "name": "stdout",
     "output_type": "stream",
     "text": [
      "I am Master Fireball!\n",
      "I am Timothy Brrr\n"
     ]
    }
   ],
   "source": [
    "from __future__ import annotations\n",
    "\n",
    "class Hero():\n",
    "    def __init__(self, name: str) -> None:\n",
    "        self.name = name\n",
    "\n",
    "    def introduce(self) -> str:\n",
    "        return f\"I am {self.name}\"\n",
    "\n",
    "class Mage(Hero):\n",
    "    def __init__(self, name: str, staff: Staff) -> None:\n",
    "        super().__init__(name)\n",
    "        self.staff = staff\n",
    "\n",
    "    def equipStaff(self, staff: Staff):\n",
    "        self.staff = staff\n",
    "\n",
    "    def castSpell(self) -> str:\n",
    "        if self.staff:\n",
    "            return self.staff.use()\n",
    "        else:\n",
    "            return None\n",
    "\n",
    "class Staff:\n",
    "    def use(self):\n",
    "        pass\n",
    "\n",
    "    def setOwner(self, mage: Mage) -> None:\n",
    "        self.mage = mage\n",
    "\n",
    "class FireWand(Staff):\n",
    "    def use(self) -> str:\n",
    "        return \"Fireball!\"\n",
    "\n",
    "class FrostWand(Staff):\n",
    "    def use(self) -> str:\n",
    "        return \"Brrr\"\n",
    "\n",
    "mage1 = Mage(\"Master\", FireWand())\n",
    "mage2 = Mage(\"Timothy\", FrostWand())\n",
    "\n",
    "print(mage1.introduce(), mage1.castSpell())\n",
    "print(mage2.introduce(), mage2.castSpell())"
   ]
  },
  {
   "cell_type": "markdown",
   "metadata": {},
   "source": [
    "Zarówno Tymek jak i Mistrz potrafią czarować, potrzebują jednak do tego różdżek. Czarodziej nie musi wiedzieć, jak zostaje wykonany czar, potrzebuje tylko wiedzieć, jak korzystać z różdżki. W ten sposób rozdzielamy implementację obu klas i obiekt wkomponowany może być w dowolnym momencie zmieniony na nową implementację nie zmieniając implementacji klasy komponującej."
   ]
  },
  {
   "cell_type": "markdown",
   "metadata": {},
   "source": [
    "### Abstrakcja"
   ]
  },
  {
   "cell_type": "markdown",
   "metadata": {},
   "source": [
    "Czasami chcemy stworzyć wzór klasy bez implementowania poszczególnych jej elementów. Przkładowo, chcę stworzyć klasę `Collection`, która pozwoli użytkownikowi na dostęp do elementów, ale pozwoli również zaimplementować różne kontenery przechowujące elementy.\n",
    "\n",
    "Nie jest to podstawowy koncept w Pythonie ze względu na brak [silnej typizacji](https://en.wikipedia.org/wiki/Strong_and_weak_typing), stąd musimy wykorzystać do tego pakiet `abc`."
   ]
  },
  {
   "cell_type": "markdown",
   "metadata": {},
   "source": [
    "###### Python nie posiada silnej typizacji stąd koncept abstrakcji jest czystym formalizmem. W językach z silną typizacją zawsze musimy podać, jakiego typu dane przyjmuje funkcja. Jeżeli nie chcemy podawać gotowej implementacji od razu przy tworzeniu funkcji, możemy stworzyć klasę-wydmuszkę, która będzie tylko szablonem pod klasy obiektów przekazywanych do owej funkcji."
   ]
  },
  {
   "cell_type": "code",
   "execution_count": 20,
   "metadata": {},
   "outputs": [
    {
     "name": "stdout",
     "output_type": "stream",
     "text": [
      "None\n",
      "1\n",
      "2\n",
      "4\n",
      "1\n",
      "2\n",
      "4\n",
      "1\n",
      "2\n",
      "4\n",
      "1\n"
     ]
    }
   ],
   "source": [
    "class Collection:\n",
    "    def __init__(self, elements) -> None:\n",
    "        pass\n",
    "\n",
    "    def getNext(self):\n",
    "        pass\n",
    "\n",
    "c = Collection([1, 2, 4])\n",
    "print(c.getNext())\n",
    "\n",
    "class SingleElementCollection(Collection):\n",
    "    def __init__(self, elements) -> None:\n",
    "        super().__init__(elements)\n",
    "        self.element = elements\n",
    "\n",
    "    def getNext(self):\n",
    "        return self.element\n",
    "\n",
    "c = SingleElementCollection([1, 2, 4])\n",
    "\n",
    "class LoopCollection(Collection):\n",
    "    def __init__(self, elements) -> None:\n",
    "        super().__init__(elements)\n",
    "        self.elemnts = elements\n",
    "        self.index = 0\n",
    "\n",
    "    def getNext(self):\n",
    "        element = self.elemnts[self.index]\n",
    "        self.index = (self.index + 1) % len(self.elemnts)\n",
    "        return element\n",
    "\n",
    "c = LoopCollection([1, 2, 4])\n",
    "\n",
    "def iterate(collection: Collection, n: int, f: function):\n",
    "    for i in range(n):\n",
    "        f(collection.getNext())\n",
    "\n",
    "iterate(c, 10, print)"
   ]
  },
  {
   "cell_type": "markdown",
   "metadata": {},
   "source": [
    "W powyższym kodzie klasa `Collection` jest w pełni poprawną klasą i można stworzyć jej obiekt. Klasa abstrakcyjna nie powinna dawać możliwości stworzenia swojej instancji. Jest to wyłącznie wydmuszka, która służy jako wzorzec do stworzenia poprawnej implementacji.\n",
    "\n",
    "Żeby poinformować, że klasa ta jest wyłącznie wydmuszką stosujemy pakiet [abc](https://docs.python.org/3/library/abc.html). W kodzie poniżej klasa `Collection` dziedziczy po klasie `ABC` i posiada pola z dekoratorem [@abstractmethod](https://docs.python.org/3/library/abc.html#abc.abstractmethod). Z tego powodu nie można stworzyć instancji tej klasy a jedynie instancje klas dziedziczących, które implementują te pola."
   ]
  },
  {
   "cell_type": "code",
   "execution_count": 21,
   "metadata": {},
   "outputs": [
    {
     "name": "stdout",
     "output_type": "stream",
     "text": [
      "1\n",
      "1\n",
      "1\n",
      "1\n",
      "1\n",
      "1\n",
      "1\n",
      "1\n",
      "1\n",
      "1\n"
     ]
    }
   ],
   "source": [
    "class Collection(ABC):\n",
    "    @abstractmethod\n",
    "    def __init__(self, elements) -> None:\n",
    "        pass\n",
    "\n",
    "    @abstractmethod\n",
    "    def getNext(self):\n",
    "        pass\n",
    "\n",
    "class SingleElement(Collection):\n",
    "    def __init__(self, elements) -> None:\n",
    "        self.element = elements\n",
    "\n",
    "    def getNext(self):\n",
    "        return self.element\n",
    "\n",
    "class LoopCollection(Collection):\n",
    "    def __init__(self, elements) -> None:\n",
    "        self.elements = elements\n",
    "        self.i = 0\n",
    "\n",
    "    def getNext(self):\n",
    "        element = self.elements[self.i]\n",
    "        self.i %= len(self.elements)\n",
    "        return element\n",
    "\n",
    "c = LoopCollection([1, 2, 4])\n",
    "\n",
    "def iterate(collection: Collection, n: int, f):\n",
    "    for i in range(n):\n",
    "        f(collection.getNext())\n",
    "\n",
    "iterate(c, 10, print)"
   ]
  },
  {
   "cell_type": "markdown",
   "metadata": {},
   "source": [
    "#### Zadanie\n",
    "\n",
    "Wczytaj plik za pomocą `reader`, przetwórz treść za pomocą `converter` i zapisz do pliku za pomocą `writer`. Stwórz klasę `LUFileConverter`, która będzie konwertowała zadany plik zmieniając małe litery w wielkie i vice versa. Stwórz klasę `DoubleFileConverter`, która wykona operacje `converter` dwukrotnie.\n",
    "\n",
    "`convertFile` w `FileConverter` ma być metodą abstrakcyjną.\n",
    "`reader` ma posiadać operację `read()`, która zczyta obiekt typu `str` z pewnego pliku.\n",
    "`writer` ma posiadać operację `write()`, która zapisze do pewnego pliku zadany obiekt typu `str`.\n",
    "`converter` ma przyjąć obiekt typu `str` i zwrócić obiekt typu `str`.\n",
    "\n",
    " - Stwórz plik (`dummy.txt` lub jakikolwiek inny) z dowolną treścią (`Ala ma kota` lub cokolwiek innego).\n",
    " - Wczytaj treść tego pliku za pomocą operacji `open` i `read`.\n",
    " - Zapisz treść tego pliku za pomocą `open` i `write` do innego pliku (`temp.file` lub jakikolwiek inny).\n",
    " - Stwórz funkcję `toUpper`, która przyjmie obiekt typu `str` i zwróci ów tekst z wszystkimi małymi literami zamienionymi na wielkie.\n",
    " - Stwórz obiekt typu `FileConverter` i zapisz jako jego pola `reader`, `writer` oraz `toUpper`.\n",
    " - Zmień pole `convertFile` w `FileConverter` na metodę abstrakcyjną."
   ]
  },
  {
   "cell_type": "code",
   "execution_count": 22,
   "metadata": {},
   "outputs": [],
   "source": [
    "from abc import ABC, abstractmethod\n",
    "\n",
    "def toUpper(text: str) -> str:\n",
    "    return text.upper()\n",
    "\n",
    "class FileConverter(ABC):\n",
    "    def __init__(self, reader, writer, converter) -> None:\n",
    "        self.reader = reader\n",
    "        self.writer = writer\n",
    "        self.converter = converter\n",
    "\n",
    "    @abstractmethod\n",
    "    def convertFile(self):\n",
    "        pass\n",
    "\n",
    "class UpperFileConverter(FileConverter):\n",
    "    def __init__(self, reader, writer) -> None:\n",
    "        super().__init__(reader, writer, toUpper)\n",
    "\n",
    "    def convertFile(self):\n",
    "        content = self.reader.read()\n",
    "        content = self.converter(content)\n",
    "        self.writer.write(content)\n",
    "\n",
    "class DoubleFileConverter(FileConverter):\n",
    "    def convertFile(self):\n",
    "        content = self.reader.read()\n",
    "        content = self.converter(content)\n",
    "        content = self.converter(content)\n",
    "        self.writer.write(content)"
   ]
  },
  {
   "cell_type": "code",
   "execution_count": 23,
   "metadata": {},
   "outputs": [],
   "source": [
    "def doubleText(text):\n",
    "    return text + text\n",
    "\n",
    "in_file = \"dummy.txt\"\n",
    "out_file = \"temp.file\"\n",
    "\n",
    "with open(in_file, \"w\") as writer:\n",
    "    writer.write(\"Ala ma kota\\nA sierotka ma rysia\\n\\n\")\n",
    "\n",
    "with open(in_file, \"r\") as reader:\n",
    "    with open(out_file, \"w\") as writer:\n",
    "        fc = DoubleFileConverter(reader, writer, doubleText)\n",
    "        fc.convertFile()\n",
    "\n",
    "if os.path.exists(in_file):\n",
    "    os.remove(in_file)\n",
    "if os.path.exists(out_file):\n",
    "    os.remove(out_file)"
   ]
  },
  {
   "cell_type": "markdown",
   "metadata": {},
   "source": [
    "### Hermetyzacja"
   ]
  },
  {
   "cell_type": "markdown",
   "metadata": {},
   "source": [
    "Niektóre pola nie powinny być dostępne z zewnątrz. Jeżeli nasza klasa wykonuje jakąś operację na własnych parametrach możemy chcieć chronić te parametry przed zmianą z zewnątrz lub przez klasy dziedziczące."
   ]
  },
  {
   "cell_type": "markdown",
   "metadata": {},
   "source": [
    "Pola [prywatne](https://en.wikipedia.org/wiki/Access_modifiers) są dostępne tylko dla klasy zawierającej owe pole. Klasy dziedziczące nie mają do tego pola dostępu. Podejście takie nazywamy hermetyzacją. Python nie posiada mechanizmu hermetyzacji i pola są zawsze dostępne. Jeżeli chcemy zaznaczyć, że pole jest zamierzone jako chronione zaczynamy jego nazwę od podkreślnika (`_`), jeżeli zaś chcemy, żeby było traktowane jako prywatne zaczynamy jego nazwę od podwójnego podkreślnika (`__`)."
   ]
  },
  {
   "cell_type": "code",
   "execution_count": 24,
   "metadata": {},
   "outputs": [
    {
     "data": {
      "text/plain": [
       "0"
      ]
     },
     "execution_count": 24,
     "metadata": {},
     "output_type": "execute_result"
    }
   ],
   "source": [
    "class ProtectedDummy:\n",
    "    def __init__(self) -> None:\n",
    "        self._counter = 0\n",
    "\n",
    "    def add(self):\n",
    "        self._counter += 1\n",
    "\n",
    "    def getCounter(self):\n",
    "        return self._counter\n",
    "\n",
    "class ProtectedChild(ProtectedDummy):\n",
    "    def add(self):\n",
    "        self._counter += 3\n",
    "\n",
    "dummy = ProtectedDummy()\n",
    "dummy.add()\n",
    "dummy.add()\n",
    "dummy.add()\n",
    "dummy._counter = -3\n",
    "dummy.add()\n",
    "dummy.add()\n",
    "dummy.add()\n",
    "dummy.getCounter()"
   ]
  },
  {
   "cell_type": "markdown",
   "metadata": {},
   "source": [
    "Pola prywatne wciąż są osiągalne z zewnątrz jako pola o nazwie `_<CLASS_NAME><FIELD_NAME>`."
   ]
  },
  {
   "cell_type": "code",
   "execution_count": 25,
   "metadata": {},
   "outputs": [
    {
     "name": "stdout",
     "output_type": "stream",
     "text": [
      "0\n"
     ]
    }
   ],
   "source": [
    "class PrivateDummy:\n",
    "    def __init__(self) -> None:\n",
    "        self.__private = 0\n",
    "\n",
    "    def add(self):\n",
    "        self.__private += 1\n",
    "\n",
    "    def counter(self):\n",
    "        return self.__private\n",
    "\n",
    "dummy = PrivateDummy()\n",
    "dir(dummy)\n",
    "\n",
    "dummy.add()\n",
    "dummy.add()\n",
    "dummy.add()\n",
    "dummy._PrivateDummy__private = -3\n",
    "dummy.add()\n",
    "dummy.add()\n",
    "dummy.add()\n",
    "print(dummy.counter())"
   ]
  },
  {
   "cell_type": "markdown",
   "metadata": {},
   "source": [
    "### Polimorfizm"
   ]
  },
  {
   "cell_type": "markdown",
   "metadata": {},
   "source": [
    "Python nie implementuje pełnego polimorfizmu. W językach silnie typowanych możemy zdefiniować dwie funkcje o tej samej nazwie, przyjmujące jednak parametry różnego typu."
   ]
  },
  {
   "cell_type": "code",
   "execution_count": 26,
   "metadata": {},
   "outputs": [
    {
     "name": "stdout",
     "output_type": "stream",
     "text": [
      "This is a string\n",
      "This is a string\n"
     ]
    }
   ],
   "source": [
    "def f(a: int):\n",
    "    print(\"This is an integer\")\n",
    "\n",
    "def f(b: str):\n",
    "    print(\"This is a string\")\n",
    "\n",
    "f(1)\n",
    "f(\"somedummytext\")"
   ]
  },
  {
   "cell_type": "markdown",
   "metadata": {},
   "source": [
    "Python nie daje takiej możliwości i zostanie wywołana wyłącznie funkcja ostatnio zdefiniowana. Nie istnieje w nim również możliwość tworzenia funkcji o tej samej nazwie ale innej liczbie parametrów."
   ]
  },
  {
   "cell_type": "code",
   "execution_count": 27,
   "metadata": {},
   "outputs": [
    {
     "name": "stdout",
     "output_type": "stream",
     "text": [
      "I have got two values\n"
     ]
    },
    {
     "ename": "TypeError",
     "evalue": "f() missing 1 required positional argument: 'b'",
     "output_type": "error",
     "traceback": [
      "\u001b[1;31m---------------------------------------------------------------------------\u001b[0m",
      "\u001b[1;31mTypeError\u001b[0m                                 Traceback (most recent call last)",
      "\u001b[1;32m~\\AppData\\Local\\Temp/ipykernel_23248/3855383434.py\u001b[0m in \u001b[0;36m<module>\u001b[1;34m\u001b[0m\n\u001b[0;32m      6\u001b[0m \u001b[1;33m\u001b[0m\u001b[0m\n\u001b[0;32m      7\u001b[0m \u001b[0mf\u001b[0m\u001b[1;33m(\u001b[0m\u001b[1;36m1\u001b[0m\u001b[1;33m,\u001b[0m \u001b[1;36m2\u001b[0m\u001b[1;33m)\u001b[0m\u001b[1;33m\u001b[0m\u001b[1;33m\u001b[0m\u001b[0m\n\u001b[1;32m----> 8\u001b[1;33m \u001b[0mf\u001b[0m\u001b[1;33m(\u001b[0m\u001b[1;36m3\u001b[0m\u001b[1;33m)\u001b[0m\u001b[1;33m\u001b[0m\u001b[1;33m\u001b[0m\u001b[0m\n\u001b[0m",
      "\u001b[1;31mTypeError\u001b[0m: f() missing 1 required positional argument: 'b'"
     ]
    }
   ],
   "source": [
    "def f(a):\n",
    "    print(\"I have got a single value\")\n",
    "\n",
    "def f(a, b):\n",
    "    print(\"I have got two values\")\n",
    "\n",
    "f(1, 2)\n",
    "f(3)"
   ]
  },
  {
   "cell_type": "markdown",
   "metadata": {},
   "source": [
    "Jedyne postacie polimorfizmu w Pythonie to funkcje wywołujące te same operacje na obiektach różnych typów, tak zwany [duck typing](https://en.wikipedia.org/wiki/Duck_typing)."
   ]
  },
  {
   "cell_type": "code",
   "execution_count": 28,
   "metadata": {},
   "outputs": [
    {
     "name": "stdout",
     "output_type": "stream",
     "text": [
      "Duck swimming\n",
      "Duck flying\n",
      "Whale swimming\n"
     ]
    },
    {
     "ename": "AttributeError",
     "evalue": "'Whale' object has no attribute 'fly'",
     "output_type": "error",
     "traceback": [
      "\u001b[1;31m---------------------------------------------------------------------------\u001b[0m",
      "\u001b[1;31mAttributeError\u001b[0m                            Traceback (most recent call last)",
      "\u001b[1;32m~\\AppData\\Local\\Temp/ipykernel_23248/3243934453.py\u001b[0m in \u001b[0;36m<module>\u001b[1;34m\u001b[0m\n\u001b[0;32m     12\u001b[0m \u001b[1;32mfor\u001b[0m \u001b[0manimal\u001b[0m \u001b[1;32min\u001b[0m \u001b[1;33m[\u001b[0m\u001b[0mDuck\u001b[0m\u001b[1;33m(\u001b[0m\u001b[1;33m)\u001b[0m\u001b[1;33m,\u001b[0m \u001b[0mWhale\u001b[0m\u001b[1;33m(\u001b[0m\u001b[1;33m)\u001b[0m\u001b[1;33m]\u001b[0m\u001b[1;33m:\u001b[0m\u001b[1;33m\u001b[0m\u001b[1;33m\u001b[0m\u001b[0m\n\u001b[0;32m     13\u001b[0m     \u001b[0manimal\u001b[0m\u001b[1;33m.\u001b[0m\u001b[0mswim\u001b[0m\u001b[1;33m(\u001b[0m\u001b[1;33m)\u001b[0m\u001b[1;33m\u001b[0m\u001b[1;33m\u001b[0m\u001b[0m\n\u001b[1;32m---> 14\u001b[1;33m     \u001b[0manimal\u001b[0m\u001b[1;33m.\u001b[0m\u001b[0mfly\u001b[0m\u001b[1;33m(\u001b[0m\u001b[1;33m)\u001b[0m\u001b[1;33m\u001b[0m\u001b[1;33m\u001b[0m\u001b[0m\n\u001b[0m",
      "\u001b[1;31mAttributeError\u001b[0m: 'Whale' object has no attribute 'fly'"
     ]
    }
   ],
   "source": [
    "class Duck:\n",
    "    def swim(self):\n",
    "        print(\"Duck swimming\")\n",
    "\n",
    "    def fly(self):\n",
    "        print(\"Duck flying\")\n",
    "\n",
    "class Whale:\n",
    "    def swim(self):\n",
    "        print(\"Whale swimming\")\n",
    "\n",
    "for animal in [Duck(), Whale()]:\n",
    "    animal.swim()\n",
    "    animal.fly()"
   ]
  },
  {
   "cell_type": "markdown",
   "metadata": {},
   "source": [
    "### [Dataclass](https://docs.python.org/3/library/dataclasses.html)"
   ]
  },
  {
   "cell_type": "markdown",
   "metadata": {},
   "source": [
    "Aby nie pisać za każdym razem konstruktora (`__init__`), reprezentacji tekstowej (`__repr__`) oraz funkcjonalności porównania (`__eq__`) możemy użyć dekoratora `@dataclass`. Zapisujemy pola takiej klasy pisząc ich nazwy z typami po dwukropku.\n",
    "\n",
    "Co typowe dla Pythona, zadane typy są wyłącznie informacyjne i nic nie stoi na przeszkodzie użyca innych typów."
   ]
  },
  {
   "cell_type": "code",
   "execution_count": 29,
   "metadata": {},
   "outputs": [
    {
     "name": "stdout",
     "output_type": "stream",
     "text": [
      "Dummy(a=1, b=2, c=3)\n",
      "True\n",
      "1 2 3\n"
     ]
    }
   ],
   "source": [
    "from dataclasses import dataclass\n",
    "\n",
    "@dataclass\n",
    "class Dummy:\n",
    "    a: int\n",
    "    b: str\n",
    "    c: list\n",
    "\n",
    "dummy = Dummy(1, 2, 3)\n",
    "dummy2 = Dummy(1, 2, 3)\n",
    "print(dummy)\n",
    "print(dummy == dummy2)\n",
    "print(dummy.a, dummy.b, dummy.c)"
   ]
  },
  {
   "cell_type": "markdown",
   "metadata": {},
   "source": [
    "Dektorator `@dataclass` udostępnia również możliwość tworzenie innej funkcjonalności:"
   ]
  },
  {
   "cell_type": "markdown",
   "metadata": {},
   "source": [
    " * operatory porównania (`<`, `>`, `<=` i `>=`)"
   ]
  },
  {
   "cell_type": "code",
   "execution_count": 30,
   "metadata": {},
   "outputs": [
    {
     "data": {
      "text/plain": [
       "True"
      ]
     },
     "execution_count": 30,
     "metadata": {},
     "output_type": "execute_result"
    }
   ],
   "source": [
    "@dataclass(order=True)\n",
    "class Pair:\n",
    "    a: int\n",
    "    b: float\n",
    "\n",
    "Pair(1, 2.0) < Pair(2, 1.0)"
   ]
  },
  {
   "cell_type": "markdown",
   "metadata": {},
   "source": [
    " * [hashowanie](https://en.wikipedia.org/wiki/Hash_function) bez gwarancji niezmienności"
   ]
  },
  {
   "cell_type": "code",
   "execution_count": 31,
   "metadata": {},
   "outputs": [
    {
     "name": "stdout",
     "output_type": "stream",
     "text": [
      "6909455589863252355\n",
      "-5029647727744300836\n"
     ]
    }
   ],
   "source": [
    "@dataclass(unsafe_hash=True)\n",
    "class HashableList:\n",
    "    l: list\n",
    "\n",
    "h = HashableList(2)\n",
    "print(hash(h))\n",
    "h.l = 3\n",
    "print(hash(h))"
   ]
  },
  {
   "cell_type": "markdown",
   "metadata": {},
   "source": [
    " * niemutowalność pól"
   ]
  },
  {
   "cell_type": "code",
   "execution_count": 32,
   "metadata": {},
   "outputs": [
    {
     "name": "stdout",
     "output_type": "stream",
     "text": [
      "FrozenClass(a=2, b=4.5)\n"
     ]
    },
    {
     "ename": "FrozenInstanceError",
     "evalue": "cannot assign to field 'a'",
     "output_type": "error",
     "traceback": [
      "\u001b[1;31m---------------------------------------------------------------------------\u001b[0m",
      "\u001b[1;31mFrozenInstanceError\u001b[0m                       Traceback (most recent call last)",
      "\u001b[1;32m~\\AppData\\Local\\Temp/ipykernel_23248/1964591950.py\u001b[0m in \u001b[0;36m<module>\u001b[1;34m\u001b[0m\n\u001b[0;32m      6\u001b[0m \u001b[0mf\u001b[0m \u001b[1;33m=\u001b[0m \u001b[0mFrozenClass\u001b[0m\u001b[1;33m(\u001b[0m\u001b[1;36m2\u001b[0m\u001b[1;33m,\u001b[0m \u001b[1;36m4.5\u001b[0m\u001b[1;33m)\u001b[0m\u001b[1;33m\u001b[0m\u001b[1;33m\u001b[0m\u001b[0m\n\u001b[0;32m      7\u001b[0m \u001b[0mprint\u001b[0m\u001b[1;33m(\u001b[0m\u001b[0mf\u001b[0m\u001b[1;33m)\u001b[0m\u001b[1;33m\u001b[0m\u001b[1;33m\u001b[0m\u001b[0m\n\u001b[1;32m----> 8\u001b[1;33m \u001b[0mf\u001b[0m\u001b[1;33m.\u001b[0m\u001b[0ma\u001b[0m \u001b[1;33m=\u001b[0m \u001b[1;36m4\u001b[0m\u001b[1;33m\u001b[0m\u001b[1;33m\u001b[0m\u001b[0m\n\u001b[0m",
      "\u001b[1;32m<string>\u001b[0m in \u001b[0;36m__setattr__\u001b[1;34m(self, name, value)\u001b[0m\n",
      "\u001b[1;31mFrozenInstanceError\u001b[0m: cannot assign to field 'a'"
     ]
    }
   ],
   "source": [
    "@dataclass(frozen=True)\n",
    "class FrozenClass:\n",
    "    a: int\n",
    "    b: float\n",
    "\n",
    "f = FrozenClass(2, 4.5)\n",
    "print(f)\n",
    "f.a = 4"
   ]
  },
  {
   "cell_type": "markdown",
   "metadata": {},
   "source": [
    "#### Zadanie\n",
    "\n",
    "Napisz strukturę o trzech niemutowalnych polach, którą można posortować oraz przechowywać jako element zbioru."
   ]
  },
  {
   "cell_type": "code",
   "execution_count": null,
   "metadata": {},
   "outputs": [],
   "source": []
  },
  {
   "cell_type": "markdown",
   "metadata": {},
   "source": [
    "Dlaczego `unsafe_hash` jest odradzane w użyciu? Może to prowadzić do nieprzewidzianych zachowań przy strukturach bazujących na hashu."
   ]
  },
  {
   "cell_type": "code",
   "execution_count": 33,
   "metadata": {},
   "outputs": [
    {
     "name": "stdout",
     "output_type": "stream",
     "text": [
      "{Three(a=2, b=5, c=3), Three(a=1, b=2, c=3)}\n",
      "{Three(a=2, b=5, c=3), Three(a=1, b=2, c=3)}\n",
      "True\n",
      "False\n",
      "{Three(a=2, b=2, c=3), Three(a=2, b=5, c=3), Three(a=2, b=2, c=3)}\n"
     ]
    }
   ],
   "source": [
    "@dataclass(order=True, unsafe_hash=True)\n",
    "class Three:\n",
    "    a: int\n",
    "    b: int\n",
    "    c: int\n",
    "\n",
    "t1 = Three(1, 2, 3)\n",
    "t2 = Three(2, 5, 3)\n",
    "\n",
    "s = {t1, t2}\n",
    "print(s)\n",
    "s.add(t1)\n",
    "print(s)\n",
    "print(t1 in s)\n",
    "t1.a = 2\n",
    "print(t1 in s)\n",
    "s.add(t1)\n",
    "print(s)"
   ]
  },
  {
   "cell_type": "markdown",
   "metadata": {},
   "source": [
    "### Kopia płytka a głęboka"
   ]
  },
  {
   "cell_type": "markdown",
   "metadata": {},
   "source": [
    "Kopię listy możemy wykonać za pomocą konstruktora `list`, który tworzy nową listę na podstawie zadanych elementów. Kopia taka nie kopiuje jednak elementów w liście a tworzy referencje do dokładnie tych samych obiektów. Tego typu kopię nazywamy kopią płytką."
   ]
  },
  {
   "cell_type": "code",
   "execution_count": 34,
   "metadata": {},
   "outputs": [
    {
     "name": "stdout",
     "output_type": "stream",
     "text": [
      "[Container(field=2), Container(field=2), Container(field=3)]\n"
     ]
    }
   ],
   "source": [
    "@dataclass\n",
    "class Container:\n",
    "    field: int\n",
    "\n",
    "l1 = [Container(1), Container(2), Container(3)]\n",
    "l2 = list(l1)\n",
    "l2[0].field = 2\n",
    "print(l1)"
   ]
  },
  {
   "cell_type": "markdown",
   "metadata": {},
   "source": [
    "W opozycji do płytkiej kopii, kopia głęboka kopiuje rekurencyjnie również obiekty wewnątrz. Do tej operacji wykorzystujemy [deepcopy](https://docs.python.org/3/library/copy.html#copy.deepcopy) z biblioteki [copy](https://docs.python.org/3/library/copy.html)."
   ]
  },
  {
   "cell_type": "code",
   "execution_count": 35,
   "metadata": {},
   "outputs": [
    {
     "name": "stdout",
     "output_type": "stream",
     "text": [
      "[Container(field=1), Container(field=2), Container(field=3)]\n",
      "Container(field=Container(field=2)) Container(field=Container(field=1))\n"
     ]
    }
   ],
   "source": [
    "from copy import deepcopy\n",
    "\n",
    "@dataclass\n",
    "class Container:\n",
    "    field: int\n",
    "\n",
    "l1 = [Container(1), Container(2), Container(3)]\n",
    "l2 = deepcopy(l1)\n",
    "l2[0].field = 2\n",
    "print(l1)\n",
    "\n",
    "c1 = Container(2)\n",
    "c2 = Container(c1)\n",
    "c3 = deepcopy(c2)\n",
    "c3.field.field = 1\n",
    "print(c2, c3)"
   ]
  },
  {
   "cell_type": "markdown",
   "metadata": {},
   "source": [
    "## Serializacja"
   ]
  },
  {
   "cell_type": "markdown",
   "metadata": {},
   "source": [
    "[Serializacją](https://en.wikipedia.org/wiki/Serialization) nazywamy proces zapisu i odczytu danych do postaci możliwej do przechowywania na dysku. Rozróżniamy dwa rodzaje formatu danych:\n",
    " - [binarny](https://en.wikipedia.org/wiki/Binary_file) - dane przechowywane są w kompaktowej formie analogicznej do formatu w pamięci podręcznej. Format mało czytelny dla człowieka i trudny do odtworzenia, jeżeli nie posiadamy informacji o kodowaniu.\n",
    " - [tekstowy](https://en.wikipedia.org/wiki/Text_file) - dane zapisane są w postaci czytelnego tekstu. Format ten zajmuje o wiele więcej miejsca, jest jednak prosty do odczytania i nie wymaga żadnych informacji o formatowaniu."
   ]
  },
  {
   "cell_type": "markdown",
   "metadata": {},
   "source": [
    "Prostym przykładem serializacji jest zapis wbudowaną funkcjonalnością `write`. Operacja ta przyjmuje wyłącznie tekst, dane w ten sposób zapisane są zawsze danymi tekstowymi. Oznacza to, że dane nietekstowe są trudne w odczycie z takiego formatu."
   ]
  },
  {
   "cell_type": "code",
   "execution_count": 36,
   "metadata": {},
   "outputs": [
    {
     "data": {
      "text/plain": [
       "['[', '1', ',', ' ', '2', ',', ' ', '3', ']']"
      ]
     },
     "execution_count": 36,
     "metadata": {},
     "output_type": "execute_result"
    }
   ],
   "source": [
    "data = [1, 2, 3]\n",
    "\n",
    "dummy_file_name = \"dummy.txt\"\n",
    "\n",
    "with open(dummy_file_name, \"w\") as writer:\n",
    "    writer.write(str(data))\n",
    "\n",
    "with open(dummy_file_name, \"r\") as reader:\n",
    "    l = reader.read()\n",
    "\n",
    "if os.path.exists(dummy_file_name):\n",
    "    os.remove(dummy_file_name)\n",
    "\n",
    "list(l)"
   ]
  },
  {
   "cell_type": "markdown",
   "metadata": {},
   "source": [
    "Serializacja do pliku binarnego w Pythonie odbywa się z pomocą modułów [marshal](https://en.wikipedia.org/wiki/Text_file) (wykorzystywany do operowania na pseudo-skompilowanym kodzie Pythona, niezalecane do innych zastosowań), [pickle](https://docs.python.org/3/library/pickle.html#module-pickle) czy [shelve](https://docs.python.org/3/library/shelve.html#module-shelve).\n",
    "\n",
    "###### Moduły te nie wykonują samodzielnie operacji zapisu i odczytu a wykorzystują zadane im obiekty buforowe. Pozwala to, na przykład, na czytanie i zapisywanie danych na serwer lub korzystanie z wejścia/wyjścia do konsoli użytkownika lub innych narzędzi."
   ]
  },
  {
   "cell_type": "code",
   "execution_count": 37,
   "metadata": {},
   "outputs": [
    {
     "data": {
      "text/plain": [
       "2"
      ]
     },
     "execution_count": 37,
     "metadata": {},
     "output_type": "execute_result"
    }
   ],
   "source": [
    "import pickle\n",
    "\n",
    "data = [1, 2, 3]\n",
    "\n",
    "dummy_file_name = \"dummy.txt\"\n",
    "\n",
    "with open(dummy_file_name, \"wb\") as writer:\n",
    "    pickle.dump(data, writer)\n",
    "\n",
    "with open(dummy_file_name, \"rb\") as reader:\n",
    "    l = pickle.load(reader)\n",
    "\n",
    "if os.path.exists(dummy_file_name):\n",
    "    os.remove(dummy_file_name)\n",
    "\n",
    "l[1]"
   ]
  },
  {
   "cell_type": "markdown",
   "metadata": {},
   "source": [
    "Serializacja tekstowa może odbywać się na wiele sposobów. Jednym z częstszych jest wykorzystanie tak zwanej JavaScript Object Notation lub [JSON](https://en.wikipedia.org/wiki/JSON). W Pythonie wykorzystujemy do tego moduł [json](https://docs.python.org/3/library/json.html)."
   ]
  },
  {
   "cell_type": "code",
   "execution_count": 38,
   "metadata": {},
   "outputs": [
    {
     "data": {
      "text/plain": [
       "15"
      ]
     },
     "execution_count": 38,
     "metadata": {},
     "output_type": "execute_result"
    }
   ],
   "source": [
    "import json\n",
    "\n",
    "dummy_file_name = \"dummy.json\"\n",
    "\n",
    "data = {\n",
    "    \"capitals\":\n",
    "    {\n",
    "        \"Poland\": \"Warsaw\",\n",
    "        \"Sri Lanka\": \"Sri Jayawardenepura Kotte\",\n",
    "        \"Czechia\": \"Prague\"\n",
    "    },\n",
    "    \"numbers\": [1, 2, 3, 4],\n",
    "    \"number\": 15\n",
    "}\n",
    "\n",
    "with open(dummy_file_name, \"w\") as writer:\n",
    "    json.dump(data, writer)\n",
    "\n",
    "with open(dummy_file_name, \"r\") as reader:\n",
    "    l = json.load(reader)\n",
    "\n",
    "if os.path.exists(dummy_file_name):\n",
    "    os.remove(dummy_file_name)\n",
    "\n",
    "l[\"number\"]\n"
   ]
  },
  {
   "cell_type": "markdown",
   "metadata": {},
   "source": [
    "###### Podobnym w strukturze formatej jest [XML](https://en.wikipedia.org/wiki/XML), do którego wykorzystujemy pakiet [xml.etree.ElementTree](https://docs.python.org/3/library/xml.etree.elementtree.html)."
   ]
  },
  {
   "cell_type": "markdown",
   "metadata": {},
   "source": [
    "Formaty `JSON` i `XML` zapisują dane w formacie drzewiastym jako słowniki zagnieżdżone, to jest, są słownikami zawierającymi wartości, które tekstem, listą lub słownikiem. Inną formą zapisu danych jest zapis w postaci tablicy dwuwymiarowej. Taką formę uzyskujemy na przykład formatem [csv](https://en.wikipedia.org/wiki/Comma-separated_values). Serializujemy dane w tym formacie z pomocą modułu [csv](https://docs.python.org/3/library/csv.html)."
   ]
  },
  {
   "cell_type": "code",
   "execution_count": 39,
   "metadata": {},
   "outputs": [
    {
     "data": {
      "text/plain": [
       "[['pracownik', 'pensja'],\n",
       " ['Jan Kowalski', '2500'],\n",
       " ['Joanna Dolegiewicz', '7500'],\n",
       " ['Katarzyna Kot', '10000']]"
      ]
     },
     "execution_count": 39,
     "metadata": {},
     "output_type": "execute_result"
    }
   ],
   "source": [
    "dummy_file_name = \"pracownicy.csv\"\n",
    "\n",
    "data = [['pracownik', 'pensja'],\n",
    "    ['Jan Kowalski', '2500'],\n",
    "    ['Joanna Dolegiewicz', '7500'],\n",
    "    ['Katarzyna Kot', '10000']]\n",
    "\n",
    "import csv\n",
    "\n",
    "with open(dummy_file_name, 'w', newline='') as writer:\n",
    "    csv_writer = csv.writer(writer)\n",
    "    csv_writer.writerows(data)\n",
    "\n",
    "with open(dummy_file_name, \"r\") as reader:\n",
    "    csv_reader = csv.reader(reader)\n",
    "    l = list(csv_reader)\n",
    "\n",
    "if os.path.exists(dummy_file_name):\n",
    "    os.remove(dummy_file_name)\n",
    "\n",
    "l"
   ]
  },
  {
   "cell_type": "markdown",
   "metadata": {},
   "source": [
    "Wczytywanie z pomocą modułu `csv` tworzy tablicę tablic, która może być problematyczna w operowaniu. Pliki, z których wczytujemy mogą mieć również pewne niestandardowe nagłówki i stópki a także mieć niestandardowe rozdzielanie danych. Dla lepszego operowania na większych zbiorach danych zaleca się zewnętrzny moduł [pandas](https://pandas.pydata.org/)."
   ]
  },
  {
   "cell_type": "code",
   "execution_count": 40,
   "metadata": {},
   "outputs": [
    {
     "data": {
      "text/html": [
       "<div>\n",
       "<style scoped>\n",
       "    .dataframe tbody tr th:only-of-type {\n",
       "        vertical-align: middle;\n",
       "    }\n",
       "\n",
       "    .dataframe tbody tr th {\n",
       "        vertical-align: top;\n",
       "    }\n",
       "\n",
       "    .dataframe thead th {\n",
       "        text-align: right;\n",
       "    }\n",
       "</style>\n",
       "<table border=\"1\" class=\"dataframe\">\n",
       "  <thead>\n",
       "    <tr style=\"text-align: right;\">\n",
       "      <th></th>\n",
       "      <th>0</th>\n",
       "      <th>1</th>\n",
       "      <th>2</th>\n",
       "      <th>3</th>\n",
       "    </tr>\n",
       "  </thead>\n",
       "  <tbody>\n",
       "    <tr>\n",
       "      <th>0</th>\n",
       "      <td>22.5229</td>\n",
       "      <td>-0.1666</td>\n",
       "      <td>26 Oct 2022</td>\n",
       "      <td>09:39:09</td>\n",
       "    </tr>\n",
       "    <tr>\n",
       "      <th>1</th>\n",
       "      <td>22.5217</td>\n",
       "      <td>-0.1708</td>\n",
       "      <td>26 Oct 2022</td>\n",
       "      <td>09:39:10</td>\n",
       "    </tr>\n",
       "    <tr>\n",
       "      <th>2</th>\n",
       "      <td>22.5207</td>\n",
       "      <td>-0.1685</td>\n",
       "      <td>26 Oct 2022</td>\n",
       "      <td>09:39:11</td>\n",
       "    </tr>\n",
       "    <tr>\n",
       "      <th>3</th>\n",
       "      <td>22.5196</td>\n",
       "      <td>-0.1688</td>\n",
       "      <td>26 Oct 2022</td>\n",
       "      <td>09:39:12</td>\n",
       "    </tr>\n",
       "    <tr>\n",
       "      <th>4</th>\n",
       "      <td>22.5195</td>\n",
       "      <td>-0.1714</td>\n",
       "      <td>26 Oct 2022</td>\n",
       "      <td>09:39:13</td>\n",
       "    </tr>\n",
       "    <tr>\n",
       "      <th>...</th>\n",
       "      <td>...</td>\n",
       "      <td>...</td>\n",
       "      <td>...</td>\n",
       "      <td>...</td>\n",
       "    </tr>\n",
       "    <tr>\n",
       "      <th>9464</th>\n",
       "      <td>13.3829</td>\n",
       "      <td>-0.1645</td>\n",
       "      <td>26 Oct 2022</td>\n",
       "      <td>12:16:53</td>\n",
       "    </tr>\n",
       "    <tr>\n",
       "      <th>9465</th>\n",
       "      <td>13.3952</td>\n",
       "      <td>-0.1623</td>\n",
       "      <td>26 Oct 2022</td>\n",
       "      <td>12:16:54</td>\n",
       "    </tr>\n",
       "    <tr>\n",
       "      <th>9466</th>\n",
       "      <td>13.4723</td>\n",
       "      <td>-0.1646</td>\n",
       "      <td>26 Oct 2022</td>\n",
       "      <td>12:16:55</td>\n",
       "    </tr>\n",
       "    <tr>\n",
       "      <th>9467</th>\n",
       "      <td>13.5213</td>\n",
       "      <td>-0.1628</td>\n",
       "      <td>26 Oct 2022</td>\n",
       "      <td>12:16:56</td>\n",
       "    </tr>\n",
       "    <tr>\n",
       "      <th>9468</th>\n",
       "      <td>13.5835</td>\n",
       "      <td>-0.1667</td>\n",
       "      <td>26 Oct 2022</td>\n",
       "      <td>12:16:57</td>\n",
       "    </tr>\n",
       "  </tbody>\n",
       "</table>\n",
       "<p>9469 rows × 4 columns</p>\n",
       "</div>"
      ],
      "text/plain": [
       "            0       1             2          3\n",
       "0     22.5229 -0.1666   26 Oct 2022   09:39:09\n",
       "1     22.5217 -0.1708   26 Oct 2022   09:39:10\n",
       "2     22.5207 -0.1685   26 Oct 2022   09:39:11\n",
       "3     22.5196 -0.1688   26 Oct 2022   09:39:12\n",
       "4     22.5195 -0.1714   26 Oct 2022   09:39:13\n",
       "...       ...     ...           ...        ...\n",
       "9464  13.3829 -0.1645   26 Oct 2022   12:16:53\n",
       "9465  13.3952 -0.1623   26 Oct 2022   12:16:54\n",
       "9466  13.4723 -0.1646   26 Oct 2022   12:16:55\n",
       "9467  13.5213 -0.1628   26 Oct 2022   12:16:56\n",
       "9468  13.5835 -0.1667   26 Oct 2022   12:16:57\n",
       "\n",
       "[9469 rows x 4 columns]"
      ]
     },
     "metadata": {},
     "output_type": "display_data"
    },
    {
     "data": {
      "text/html": [
       "<div>\n",
       "<style scoped>\n",
       "    .dataframe tbody tr th:only-of-type {\n",
       "        vertical-align: middle;\n",
       "    }\n",
       "\n",
       "    .dataframe tbody tr th {\n",
       "        vertical-align: top;\n",
       "    }\n",
       "\n",
       "    .dataframe thead th {\n",
       "        text-align: right;\n",
       "    }\n",
       "</style>\n",
       "<table border=\"1\" class=\"dataframe\">\n",
       "  <thead>\n",
       "    <tr style=\"text-align: right;\">\n",
       "      <th></th>\n",
       "      <th>0</th>\n",
       "      <th>1</th>\n",
       "      <th>2</th>\n",
       "      <th>3</th>\n",
       "    </tr>\n",
       "  </thead>\n",
       "  <tbody>\n",
       "    <tr>\n",
       "      <th>9438</th>\n",
       "      <td>14.9072</td>\n",
       "      <td>-0.1662</td>\n",
       "      <td>26 Oct 2022</td>\n",
       "      <td>12:16:27</td>\n",
       "    </tr>\n",
       "    <tr>\n",
       "      <th>9439</th>\n",
       "      <td>14.8085</td>\n",
       "      <td>-0.1628</td>\n",
       "      <td>26 Oct 2022</td>\n",
       "      <td>12:16:28</td>\n",
       "    </tr>\n",
       "    <tr>\n",
       "      <th>9440</th>\n",
       "      <td>14.7843</td>\n",
       "      <td>-0.1673</td>\n",
       "      <td>26 Oct 2022</td>\n",
       "      <td>12:16:29</td>\n",
       "    </tr>\n",
       "    <tr>\n",
       "      <th>9441</th>\n",
       "      <td>14.7475</td>\n",
       "      <td>-0.1676</td>\n",
       "      <td>26 Oct 2022</td>\n",
       "      <td>12:16:30</td>\n",
       "    </tr>\n",
       "    <tr>\n",
       "      <th>9442</th>\n",
       "      <td>14.6152</td>\n",
       "      <td>-0.1656</td>\n",
       "      <td>26 Oct 2022</td>\n",
       "      <td>12:16:31</td>\n",
       "    </tr>\n",
       "    <tr>\n",
       "      <th>9443</th>\n",
       "      <td>14.4687</td>\n",
       "      <td>-0.1670</td>\n",
       "      <td>26 Oct 2022</td>\n",
       "      <td>12:16:32</td>\n",
       "    </tr>\n",
       "    <tr>\n",
       "      <th>9444</th>\n",
       "      <td>14.4415</td>\n",
       "      <td>-0.1641</td>\n",
       "      <td>26 Oct 2022</td>\n",
       "      <td>12:16:33</td>\n",
       "    </tr>\n",
       "    <tr>\n",
       "      <th>9445</th>\n",
       "      <td>14.2935</td>\n",
       "      <td>-0.1686</td>\n",
       "      <td>26 Oct 2022</td>\n",
       "      <td>12:16:34</td>\n",
       "    </tr>\n",
       "    <tr>\n",
       "      <th>9446</th>\n",
       "      <td>14.2080</td>\n",
       "      <td>-0.1686</td>\n",
       "      <td>26 Oct 2022</td>\n",
       "      <td>12:16:35</td>\n",
       "    </tr>\n",
       "    <tr>\n",
       "      <th>9447</th>\n",
       "      <td>14.0593</td>\n",
       "      <td>-0.1676</td>\n",
       "      <td>26 Oct 2022</td>\n",
       "      <td>12:16:36</td>\n",
       "    </tr>\n",
       "    <tr>\n",
       "      <th>9448</th>\n",
       "      <td>14.0298</td>\n",
       "      <td>-0.1667</td>\n",
       "      <td>26 Oct 2022</td>\n",
       "      <td>12:16:37</td>\n",
       "    </tr>\n",
       "    <tr>\n",
       "      <th>9449</th>\n",
       "      <td>13.9317</td>\n",
       "      <td>-0.1655</td>\n",
       "      <td>26 Oct 2022</td>\n",
       "      <td>12:16:38</td>\n",
       "    </tr>\n",
       "    <tr>\n",
       "      <th>9450</th>\n",
       "      <td>13.8605</td>\n",
       "      <td>-0.1639</td>\n",
       "      <td>26 Oct 2022</td>\n",
       "      <td>12:16:39</td>\n",
       "    </tr>\n",
       "    <tr>\n",
       "      <th>9451</th>\n",
       "      <td>13.7957</td>\n",
       "      <td>-0.1668</td>\n",
       "      <td>26 Oct 2022</td>\n",
       "      <td>12:16:40</td>\n",
       "    </tr>\n",
       "    <tr>\n",
       "      <th>9452</th>\n",
       "      <td>13.7602</td>\n",
       "      <td>-0.1656</td>\n",
       "      <td>26 Oct 2022</td>\n",
       "      <td>12:16:41</td>\n",
       "    </tr>\n",
       "    <tr>\n",
       "      <th>9453</th>\n",
       "      <td>13.7172</td>\n",
       "      <td>-0.1672</td>\n",
       "      <td>26 Oct 2022</td>\n",
       "      <td>12:16:42</td>\n",
       "    </tr>\n",
       "    <tr>\n",
       "      <th>9454</th>\n",
       "      <td>13.6726</td>\n",
       "      <td>-0.1629</td>\n",
       "      <td>26 Oct 2022</td>\n",
       "      <td>12:16:43</td>\n",
       "    </tr>\n",
       "    <tr>\n",
       "      <th>9455</th>\n",
       "      <td>13.6382</td>\n",
       "      <td>-0.1695</td>\n",
       "      <td>26 Oct 2022</td>\n",
       "      <td>12:16:44</td>\n",
       "    </tr>\n",
       "    <tr>\n",
       "      <th>9456</th>\n",
       "      <td>13.5855</td>\n",
       "      <td>-0.1696</td>\n",
       "      <td>26 Oct 2022</td>\n",
       "      <td>12:16:45</td>\n",
       "    </tr>\n",
       "    <tr>\n",
       "      <th>9457</th>\n",
       "      <td>13.5696</td>\n",
       "      <td>-0.1649</td>\n",
       "      <td>26 Oct 2022</td>\n",
       "      <td>12:16:46</td>\n",
       "    </tr>\n",
       "    <tr>\n",
       "      <th>9458</th>\n",
       "      <td>13.5421</td>\n",
       "      <td>-0.1658</td>\n",
       "      <td>26 Oct 2022</td>\n",
       "      <td>12:16:47</td>\n",
       "    </tr>\n",
       "    <tr>\n",
       "      <th>9459</th>\n",
       "      <td>13.4457</td>\n",
       "      <td>-0.1653</td>\n",
       "      <td>26 Oct 2022</td>\n",
       "      <td>12:16:48</td>\n",
       "    </tr>\n",
       "    <tr>\n",
       "      <th>9460</th>\n",
       "      <td>13.3469</td>\n",
       "      <td>-0.1660</td>\n",
       "      <td>26 Oct 2022</td>\n",
       "      <td>12:16:49</td>\n",
       "    </tr>\n",
       "    <tr>\n",
       "      <th>9461</th>\n",
       "      <td>13.3112</td>\n",
       "      <td>-0.1642</td>\n",
       "      <td>26 Oct 2022</td>\n",
       "      <td>12:16:50</td>\n",
       "    </tr>\n",
       "    <tr>\n",
       "      <th>9462</th>\n",
       "      <td>13.2922</td>\n",
       "      <td>-0.1617</td>\n",
       "      <td>26 Oct 2022</td>\n",
       "      <td>12:16:51</td>\n",
       "    </tr>\n",
       "    <tr>\n",
       "      <th>9463</th>\n",
       "      <td>13.2964</td>\n",
       "      <td>-0.1638</td>\n",
       "      <td>26 Oct 2022</td>\n",
       "      <td>12:16:52</td>\n",
       "    </tr>\n",
       "    <tr>\n",
       "      <th>9464</th>\n",
       "      <td>13.3829</td>\n",
       "      <td>-0.1645</td>\n",
       "      <td>26 Oct 2022</td>\n",
       "      <td>12:16:53</td>\n",
       "    </tr>\n",
       "    <tr>\n",
       "      <th>9465</th>\n",
       "      <td>13.3952</td>\n",
       "      <td>-0.1623</td>\n",
       "      <td>26 Oct 2022</td>\n",
       "      <td>12:16:54</td>\n",
       "    </tr>\n",
       "    <tr>\n",
       "      <th>9466</th>\n",
       "      <td>13.4723</td>\n",
       "      <td>-0.1646</td>\n",
       "      <td>26 Oct 2022</td>\n",
       "      <td>12:16:55</td>\n",
       "    </tr>\n",
       "    <tr>\n",
       "      <th>9467</th>\n",
       "      <td>13.5213</td>\n",
       "      <td>-0.1628</td>\n",
       "      <td>26 Oct 2022</td>\n",
       "      <td>12:16:56</td>\n",
       "    </tr>\n",
       "    <tr>\n",
       "      <th>9468</th>\n",
       "      <td>13.5835</td>\n",
       "      <td>-0.1667</td>\n",
       "      <td>26 Oct 2022</td>\n",
       "      <td>12:16:57</td>\n",
       "    </tr>\n",
       "  </tbody>\n",
       "</table>\n",
       "</div>"
      ],
      "text/plain": [
       "            0       1             2          3\n",
       "9438  14.9072 -0.1662   26 Oct 2022   12:16:27\n",
       "9439  14.8085 -0.1628   26 Oct 2022   12:16:28\n",
       "9440  14.7843 -0.1673   26 Oct 2022   12:16:29\n",
       "9441  14.7475 -0.1676   26 Oct 2022   12:16:30\n",
       "9442  14.6152 -0.1656   26 Oct 2022   12:16:31\n",
       "9443  14.4687 -0.1670   26 Oct 2022   12:16:32\n",
       "9444  14.4415 -0.1641   26 Oct 2022   12:16:33\n",
       "9445  14.2935 -0.1686   26 Oct 2022   12:16:34\n",
       "9446  14.2080 -0.1686   26 Oct 2022   12:16:35\n",
       "9447  14.0593 -0.1676   26 Oct 2022   12:16:36\n",
       "9448  14.0298 -0.1667   26 Oct 2022   12:16:37\n",
       "9449  13.9317 -0.1655   26 Oct 2022   12:16:38\n",
       "9450  13.8605 -0.1639   26 Oct 2022   12:16:39\n",
       "9451  13.7957 -0.1668   26 Oct 2022   12:16:40\n",
       "9452  13.7602 -0.1656   26 Oct 2022   12:16:41\n",
       "9453  13.7172 -0.1672   26 Oct 2022   12:16:42\n",
       "9454  13.6726 -0.1629   26 Oct 2022   12:16:43\n",
       "9455  13.6382 -0.1695   26 Oct 2022   12:16:44\n",
       "9456  13.5855 -0.1696   26 Oct 2022   12:16:45\n",
       "9457  13.5696 -0.1649   26 Oct 2022   12:16:46\n",
       "9458  13.5421 -0.1658   26 Oct 2022   12:16:47\n",
       "9459  13.4457 -0.1653   26 Oct 2022   12:16:48\n",
       "9460  13.3469 -0.1660   26 Oct 2022   12:16:49\n",
       "9461  13.3112 -0.1642   26 Oct 2022   12:16:50\n",
       "9462  13.2922 -0.1617   26 Oct 2022   12:16:51\n",
       "9463  13.2964 -0.1638   26 Oct 2022   12:16:52\n",
       "9464  13.3829 -0.1645   26 Oct 2022   12:16:53\n",
       "9465  13.3952 -0.1623   26 Oct 2022   12:16:54\n",
       "9466  13.4723 -0.1646   26 Oct 2022   12:16:55\n",
       "9467  13.5213 -0.1628   26 Oct 2022   12:16:56\n",
       "9468  13.5835 -0.1667   26 Oct 2022   12:16:57"
      ]
     },
     "metadata": {},
     "output_type": "display_data"
    },
    {
     "data": {
      "text/html": [
       "<div>\n",
       "<style scoped>\n",
       "    .dataframe tbody tr th:only-of-type {\n",
       "        vertical-align: middle;\n",
       "    }\n",
       "\n",
       "    .dataframe tbody tr th {\n",
       "        vertical-align: top;\n",
       "    }\n",
       "\n",
       "    .dataframe thead th {\n",
       "        text-align: right;\n",
       "    }\n",
       "</style>\n",
       "<table border=\"1\" class=\"dataframe\">\n",
       "  <thead>\n",
       "    <tr style=\"text-align: right;\">\n",
       "      <th></th>\n",
       "      <th>0</th>\n",
       "      <th>1</th>\n",
       "      <th>2</th>\n",
       "      <th>3</th>\n",
       "      <th>4</th>\n",
       "    </tr>\n",
       "  </thead>\n",
       "  <tbody>\n",
       "    <tr>\n",
       "      <th>0</th>\n",
       "      <td>22.5229</td>\n",
       "      <td>-0.1666</td>\n",
       "      <td>26 Oct 2022</td>\n",
       "      <td>09:39:09</td>\n",
       "      <td>12.027756</td>\n",
       "    </tr>\n",
       "    <tr>\n",
       "      <th>1</th>\n",
       "      <td>22.5217</td>\n",
       "      <td>-0.1708</td>\n",
       "      <td>26 Oct 2022</td>\n",
       "      <td>09:39:10</td>\n",
       "      <td>12.029173</td>\n",
       "    </tr>\n",
       "    <tr>\n",
       "      <th>2</th>\n",
       "      <td>22.5207</td>\n",
       "      <td>-0.1685</td>\n",
       "      <td>26 Oct 2022</td>\n",
       "      <td>09:39:11</td>\n",
       "      <td>12.028392</td>\n",
       "    </tr>\n",
       "    <tr>\n",
       "      <th>3</th>\n",
       "      <td>22.5196</td>\n",
       "      <td>-0.1688</td>\n",
       "      <td>26 Oct 2022</td>\n",
       "      <td>09:39:12</td>\n",
       "      <td>12.028493</td>\n",
       "    </tr>\n",
       "    <tr>\n",
       "      <th>4</th>\n",
       "      <td>22.5195</td>\n",
       "      <td>-0.1714</td>\n",
       "      <td>26 Oct 2022</td>\n",
       "      <td>09:39:13</td>\n",
       "      <td>12.029378</td>\n",
       "    </tr>\n",
       "    <tr>\n",
       "      <th>...</th>\n",
       "      <td>...</td>\n",
       "      <td>...</td>\n",
       "      <td>...</td>\n",
       "      <td>...</td>\n",
       "      <td>...</td>\n",
       "    </tr>\n",
       "    <tr>\n",
       "      <th>9464</th>\n",
       "      <td>13.3829</td>\n",
       "      <td>-0.1645</td>\n",
       "      <td>26 Oct 2022</td>\n",
       "      <td>12:16:53</td>\n",
       "      <td>12.027060</td>\n",
       "    </tr>\n",
       "    <tr>\n",
       "      <th>9465</th>\n",
       "      <td>13.3952</td>\n",
       "      <td>-0.1623</td>\n",
       "      <td>26 Oct 2022</td>\n",
       "      <td>12:16:54</td>\n",
       "      <td>12.026341</td>\n",
       "    </tr>\n",
       "    <tr>\n",
       "      <th>9466</th>\n",
       "      <td>13.4723</td>\n",
       "      <td>-0.1646</td>\n",
       "      <td>26 Oct 2022</td>\n",
       "      <td>12:16:55</td>\n",
       "      <td>12.027093</td>\n",
       "    </tr>\n",
       "    <tr>\n",
       "      <th>9467</th>\n",
       "      <td>13.5213</td>\n",
       "      <td>-0.1628</td>\n",
       "      <td>26 Oct 2022</td>\n",
       "      <td>12:16:56</td>\n",
       "      <td>12.026504</td>\n",
       "    </tr>\n",
       "    <tr>\n",
       "      <th>9468</th>\n",
       "      <td>13.5835</td>\n",
       "      <td>-0.1667</td>\n",
       "      <td>26 Oct 2022</td>\n",
       "      <td>12:16:57</td>\n",
       "      <td>12.027789</td>\n",
       "    </tr>\n",
       "  </tbody>\n",
       "</table>\n",
       "<p>9469 rows × 5 columns</p>\n",
       "</div>"
      ],
      "text/plain": [
       "            0       1             2          3          4\n",
       "0     22.5229 -0.1666   26 Oct 2022   09:39:09  12.027756\n",
       "1     22.5217 -0.1708   26 Oct 2022   09:39:10  12.029173\n",
       "2     22.5207 -0.1685   26 Oct 2022   09:39:11  12.028392\n",
       "3     22.5196 -0.1688   26 Oct 2022   09:39:12  12.028493\n",
       "4     22.5195 -0.1714   26 Oct 2022   09:39:13  12.029378\n",
       "...       ...     ...           ...        ...        ...\n",
       "9464  13.3829 -0.1645   26 Oct 2022   12:16:53  12.027060\n",
       "9465  13.3952 -0.1623   26 Oct 2022   12:16:54  12.026341\n",
       "9466  13.4723 -0.1646   26 Oct 2022   12:16:55  12.027093\n",
       "9467  13.5213 -0.1628   26 Oct 2022   12:16:56  12.026504\n",
       "9468  13.5835 -0.1667   26 Oct 2022   12:16:57  12.027789\n",
       "\n",
       "[9469 rows x 5 columns]"
      ]
     },
     "metadata": {},
     "output_type": "display_data"
    },
    {
     "data": {
      "text/html": [
       "<div>\n",
       "<style scoped>\n",
       "    .dataframe tbody tr th:only-of-type {\n",
       "        vertical-align: middle;\n",
       "    }\n",
       "\n",
       "    .dataframe tbody tr th {\n",
       "        vertical-align: top;\n",
       "    }\n",
       "\n",
       "    .dataframe thead th {\n",
       "        text-align: right;\n",
       "    }\n",
       "</style>\n",
       "<table border=\"1\" class=\"dataframe\">\n",
       "  <thead>\n",
       "    <tr style=\"text-align: right;\">\n",
       "      <th></th>\n",
       "      <th>0</th>\n",
       "      <th>1</th>\n",
       "      <th>2</th>\n",
       "      <th>3</th>\n",
       "      <th>4</th>\n",
       "    </tr>\n",
       "  </thead>\n",
       "  <tbody>\n",
       "    <tr>\n",
       "      <th>9462</th>\n",
       "      <td>13.2922</td>\n",
       "      <td>-0.1617</td>\n",
       "      <td>26 Oct 2022</td>\n",
       "      <td>12:16:51</td>\n",
       "      <td>12.026147</td>\n",
       "    </tr>\n",
       "    <tr>\n",
       "      <th>9463</th>\n",
       "      <td>13.2964</td>\n",
       "      <td>-0.1638</td>\n",
       "      <td>26 Oct 2022</td>\n",
       "      <td>12:16:52</td>\n",
       "      <td>12.026830</td>\n",
       "    </tr>\n",
       "    <tr>\n",
       "      <th>9461</th>\n",
       "      <td>13.3112</td>\n",
       "      <td>-0.1642</td>\n",
       "      <td>26 Oct 2022</td>\n",
       "      <td>12:16:50</td>\n",
       "      <td>12.026962</td>\n",
       "    </tr>\n",
       "    <tr>\n",
       "      <th>9460</th>\n",
       "      <td>13.3469</td>\n",
       "      <td>-0.1660</td>\n",
       "      <td>26 Oct 2022</td>\n",
       "      <td>12:16:49</td>\n",
       "      <td>12.027556</td>\n",
       "    </tr>\n",
       "    <tr>\n",
       "      <th>9464</th>\n",
       "      <td>13.3829</td>\n",
       "      <td>-0.1645</td>\n",
       "      <td>26 Oct 2022</td>\n",
       "      <td>12:16:53</td>\n",
       "      <td>12.027060</td>\n",
       "    </tr>\n",
       "    <tr>\n",
       "      <th>...</th>\n",
       "      <td>...</td>\n",
       "      <td>...</td>\n",
       "      <td>...</td>\n",
       "      <td>...</td>\n",
       "      <td>...</td>\n",
       "    </tr>\n",
       "    <tr>\n",
       "      <th>25</th>\n",
       "      <td>22.7309</td>\n",
       "      <td>-0.1688</td>\n",
       "      <td>26 Oct 2022</td>\n",
       "      <td>09:39:34</td>\n",
       "      <td>12.028493</td>\n",
       "    </tr>\n",
       "    <tr>\n",
       "      <th>24</th>\n",
       "      <td>22.7336</td>\n",
       "      <td>-0.1675</td>\n",
       "      <td>26 Oct 2022</td>\n",
       "      <td>09:39:33</td>\n",
       "      <td>12.028056</td>\n",
       "    </tr>\n",
       "    <tr>\n",
       "      <th>23</th>\n",
       "      <td>22.7371</td>\n",
       "      <td>-0.1700</td>\n",
       "      <td>26 Oct 2022</td>\n",
       "      <td>09:39:32</td>\n",
       "      <td>12.028900</td>\n",
       "    </tr>\n",
       "    <tr>\n",
       "      <th>22</th>\n",
       "      <td>22.7389</td>\n",
       "      <td>-0.1744</td>\n",
       "      <td>26 Oct 2022</td>\n",
       "      <td>09:39:31</td>\n",
       "      <td>12.030415</td>\n",
       "    </tr>\n",
       "    <tr>\n",
       "      <th>21</th>\n",
       "      <td>22.7399</td>\n",
       "      <td>-0.1650</td>\n",
       "      <td>26 Oct 2022</td>\n",
       "      <td>09:39:30</td>\n",
       "      <td>12.027225</td>\n",
       "    </tr>\n",
       "  </tbody>\n",
       "</table>\n",
       "<p>9469 rows × 5 columns</p>\n",
       "</div>"
      ],
      "text/plain": [
       "            0       1             2          3          4\n",
       "9462  13.2922 -0.1617   26 Oct 2022   12:16:51  12.026147\n",
       "9463  13.2964 -0.1638   26 Oct 2022   12:16:52  12.026830\n",
       "9461  13.3112 -0.1642   26 Oct 2022   12:16:50  12.026962\n",
       "9460  13.3469 -0.1660   26 Oct 2022   12:16:49  12.027556\n",
       "9464  13.3829 -0.1645   26 Oct 2022   12:16:53  12.027060\n",
       "...       ...     ...           ...        ...        ...\n",
       "25    22.7309 -0.1688   26 Oct 2022   09:39:34  12.028493\n",
       "24    22.7336 -0.1675   26 Oct 2022   09:39:33  12.028056\n",
       "23    22.7371 -0.1700   26 Oct 2022   09:39:32  12.028900\n",
       "22    22.7389 -0.1744   26 Oct 2022   09:39:31  12.030415\n",
       "21    22.7399 -0.1650   26 Oct 2022   09:39:30  12.027225\n",
       "\n",
       "[9469 rows x 5 columns]"
      ]
     },
     "metadata": {},
     "output_type": "display_data"
    }
   ],
   "source": [
    "import pandas as pd\n",
    "\n",
    "data = pd.read_csv(\"./samples/SBE39plus_03907421_2022_10_26.asc\", sep=\",\", skiprows=11, header=None)\n",
    "display(data)\n",
    "display(data[(data[0]>1)&(data[0]<15)])\n",
    "data[4] = data[1] ** 2.0 + 12\n",
    "display(data)\n",
    "display(data.sort_values(by=[0]))\n"
   ]
  },
  {
   "cell_type": "markdown",
   "metadata": {},
   "source": [
    "## Dekoratory"
   ]
  },
  {
   "cell_type": "markdown",
   "metadata": {},
   "source": [
    "Dekorator w Pythonie to nakładka (formalnie [funkcjonał](https://en.wikipedia.org/wiki/Functional_(mathematics))), którą możemy nałożyć na funkcję. Pozwala na stworzenie kontekstu wywołania dla definiowanej funkcji. Dekorator w ten sposób jest funkcją, która zwraca funkcję, która ma zostać wykonana zamiast funkcji dekorowanej."
   ]
  },
  {
   "cell_type": "code",
   "execution_count": 41,
   "metadata": {},
   "outputs": [
    {
     "name": "stdout",
     "output_type": "stream",
     "text": [
      "Function execution called\n",
      "0 obtained as the result of the call\n"
     ]
    },
    {
     "data": {
      "text/plain": [
       "0"
      ]
     },
     "execution_count": 41,
     "metadata": {},
     "output_type": "execute_result"
    }
   ],
   "source": [
    "def log_usage(func):\n",
    "    def wrapper():\n",
    "        print(\"Function execution called\")\n",
    "        result = func()\n",
    "        print(f\"{result} obtained as the result of the call\")\n",
    "        return result\n",
    "    return wrapper\n",
    "\n",
    "@log_usage\n",
    "def dummyFunction():\n",
    "    return 0\n",
    "\n",
    "dummyFunction()"
   ]
  },
  {
   "cell_type": "markdown",
   "metadata": {},
   "source": [
    "Dekorator może również przyjmować argumenty, które zdefiniują jego zachowanie. W tym wypadku musimy otoczyć definicję dekoratora nakładką, która zwróci sam dekorator na podstawie zadanych argumentów."
   ]
  },
  {
   "cell_type": "code",
   "execution_count": 42,
   "metadata": {},
   "outputs": [
    {
     "name": "stdout",
     "output_type": "stream",
     "text": [
      "Dummy logger: Dummy hello\n",
      "Dummy logger: Function execution called\n",
      "Dummy logger: 0 obtained as the result of the call\n"
     ]
    },
    {
     "data": {
      "text/plain": [
       "0"
      ]
     },
     "execution_count": 42,
     "metadata": {},
     "output_type": "execute_result"
    }
   ],
   "source": [
    "def log_usage(name, greeting):\n",
    "    def dec(func):\n",
    "        def wrapper():\n",
    "            print(f\"{name}: {greeting}\")\n",
    "            print(f\"{name}: Function execution called\")\n",
    "            result = func()\n",
    "            print(f\"{name}: {result} obtained as the result of the call\")\n",
    "            return result\n",
    "        return wrapper\n",
    "    return dec\n",
    "\n",
    "@log_usage(\"Dummy logger\", \"Dummy hello\")\n",
    "def dummyFunction():\n",
    "    return 0\n",
    "\n",
    "dummyFunction()"
   ]
  },
  {
   "cell_type": "markdown",
   "metadata": {},
   "source": [
    "## Wyrażenia lambda"
   ]
  },
  {
   "cell_type": "markdown",
   "metadata": {},
   "source": [
    "## Generatory i iteratory"
   ]
  },
  {
   "cell_type": "markdown",
   "metadata": {},
   "source": [
    "## Wyrażenia regularne"
   ]
  },
  {
   "cell_type": "markdown",
   "metadata": {},
   "source": [
    "## Wielowątkowość"
   ]
  },
  {
   "cell_type": "markdown",
   "metadata": {},
   "source": [
    "## Profilowanie kodu"
   ]
  }
 ],
 "metadata": {
  "kernelspec": {
   "display_name": "Python 3.9.6 ('pyML')",
   "language": "python",
   "name": "python3"
  },
  "language_info": {
   "codemirror_mode": {
    "name": "ipython",
    "version": 3
   },
   "file_extension": ".py",
   "mimetype": "text/x-python",
   "name": "python",
   "nbconvert_exporter": "python",
   "pygments_lexer": "ipython3",
   "version": "3.9.6"
  },
  "orig_nbformat": 4,
  "vscode": {
   "interpreter": {
    "hash": "43dbf5479a0fc87de1ee7ded1cd5b445b0b8a7634e32fcae97e87d9cabed96b1"
   }
  }
 },
 "nbformat": 4,
 "nbformat_minor": 2
}
