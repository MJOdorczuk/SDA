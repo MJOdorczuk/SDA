{
 "cells": [
  {
   "cell_type": "markdown",
   "metadata": {},
   "source": [
    "# Python Średniozaawansowany"
   ]
  },
  {
   "cell_type": "markdown",
   "metadata": {},
   "source": [
    "#### Instrukcja instalacji VS Code <a class=\"anchor\" id=\"install\"></a>\n",
    "\n",
    " - Zainstaluj narzędzia [Python](https://www.python.org/downloads/).\n",
    "\n",
    " - Pobierz [VS Code](https://code.visualstudio.com/).\n",
    "\n",
    " - Zainstaluj rozszerzenie [Python](https://marketplace.visualstudio.com/items?itemName=ms-python.python).\n",
    "\n",
    " - Zainstaluj rozszerzenie [Jupyter](https://marketplace.visualstudio.com/items?itemName=ms-toolsai.jupyter).\n",
    "\n",
    "  - Zainstaluj rozszerzenie [Git Extension Pack](https://marketplace.visualstudio.com/items?itemName=donjayamanne.git-extension-pack)."
   ]
  },
  {
   "cell_type": "markdown",
   "metadata": {},
   "source": [
    "#### Potrzebne importy\n",
    "\n",
    " - [matplotlib](https://matplotlib.org/) - wymagana instalacja\n",
    "    * [pyplot](https://matplotlib.org/stable/tutorials/introductory/pyplot.html)\n",
    " - [numpy](https://numpy.org/) - wymagana instalacja\n",
    " - os\n",
    " - [inspect](https://docs.python.org/3/library/inspect.html) - biblioteka zawierająca [funkcjonalność przydatną przy analizowaniu struktur klas](https://docs.python.org/3/library/inspect.html#classes-and-functions).\n",
    " - [abc](https://docs.python.org/3/library/abc.html) - biblioteka do abstrakcji klasowej\n"
   ]
  },
  {
   "cell_type": "code",
   "execution_count": 1,
   "metadata": {},
   "outputs": [],
   "source": [
    "from abc import ABC, abstractmethod\n",
    "import traceback\n",
    "import os\n",
    "from inspect import getmro"
   ]
  },
  {
   "cell_type": "code",
   "execution_count": 2,
   "metadata": {},
   "outputs": [],
   "source": [
    "from matplotlib import pyplot as plt\n",
    "import numpy as np"
   ]
  },
  {
   "cell_type": "markdown",
   "metadata": {},
   "source": [
    "## Wyjątki"
   ]
  },
  {
   "cell_type": "markdown",
   "metadata": {},
   "source": [
    "### [Wyjątki](https://en.wikipedia.org/wiki/Exception_handling) są zdarzeniami, które pojawiają się podczas wykonania programu i przerywają jego normalny przebieg. Technicznie są to obiekty reprezentujące dany błąd."
   ]
  },
  {
   "cell_type": "code",
   "execution_count": 3,
   "metadata": {},
   "outputs": [
    {
     "ename": "ZeroDivisionError",
     "evalue": "division by zero",
     "output_type": "error",
     "traceback": [
      "\u001b[1;31m---------------------------------------------------------------------------\u001b[0m",
      "\u001b[1;31mZeroDivisionError\u001b[0m                         Traceback (most recent call last)",
      "\u001b[1;32m~\\AppData\\Local\\Temp/ipykernel_4936/3543432582.py\u001b[0m in \u001b[0;36m<module>\u001b[1;34m\u001b[0m\n\u001b[0;32m      1\u001b[0m \u001b[0ma\u001b[0m \u001b[1;33m=\u001b[0m \u001b[1;36m5\u001b[0m\u001b[1;33m\u001b[0m\u001b[1;33m\u001b[0m\u001b[0m\n\u001b[0;32m      2\u001b[0m \u001b[0mb\u001b[0m \u001b[1;33m=\u001b[0m \u001b[1;36m0\u001b[0m\u001b[1;33m\u001b[0m\u001b[1;33m\u001b[0m\u001b[0m\n\u001b[1;32m----> 3\u001b[1;33m \u001b[0mprint\u001b[0m\u001b[1;33m(\u001b[0m\u001b[0ma\u001b[0m\u001b[1;33m/\u001b[0m\u001b[0mb\u001b[0m\u001b[1;33m)\u001b[0m\u001b[1;33m\u001b[0m\u001b[1;33m\u001b[0m\u001b[0m\n\u001b[0m",
      "\u001b[1;31mZeroDivisionError\u001b[0m: division by zero"
     ]
    }
   ],
   "source": [
    "a = 5\n",
    "b = 0\n",
    "print(a/b)"
   ]
  },
  {
   "cell_type": "markdown",
   "metadata": {},
   "source": [
    "##### Wszystkie wbudowane, nie opuszczające systemu [wyjątki](https://docs.python.org/3/library/exceptions.html) dziedziczą po klasie `Exception`. Wyjątki tworzone przez programistę również powinny dziedziczyć po tej klasie."
   ]
  },
  {
   "cell_type": "markdown",
   "metadata": {},
   "source": [
    "##### Najczęściej spotykane wyjątki to\n",
    "\n",
    " - `AssertionError` - niespełnienie warunku operacji [assert](https://docs.python.org/3/reference/simple_stmts.html#the-assert-statement)\n",
    " - `AttributeError` - odwołanie do nieistniejącego atrybutu\n",
    " - `IOError` - błąd operacji wejścia/wyjścia\n",
    " - `IndexError` - odwołanie do kolekcji za pomocą indeksu poza zakresem\n",
    " - `ImportError` - problem z załadowaniem modułu\n",
    " - `KeyError` - odwołanie do słownika nieistniejącym kluczem\n",
    " - `ValueError` - przekazanie do funkcji argumentu o niepoprawnej wartości\n",
    " - `ZeroDivisionError` - dzielenie przez zero"
   ]
  },
  {
   "cell_type": "markdown",
   "metadata": {},
   "source": [
    "### Obsługa wyjątków"
   ]
  },
  {
   "cell_type": "markdown",
   "metadata": {},
   "source": [
    "##### Wyjątki obsługujemy za pomocą słów kluczowych:\n",
    " - `try` - poprzedza obszar sprawdzany pod kątem wyrzucania wyjątków,\n",
    " - `except` - poprzedza obszar obsługi wyłapanego wyjątku,\n",
    " - `finally` - poprzedza obszar, który jest wykonywany pod koniec obsługi, niezależnie od tego, czy wyjątek został wyrzucony czy też nie\n",
    " - `raise` - wyrzuca zadany wyjątek"
   ]
  },
  {
   "cell_type": "code",
   "execution_count": 4,
   "metadata": {},
   "outputs": [
    {
     "name": "stdout",
     "output_type": "stream",
     "text": [
      "0.5   20.0\n",
      "0.3   33.333333333333336\n",
      "0   10000000\n"
     ]
    }
   ],
   "source": [
    "for i in [0.5, 0.3, 0]:\n",
    "    result = 0\n",
    "    try:\n",
    "        if i == 0:\n",
    "            result = 10000000\n",
    "        else:\n",
    "            result = 10/i\n",
    "    except:\n",
    "        result = 10000000\n",
    "    print(i, \" \", result)"
   ]
  },
  {
   "cell_type": "code",
   "execution_count": 5,
   "metadata": {},
   "outputs": [
    {
     "name": "stdout",
     "output_type": "stream",
     "text": [
      "Hej nie umiem tego potęgować\n"
     ]
    }
   ],
   "source": [
    "def root4(x):\n",
    "    return x ** 0.25\n",
    "\n",
    "x = \"Ala ma kota\"\n",
    "\n",
    "try:\n",
    "    print(root4(x))\n",
    "except:\n",
    "    print(\"Hej nie umiem tego potęgować\")"
   ]
  },
  {
   "cell_type": "code",
   "execution_count": 6,
   "metadata": {},
   "outputs": [
    {
     "name": "stdout",
     "output_type": "stream",
     "text": [
      "0.5   25.0\n",
      "0.3   50.00000000000001\n",
      "0.001   10000000\n"
     ]
    },
    {
     "ename": "ValueError",
     "evalue": "Value lower than 0.1",
     "output_type": "error",
     "traceback": [
      "\u001b[1;31m---------------------------------------------------------------------------\u001b[0m",
      "\u001b[1;31mZeroDivisionError\u001b[0m                         Traceback (most recent call last)",
      "\u001b[1;32m~\\AppData\\Local\\Temp/ipykernel_4936/477041521.py\u001b[0m in \u001b[0;36m<module>\u001b[1;34m\u001b[0m\n\u001b[0;32m      3\u001b[0m     \u001b[1;32mtry\u001b[0m\u001b[1;33m:\u001b[0m\u001b[1;33m\u001b[0m\u001b[1;33m\u001b[0m\u001b[0m\n\u001b[1;32m----> 4\u001b[1;33m         \u001b[0mresult\u001b[0m \u001b[1;33m=\u001b[0m \u001b[1;36m10\u001b[0m\u001b[1;33m/\u001b[0m\u001b[1;33m(\u001b[0m\u001b[0mmax\u001b[0m\u001b[1;33m(\u001b[0m\u001b[1;36m0.1\u001b[0m\u001b[1;33m,\u001b[0m\u001b[0mi\u001b[0m\u001b[1;33m)\u001b[0m \u001b[1;33m-\u001b[0m \u001b[1;36m0.1\u001b[0m\u001b[1;33m)\u001b[0m\u001b[1;33m\u001b[0m\u001b[1;33m\u001b[0m\u001b[0m\n\u001b[0m\u001b[0;32m      5\u001b[0m     \u001b[1;32mexcept\u001b[0m\u001b[1;33m:\u001b[0m\u001b[1;33m\u001b[0m\u001b[1;33m\u001b[0m\u001b[0m\n",
      "\u001b[1;31mZeroDivisionError\u001b[0m: float division by zero",
      "\nDuring handling of the above exception, another exception occurred:\n",
      "\u001b[1;31mValueError\u001b[0m                                Traceback (most recent call last)",
      "\u001b[1;32m~\\AppData\\Local\\Temp/ipykernel_4936/477041521.py\u001b[0m in \u001b[0;36m<module>\u001b[1;34m\u001b[0m\n\u001b[0;32m      5\u001b[0m     \u001b[1;32mexcept\u001b[0m\u001b[1;33m:\u001b[0m\u001b[1;33m\u001b[0m\u001b[1;33m\u001b[0m\u001b[0m\n\u001b[0;32m      6\u001b[0m         \u001b[0mresult\u001b[0m \u001b[1;33m=\u001b[0m \u001b[1;36m10000000\u001b[0m\u001b[1;33m\u001b[0m\u001b[1;33m\u001b[0m\u001b[0m\n\u001b[1;32m----> 7\u001b[1;33m         \u001b[1;32mraise\u001b[0m \u001b[0mValueError\u001b[0m\u001b[1;33m(\u001b[0m\u001b[1;34m\"Value lower than 0.1\"\u001b[0m\u001b[1;33m)\u001b[0m\u001b[1;33m\u001b[0m\u001b[1;33m\u001b[0m\u001b[0m\n\u001b[0m\u001b[0;32m      8\u001b[0m     \u001b[1;32mfinally\u001b[0m\u001b[1;33m:\u001b[0m\u001b[1;33m\u001b[0m\u001b[1;33m\u001b[0m\u001b[0m\n\u001b[0;32m      9\u001b[0m         \u001b[0mprint\u001b[0m\u001b[1;33m(\u001b[0m\u001b[0mi\u001b[0m\u001b[1;33m,\u001b[0m \u001b[1;34m\" \"\u001b[0m\u001b[1;33m,\u001b[0m \u001b[0mresult\u001b[0m\u001b[1;33m)\u001b[0m\u001b[1;33m\u001b[0m\u001b[1;33m\u001b[0m\u001b[0m\n",
      "\u001b[1;31mValueError\u001b[0m: Value lower than 0.1"
     ]
    }
   ],
   "source": [
    "for i in [0.5, 0.3, 0.001]:\n",
    "    result = 0\n",
    "    try:\n",
    "        result = 10/(max(0.1,i) - 0.1)\n",
    "    except:\n",
    "        result = 10000000\n",
    "        raise ValueError(\"Value lower than 0.1\")\n",
    "    finally:\n",
    "        print(i, \" \", result)\n"
   ]
  },
  {
   "cell_type": "markdown",
   "metadata": {},
   "source": [
    "##### Do każdego bloku `try` możemy przypisać wiele bloków `except`."
   ]
  },
  {
   "cell_type": "code",
   "execution_count": 7,
   "metadata": {},
   "outputs": [
    {
     "name": "stdout",
     "output_type": "stream",
     "text": [
      "0.2\n",
      "Oopsie, whoopsie. You tried to divide by zero\n",
      "0.16666666666666666\n",
      "What did just happened here?\n",
      "0.5\n",
      "I went too far\n"
     ]
    }
   ],
   "source": [
    "l = [5, 0, 6, 2]\n",
    "\n",
    "for i in range(5):\n",
    "    try:\n",
    "        a = 1/l[i]\n",
    "        print(a)\n",
    "        assert a >= 0.2\n",
    "    except KeyError:\n",
    "        print(\"Wrong key\")\n",
    "    except (ZeroDivisionError):\n",
    "        print(\"Oopsie, whoopsie. You tried to divide by zero\")\n",
    "    except (IndexError, KeyError):\n",
    "        print(\"I went too far\")\n",
    "    except:\n",
    "        print(\"What did just happened here?\")"
   ]
  },
  {
   "cell_type": "markdown",
   "metadata": {},
   "source": [
    "##### Klauzulę `finally` zazwyczaj używamy, gdy po wykonaniu zadania musimy zwolnić pewne zasoby, niezależnie, czy procedura powiodła się czy nie. Na przykład, obsługa pliku."
   ]
  },
  {
   "cell_type": "code",
   "execution_count": 8,
   "metadata": {},
   "outputs": [
    {
     "name": "stdout",
     "output_type": "stream",
     "text": [
      "File is not readable\n"
     ]
    },
    {
     "ename": "NameError",
     "evalue": "name 'file' is not defined",
     "output_type": "error",
     "traceback": [
      "\u001b[1;31m---------------------------------------------------------------------------\u001b[0m",
      "\u001b[1;31mNameError\u001b[0m                                 Traceback (most recent call last)",
      "\u001b[1;32m~\\AppData\\Local\\Temp/ipykernel_4936/3024504181.py\u001b[0m in \u001b[0;36m<module>\u001b[1;34m\u001b[0m\n\u001b[0;32m      7\u001b[0m     \u001b[0mprint\u001b[0m\u001b[1;33m(\u001b[0m\u001b[1;34m\"File is not readable\"\u001b[0m\u001b[1;33m)\u001b[0m\u001b[1;33m\u001b[0m\u001b[1;33m\u001b[0m\u001b[0m\n\u001b[0;32m      8\u001b[0m \u001b[1;32mfinally\u001b[0m\u001b[1;33m:\u001b[0m\u001b[1;33m\u001b[0m\u001b[1;33m\u001b[0m\u001b[0m\n\u001b[1;32m----> 9\u001b[1;33m     \u001b[0mfile\u001b[0m\u001b[1;33m.\u001b[0m\u001b[0mclose\u001b[0m\u001b[1;33m(\u001b[0m\u001b[1;33m)\u001b[0m\u001b[1;33m\u001b[0m\u001b[1;33m\u001b[0m\u001b[0m\n\u001b[0m\u001b[0;32m     10\u001b[0m     \u001b[1;32mif\u001b[0m \u001b[0mos\u001b[0m\u001b[1;33m.\u001b[0m\u001b[0mpath\u001b[0m\u001b[1;33m.\u001b[0m\u001b[0mexists\u001b[0m\u001b[1;33m(\u001b[0m\u001b[0mdummy_file_name\u001b[0m\u001b[1;33m)\u001b[0m\u001b[1;33m:\u001b[0m\u001b[1;33m\u001b[0m\u001b[1;33m\u001b[0m\u001b[0m\n\u001b[0;32m     11\u001b[0m         \u001b[0mos\u001b[0m\u001b[1;33m.\u001b[0m\u001b[0mremove\u001b[0m\u001b[1;33m(\u001b[0m\u001b[0mdummy_file_name\u001b[0m\u001b[1;33m)\u001b[0m\u001b[1;33m\u001b[0m\u001b[1;33m\u001b[0m\u001b[0m\n",
      "\u001b[1;31mNameError\u001b[0m: name 'file' is not defined"
     ]
    }
   ],
   "source": [
    "dummy_file_name = \"dummy.file\"\n",
    "\n",
    "try:\n",
    "    file = open(dummy_file_name, \"r\")\n",
    "    print(file.read())\n",
    "except:\n",
    "    print(\"File is not readable\")\n",
    "finally:\n",
    "    file.close()\n",
    "    if os.path.exists(dummy_file_name):\n",
    "        os.remove(dummy_file_name)\n"
   ]
  },
  {
   "cell_type": "markdown",
   "metadata": {},
   "source": [
    "### Manager kontekstu"
   ]
  },
  {
   "cell_type": "markdown",
   "metadata": {},
   "source": [
    "##### Zamiast tego możemy użyć wyrażenia [with](https://docs.python.org/3/reference/compound_stmts.html#the-with-statement) zwanego managerem kontekstu, które obsługuje obiekty posiadające metody `__enter__` i `__exit__`"
   ]
  },
  {
   "cell_type": "code",
   "execution_count": 9,
   "metadata": {},
   "outputs": [
    {
     "ename": "FileNotFoundError",
     "evalue": "[Errno 2] No such file or directory: 'dummy.file'",
     "output_type": "error",
     "traceback": [
      "\u001b[1;31m---------------------------------------------------------------------------\u001b[0m",
      "\u001b[1;31mFileNotFoundError\u001b[0m                         Traceback (most recent call last)",
      "\u001b[1;32m~\\AppData\\Local\\Temp/ipykernel_4936/2349370692.py\u001b[0m in \u001b[0;36m<module>\u001b[1;34m\u001b[0m\n\u001b[0;32m      7\u001b[0m     \u001b[0mos\u001b[0m\u001b[1;33m.\u001b[0m\u001b[0mremove\u001b[0m\u001b[1;33m(\u001b[0m\u001b[0mdummy_file_name\u001b[0m\u001b[1;33m)\u001b[0m\u001b[1;33m\u001b[0m\u001b[1;33m\u001b[0m\u001b[0m\n\u001b[0;32m      8\u001b[0m \u001b[1;33m\u001b[0m\u001b[0m\n\u001b[1;32m----> 9\u001b[1;33m \u001b[1;32mwith\u001b[0m \u001b[0mopen\u001b[0m\u001b[1;33m(\u001b[0m\u001b[0mdummy_file_name\u001b[0m\u001b[1;33m,\u001b[0m \u001b[1;34m\"r\"\u001b[0m\u001b[1;33m)\u001b[0m \u001b[1;32mas\u001b[0m \u001b[0mfile\u001b[0m\u001b[1;33m:\u001b[0m\u001b[1;33m\u001b[0m\u001b[1;33m\u001b[0m\u001b[0m\n\u001b[0m\u001b[0;32m     10\u001b[0m     \u001b[0mprint\u001b[0m\u001b[1;33m(\u001b[0m\u001b[0mfile\u001b[0m\u001b[1;33m.\u001b[0m\u001b[0mread\u001b[0m\u001b[1;33m(\u001b[0m\u001b[1;33m)\u001b[0m\u001b[1;33m)\u001b[0m\u001b[1;33m\u001b[0m\u001b[1;33m\u001b[0m\u001b[0m\n",
      "\u001b[1;31mFileNotFoundError\u001b[0m: [Errno 2] No such file or directory: 'dummy.file'"
     ]
    }
   ],
   "source": [
    "dummy_file_name = \"dummy.file\"\n",
    "\n",
    "with open(dummy_file_name, \"w\") as file:\n",
    "    file.write(\"Alamakotaasierotkamarysia\")\n",
    "\n",
    "if os.path.exists(dummy_file_name):\n",
    "    os.remove(dummy_file_name)\n",
    "\n",
    "with open(dummy_file_name, \"r\") as file:\n",
    "    print(file.read())"
   ]
  },
  {
   "cell_type": "code",
   "execution_count": 10,
   "metadata": {},
   "outputs": [
    {
     "name": "stdout",
     "output_type": "stream",
     "text": [
      "\n",
      "<traceback object at 0x00000238D9DDD0C0>\n"
     ]
    },
    {
     "ename": "AssertionError",
     "evalue": "lol",
     "output_type": "error",
     "traceback": [
      "\u001b[1;31m---------------------------------------------------------------------------\u001b[0m",
      "\u001b[1;31mAssertionError\u001b[0m                            Traceback (most recent call last)",
      "\u001b[1;32m~\\AppData\\Local\\Temp/ipykernel_4936/3048509655.py\u001b[0m in \u001b[0;36m<module>\u001b[1;34m\u001b[0m\n\u001b[0;32m     32\u001b[0m     \u001b[0mprint\u001b[0m\u001b[1;33m(\u001b[0m\u001b[0mfile\u001b[0m\u001b[1;33m.\u001b[0m\u001b[0mread\u001b[0m\u001b[1;33m(\u001b[0m\u001b[1;33m)\u001b[0m\u001b[1;33m)\u001b[0m\u001b[1;33m\u001b[0m\u001b[1;33m\u001b[0m\u001b[0m\n\u001b[0;32m     33\u001b[0m \u001b[1;33m\u001b[0m\u001b[0m\n\u001b[1;32m---> 34\u001b[1;33m     \u001b[1;32mraise\u001b[0m \u001b[0mAssertionError\u001b[0m\u001b[1;33m(\u001b[0m\u001b[1;34m\"lol\"\u001b[0m\u001b[1;33m)\u001b[0m\u001b[1;33m\u001b[0m\u001b[1;33m\u001b[0m\u001b[0m\n\u001b[0m\u001b[0;32m     35\u001b[0m     \u001b[0mprint\u001b[0m\u001b[1;33m(\u001b[0m\u001b[1;34m\"message ignored\"\u001b[0m\u001b[1;33m)\u001b[0m\u001b[1;33m\u001b[0m\u001b[1;33m\u001b[0m\u001b[0m\n",
      "\u001b[1;31mAssertionError\u001b[0m: lol"
     ]
    }
   ],
   "source": [
    "dummy_file_name = \"dummy.file\"\n",
    "\n",
    "class AutodestructingFile:\n",
    "\n",
    "    def __init__(self, address) -> None:\n",
    "        self.address = address\n",
    "        self.writer = open(address, \"w\")\n",
    "        self.reader = open(address, \"r\")\n",
    "\n",
    "    def write(self, text):\n",
    "        self.writer.write(text)\n",
    "\n",
    "    def read(self):\n",
    "        return self.reader.read()\n",
    "\n",
    "    def close(self):\n",
    "        self.reader.close()\n",
    "        self.writer.close()\n",
    "        if os.path.exists(self.address):\n",
    "            os.remove(self.address)\n",
    "\n",
    "    def __enter__(self):\n",
    "        return self\n",
    "\n",
    "    def __exit__(self, type, value, traceback):\n",
    "        print(traceback)\n",
    "        self.close()\n",
    "\n",
    "\n",
    "with AutodestructingFile(dummy_file_name) as file:\n",
    "    file.write(\"lol\")\n",
    "    print(file.read())\n",
    "\n",
    "    raise AssertionError(\"lol\")\n",
    "    print(\"message ignored\")"
   ]
  },
  {
   "cell_type": "code",
   "execution_count": 11,
   "metadata": {},
   "outputs": [
    {
     "name": "stdout",
     "output_type": "stream",
     "text": [
      "\n"
     ]
    },
    {
     "ename": "Exception",
     "evalue": "lol",
     "output_type": "error",
     "traceback": [
      "\u001b[1;31m---------------------------------------------------------------------------\u001b[0m",
      "\u001b[1;31mException\u001b[0m                                 Traceback (most recent call last)",
      "\u001b[1;32m~\\AppData\\Local\\Temp/ipykernel_4936/3703204578.py\u001b[0m in \u001b[0;36m<module>\u001b[1;34m\u001b[0m\n\u001b[0;32m     31\u001b[0m     \u001b[0mprint\u001b[0m\u001b[1;33m(\u001b[0m\u001b[0mfile\u001b[0m\u001b[1;33m.\u001b[0m\u001b[0mread\u001b[0m\u001b[1;33m(\u001b[0m\u001b[1;33m)\u001b[0m\u001b[1;33m)\u001b[0m\u001b[1;33m\u001b[0m\u001b[1;33m\u001b[0m\u001b[0m\n\u001b[0;32m     32\u001b[0m \u001b[1;33m\u001b[0m\u001b[0m\n\u001b[1;32m---> 33\u001b[1;33m     \u001b[1;32mraise\u001b[0m \u001b[0mException\u001b[0m\u001b[1;33m(\u001b[0m\u001b[1;34m\"lol\"\u001b[0m\u001b[1;33m)\u001b[0m\u001b[1;33m\u001b[0m\u001b[1;33m\u001b[0m\u001b[0m\n\u001b[0m\u001b[0;32m     34\u001b[0m     \u001b[0mprint\u001b[0m\u001b[1;33m(\u001b[0m\u001b[1;34m\"message ignored\"\u001b[0m\u001b[1;33m)\u001b[0m\u001b[1;33m\u001b[0m\u001b[1;33m\u001b[0m\u001b[0m\n",
      "\u001b[1;31mException\u001b[0m: lol"
     ]
    }
   ],
   "source": [
    "from contextlib import contextmanager\n",
    "\n",
    "dummy_file_name = \"dummy.file\"\n",
    "\n",
    "class ReadWriteFile:\n",
    "    def __init__(self, address) -> None:\n",
    "        self.address = address\n",
    "        self.writer = open(address, \"w\")\n",
    "        self.reader = open(address, \"r\")\n",
    "\n",
    "    def write(self, text):\n",
    "        self.writer.write(text)\n",
    "\n",
    "    def read(self):\n",
    "        return self.reader.read()\n",
    "\n",
    "@contextmanager\n",
    "def autodestructingFile(address):\n",
    "    file = ReadWriteFile(address)\n",
    "    try:\n",
    "        yield file\n",
    "    finally:\n",
    "        file.reader.close()\n",
    "        file.writer.close()\n",
    "        if os.path.exists(address):\n",
    "            os.remove(address)\n",
    "\n",
    "\n",
    "with autodestructingFile(dummy_file_name) as file:\n",
    "    file.write(\"lol\")\n",
    "    print(file.read())\n",
    "\n",
    "    raise Exception(\"lol\")\n",
    "    print(\"message ignored\")"
   ]
  },
  {
   "cell_type": "markdown",
   "metadata": {},
   "source": [
    "### [Rzucanie wyjątków](https://docs.python.org/3/tutorial/errors.html#raising-exceptions)"
   ]
  },
  {
   "cell_type": "markdown",
   "metadata": {},
   "source": [
    "##### W celu rzucenia wyjątku wykorzystujemy wyrażenie `raise`."
   ]
  },
  {
   "cell_type": "code",
   "execution_count": 12,
   "metadata": {},
   "outputs": [
    {
     "ename": "Exception",
     "evalue": "My random exception",
     "output_type": "error",
     "traceback": [
      "\u001b[1;31m---------------------------------------------------------------------------\u001b[0m",
      "\u001b[1;31mException\u001b[0m                                 Traceback (most recent call last)",
      "\u001b[1;32m~\\AppData\\Local\\Temp/ipykernel_4936/2712927003.py\u001b[0m in \u001b[0;36m<module>\u001b[1;34m\u001b[0m\n\u001b[1;32m----> 1\u001b[1;33m \u001b[1;32mraise\u001b[0m \u001b[0mException\u001b[0m\u001b[1;33m(\u001b[0m\u001b[1;34m\"My random exception\"\u001b[0m\u001b[1;33m)\u001b[0m\u001b[1;33m\u001b[0m\u001b[1;33m\u001b[0m\u001b[0m\n\u001b[0m",
      "\u001b[1;31mException\u001b[0m: My random exception"
     ]
    }
   ],
   "source": [
    "raise Exception(\"My random exception\")"
   ]
  },
  {
   "cell_type": "markdown",
   "metadata": {},
   "source": [
    "### Tworzenie własnych wyjątków"
   ]
  },
  {
   "cell_type": "code",
   "execution_count": 13,
   "metadata": {},
   "outputs": [
    {
     "name": "stdout",
     "output_type": "stream",
     "text": [
      "In the marry month of June\n"
     ]
    },
    {
     "name": "stderr",
     "output_type": "stream",
     "text": [
      "Traceback (most recent call last):\n",
      "  File \"C:\\Users\\micha\\AppData\\Local\\Temp/ipykernel_4936/2871786223.py\", line 5, in <module>\n",
      "    raise CustomException1(\"Some custom exception\")\n",
      "CustomException1: Some custom exception\n",
      "Traceback (most recent call last):\n",
      "  File \"C:\\Users\\micha\\AppData\\Local\\Temp/ipykernel_4936/2871786223.py\", line 17, in <module>\n",
      "    raise CustomException2()\n",
      "CustomException2: My hardcoded message\n"
     ]
    }
   ],
   "source": [
    "class CustomException1(Exception):\n",
    "    pass\n",
    "\n",
    "try:\n",
    "    raise CustomException1(\"Some custom exception\")\n",
    "except:\n",
    "    traceback.print_exc()\n",
    "\n",
    "class CustomException2(Exception):\n",
    "    def __init__(self) -> None:\n",
    "        super().__init__(\"My hardcoded message\")\n",
    "\n",
    "    def sing(self):\n",
    "        print(\"In the marry month of June\")\n",
    "\n",
    "try:\n",
    "    raise CustomException2()\n",
    "except CustomException2 as e:\n",
    "    traceback.print_exc()\n",
    "    e.sing()"
   ]
  },
  {
   "cell_type": "code",
   "execution_count": 14,
   "metadata": {},
   "outputs": [],
   "source": [
    "def fact(n):\n",
    "    if n == 0:\n",
    "        return 1\n",
    "    else:\n",
    "        return fact(n - 1) * n"
   ]
  },
  {
   "cell_type": "markdown",
   "metadata": {},
   "source": [
    "## [Programowanie obiektowe](https://en.wikipedia.org/wiki/Object-oriented_programming)"
   ]
  },
  {
   "cell_type": "markdown",
   "metadata": {},
   "source": [
    "##### Podstawowe koncepcje to\n",
    "\n",
    " - [dziedziczenie](https://en.wikipedia.org/wiki/Inheritance_(object-oriented_programming)),\n",
    " - [kompozycja](https://en.wikipedia.org/wiki/Object_composition),\n",
    " - [abstrakcja](https://en.wikipedia.org/wiki/Abstraction_(computer_science)),\n",
    " - [hermetyzacja](https://en.wikipedia.org/wiki/Encapsulation_(computer_programming)),\n",
    " - [polimorfizm](https://en.wikipedia.org/wiki/Polymorphism_(computer_science))."
   ]
  },
  {
   "cell_type": "markdown",
   "metadata": {},
   "source": [
    "### Dziedziczenie"
   ]
  },
  {
   "cell_type": "markdown",
   "metadata": {},
   "source": [
    "Jeżeli pewna klasa posiada funkcjonalność, która jest nam potrzebna, ale chcielibyśmy jeszcze dodać coś od siebie, możemy rozszerzyć klasę tworząc nową, która dziedziczy funkcjonalności klasy bazowej."
   ]
  },
  {
   "cell_type": "code",
   "execution_count": 15,
   "metadata": {},
   "outputs": [
    {
     "name": "stdout",
     "output_type": "stream",
     "text": [
      "Creature :Nom, nom, nom. Tasty other animal\n",
      "Tweety :Nom, nom, nom. Tasty grain\n",
      "Tweety : I can fly\n",
      "Tweety :Nom, nom, nom. Tasty grain\n",
      "Tweety : I can fly\n"
     ]
    },
    {
     "data": {
      "text/plain": [
       "'<__main__.Bird object at 0x00000238D9F01640>'"
      ]
     },
     "execution_count": 15,
     "metadata": {},
     "output_type": "execute_result"
    }
   ],
   "source": [
    "class Animal:\n",
    "    def __init__(self, name) -> None:\n",
    "        self.name = name\n",
    "\n",
    "    def eat(self, food):\n",
    "        print(self.name, \":Nom, nom, nom. Tasty\", food)\n",
    "\n",
    "class Bird(Animal):\n",
    "    def fly(self):\n",
    "        print(self.name, \": I can fly\")\n",
    "\n",
    "animal = Animal(\"Creature\")\n",
    "animal.eat(\"other animal\")\n",
    "\n",
    "bird = Bird(\"Tweety\")\n",
    "bird.eat(\"grain\")\n",
    "bird.fly()\n",
    "\n",
    "def feed(animal: Bird, food: object) -> None:\n",
    "    animal.eat(food)\n",
    "    animal.fly()\n",
    "\n",
    "feed(bird, \"grain\")\n",
    "bird.__str__()"
   ]
  },
  {
   "cell_type": "markdown",
   "metadata": {},
   "source": [
    "Możemy sprawdzić pochodzenie naszej klasy za pomocą funkcji `getmro` z pakietu `inspect`."
   ]
  },
  {
   "cell_type": "code",
   "execution_count": 16,
   "metadata": {},
   "outputs": [
    {
     "name": "stdout",
     "output_type": "stream",
     "text": [
      "(<class '__main__.Bird'>, <class '__main__.Animal'>, <class 'object'>)\n",
      "(<class 'function'>, <class 'object'>)\n",
      "(<class 'AttributeError'>, <class 'Exception'>, <class 'BaseException'>, <class 'object'>)\n",
      "(<class 'float'>, <class 'object'>)\n"
     ]
    }
   ],
   "source": [
    "print(getmro(type(bird)))\n",
    "print(getmro(type(getmro)))\n",
    "print(getmro(AttributeError))\n",
    "print(getmro(type(5.0)))"
   ]
  },
  {
   "cell_type": "markdown",
   "metadata": {},
   "source": [
    "Możemy też dziedziczyć po wielu klasach przejmując atrybuty każdej z nich."
   ]
  },
  {
   "cell_type": "code",
   "execution_count": 17,
   "metadata": {},
   "outputs": [
    {
     "name": "stdout",
     "output_type": "stream",
     "text": [
      "I am an animal\n",
      "I am an oviparous\n",
      "I am a mammal\n",
      "I am a platypus\n",
      "Perry : plop\n",
      "Perry : blurp\n",
      "Perry : Nom, nom, nom. Tasty algae\n",
      "Perry : phew\n",
      "(<class '__main__.Platypus'>, <class '__main__.Mammal'>, <class '__main__.Oviparous'>, <class '__main__.Animal'>, <class 'object'>)\n"
     ]
    }
   ],
   "source": [
    "class Animal:\n",
    "    def __init__(self, name) -> None:\n",
    "        self.name = name\n",
    "        print(\"I am an animal\")\n",
    "\n",
    "    def eat(self, food):\n",
    "        print(self.name, \": Nom, nom, nom. Tasty\", food)\n",
    "\n",
    "class Oviparous(Animal):\n",
    "    def __init__(self, name) -> None:\n",
    "        super().__init__(name)\n",
    "        print(\"I am an oviparous\")\n",
    "\n",
    "    def bearEgg(self):\n",
    "        print(self.name, \": plop\")\n",
    "\n",
    "    def breath(self):\n",
    "        print(self.name, \": wheez\")\n",
    "\n",
    "class Mammal(Animal):\n",
    "    def __init__(self, name) -> None:\n",
    "        super().__init__(name)\n",
    "        print(\"I am a mammal\")\n",
    "\n",
    "    def giveMilk(self):\n",
    "        print(self.name, \": blurp\")\n",
    "\n",
    "    def breath(self):\n",
    "        print(self.name, \": phew\")\n",
    "\n",
    "class Platypus(Mammal, Oviparous):\n",
    "    def __init__(self, name) -> None:\n",
    "        super().__init__(name)\n",
    "        print(\"I am a platypus\")\n",
    "\n",
    "    def sting(self):\n",
    "        print(self.name, \": sting\")\n",
    "\n",
    "perry = Platypus(\"Perry\")\n",
    "\n",
    "perry.bearEgg()\n",
    "perry.giveMilk()\n",
    "perry.eat(\"algae\")\n",
    "perry.breath()\n",
    "\n",
    "print(getmro(Platypus))"
   ]
  },
  {
   "cell_type": "markdown",
   "metadata": {},
   "source": [
    "**TODO** Zauważmy, że powyższa klasa rozwiązuje dziedziczenie wpierw rozpatrując klasę `Base1`. Oznacza to, że jeśli klasy `Base1` i `Base2` będą miały takie samo pole, `Child` przejmie tylko pole od `Base1`."
   ]
  },
  {
   "cell_type": "markdown",
   "metadata": {},
   "source": [
    "### Kompozycja"
   ]
  },
  {
   "cell_type": "markdown",
   "metadata": {},
   "source": [
    "Zamiast dziedziczyć wszystkie atrybuty możemy wkomponować jedną klasę w drugą tworząc obiekt tej pierwszej jako pole drugiej. Następnie pole to możemy wykorzystać do implementacja własnych metod."
   ]
  },
  {
   "cell_type": "code",
   "execution_count": 18,
   "metadata": {},
   "outputs": [
    {
     "name": "stdout",
     "output_type": "stream",
     "text": [
      "I am Master Fireball!\n",
      "I am Timothy Brrr\n"
     ]
    }
   ],
   "source": [
    "from __future__ import annotations\n",
    "\n",
    "class Hero():\n",
    "    def __init__(self, name: str) -> None:\n",
    "        self.name = name\n",
    "\n",
    "    def introduce(self) -> str:\n",
    "        return f\"I am {self.name}\"\n",
    "\n",
    "class Mage(Hero):\n",
    "    def __init__(self, name: str, staff: Staff) -> None:\n",
    "        super().__init__(name)\n",
    "        self.staff = staff\n",
    "\n",
    "    def equipStaff(self, staff: Staff):\n",
    "        self.staff = staff\n",
    "\n",
    "    def castSpell(self) -> str:\n",
    "        if self.staff:\n",
    "            return self.staff.use()\n",
    "        else:\n",
    "            return None\n",
    "\n",
    "class Staff:\n",
    "    def use(self):\n",
    "        pass\n",
    "\n",
    "    def setOwner(self, mage: Mage) -> None:\n",
    "        self.mage = mage\n",
    "\n",
    "class FireWand(Staff):\n",
    "    def use(self) -> str:\n",
    "        return \"Fireball!\"\n",
    "\n",
    "class FrostWand(Staff):\n",
    "    def use(self) -> str:\n",
    "        return \"Brrr\"\n",
    "\n",
    "mage1 = Mage(\"Master\", FireWand())\n",
    "mage2 = Mage(\"Timothy\", FrostWand())\n",
    "\n",
    "print(mage1.introduce(), mage1.castSpell())\n",
    "print(mage2.introduce(), mage2.castSpell())"
   ]
  },
  {
   "cell_type": "markdown",
   "metadata": {},
   "source": [
    "### Abstrakcja"
   ]
  },
  {
   "cell_type": "markdown",
   "metadata": {},
   "source": [
    "Czasami chcemy stworzyć wzór klasy bez implementowania poszczególnych jej elementów. Przkładowo, chcę stworzyć klasę `Collection`, która pozwoli użytkownikowi na dostęp do elementów, ale pozwoli również zaimplementować różne kontenery przechowujące elementy.\n",
    "\n",
    "Nie jest to podstawowy koncept w Pythonie ze względu na brak [silnej typizacji](https://en.wikipedia.org/wiki/Strong_and_weak_typing), stąd musimy wykorzystać do tego pakiet `abc`."
   ]
  },
  {
   "cell_type": "code",
   "execution_count": 19,
   "metadata": {},
   "outputs": [
    {
     "name": "stdout",
     "output_type": "stream",
     "text": [
      "None\n",
      "1\n",
      "2\n",
      "4\n",
      "1\n",
      "2\n",
      "4\n",
      "1\n",
      "2\n",
      "4\n",
      "1\n"
     ]
    }
   ],
   "source": [
    "class Collection:\n",
    "    def __init__(self, elements) -> None:\n",
    "        pass\n",
    "\n",
    "    def getNext(self):\n",
    "        pass\n",
    "\n",
    "c = Collection([1, 2, 4])\n",
    "print(c.getNext())\n",
    "\n",
    "class SingleElementCollection(Collection):\n",
    "    def __init__(self, elements) -> None:\n",
    "        super().__init__(elements)\n",
    "        self.element = elements\n",
    "\n",
    "    def getNext(self):\n",
    "        return self.element\n",
    "\n",
    "c = SingleElementCollection([1, 2, 4])\n",
    "# for i in range(10):\n",
    "#     print(c.getNext())\n",
    "\n",
    "class LoopCollection(Collection):\n",
    "    def __init__(self, elements) -> None:\n",
    "        super().__init__(elements)\n",
    "        self.elemnts = elements\n",
    "        self.index = 0\n",
    "\n",
    "    def getNext(self):\n",
    "        element = self.elemnts[self.index]\n",
    "        self.index = (self.index + 1) % len(self.elemnts)\n",
    "        return element\n",
    "\n",
    "c = LoopCollection([1, 2, 4])\n",
    "\n",
    "def iterate(collection: Collection, n: int, f: function):\n",
    "    for i in range(n):\n",
    "        f(collection.getNext())\n",
    "\n",
    "iterate(c, 10, print)"
   ]
  },
  {
   "cell_type": "code",
   "execution_count": 20,
   "metadata": {},
   "outputs": [
    {
     "data": {
      "text/plain": [
       "(list, object)"
      ]
     },
     "execution_count": 20,
     "metadata": {},
     "output_type": "execute_result"
    }
   ],
   "source": [
    "getmro(list)"
   ]
  },
  {
   "cell_type": "code",
   "execution_count": 21,
   "metadata": {},
   "outputs": [
    {
     "name": "stdout",
     "output_type": "stream",
     "text": [
      "1\n",
      "1\n",
      "1\n",
      "1\n",
      "1\n",
      "1\n",
      "1\n",
      "1\n",
      "1\n",
      "1\n"
     ]
    }
   ],
   "source": [
    "class Collection(ABC):\n",
    "    @abstractmethod\n",
    "    def __init__(self, elements) -> None:\n",
    "        pass\n",
    "\n",
    "    @abstractmethod\n",
    "    def getNext(self):\n",
    "        pass\n",
    "\n",
    "class SingleElement(Collection):\n",
    "    def __init__(self, elements) -> None:\n",
    "        self.element = elements\n",
    "\n",
    "    def getNext(self):\n",
    "        return self.element\n",
    "\n",
    "class LoopCollection(Collection):\n",
    "    def __init__(self, elements) -> None:\n",
    "        self.elements = elements\n",
    "        self.i = 0\n",
    "\n",
    "    def getNext(self):\n",
    "        element = self.elements[self.i]\n",
    "        self.i %= len(self.elements)\n",
    "        return element\n",
    "\n",
    "c = LoopCollection([1, 2, 4])\n",
    "\n",
    "def iterate(collection: Collection, n: int, f):\n",
    "    for i in range(n):\n",
    "        f(collection.getNext())\n",
    "\n",
    "iterate(c, 10, print)"
   ]
  },
  {
   "cell_type": "markdown",
   "metadata": {},
   "source": [
    "Wczytaj plik za pomocą `reader`, przetwórz treść za pomocą `converter` i zapisz do pliku za pomocą `writer`. Stwórz klasę `LUFileConverter`, która będzie konwertowała zadany plik zmieniając małe litery w wielkie i vice versa. Stwórz klasę `DoubleFileConverter`, która wykona operacje `converter` dwukrotnie.\n",
    "\n",
    "`convertFile` w `FileConverter` ma być metodą abstrakcyjną.\n",
    "`reader` ma posiadać operację `read()`, która zczyta obiekt typu `str` z pewnego pliku.\n",
    "`writer` ma posiadać operację `write()`, która zapisze do pewnego pliku zadany obiekt typu `str`.\n",
    "`converter` ma przyjąć obiekt typu `str` i zwrócić obiekt typu `str`.\n",
    "\n",
    " - Stwórz plik (`dummy.txt` lub jakikolwiek inny) z dowolną treścią (`Ala ma kota` lub cokolwiek innego).\n",
    " - Wczytaj treść tego pliku za pomocą operacji `open` i `read`.\n",
    " - Zapisz treść tego pliku za pomocą `open` i `write` do innego pliku (`temp.file` lub jakikolwiek inny).\n",
    " - Stwórz funkcję `toUpper`, która przyjmie obiekt typu `str` i zwróci ów tekst z wszystkimi małymi literami zamienionymi na wielkie.\n",
    " - Stwórz obiekt typu `FileConverter` i zapisz jako jego pola `reader`, `writer` oraz `toUpper`.\n",
    " - Zmień pole `convertFile` w `FileConverter` na metodę abstrakcyjną."
   ]
  },
  {
   "cell_type": "code",
   "execution_count": 22,
   "metadata": {},
   "outputs": [],
   "source": [
    "from abc import ABC, abstractmethod\n",
    "\n",
    "def toUpper(text: str) -> str:\n",
    "    return text.upper()\n",
    "\n",
    "class FileConverter(ABC):\n",
    "    def __init__(self, reader, writer, converter) -> None:\n",
    "        self.reader = reader\n",
    "        self.writer = writer\n",
    "        self.converter = converter\n",
    "\n",
    "    @abstractmethod\n",
    "    def convertFile(self):\n",
    "        pass\n",
    "\n",
    "class UpperFileConverter(FileConverter):\n",
    "    def __init__(self, reader, writer) -> None:\n",
    "        super().__init__(reader, writer, toUpper)\n",
    "\n",
    "    def convertFile(self):\n",
    "        content = self.reader.read()\n",
    "        content = self.converter(content)\n",
    "        self.writer.write(content)\n",
    "\n",
    "class DoubleFileConverter(FileConverter):\n",
    "    def convertFile(self):\n",
    "        content = self.reader.read()\n",
    "        content = self.converter(content)\n",
    "        content = self.converter(content)\n",
    "        self.writer.write(content)"
   ]
  },
  {
   "cell_type": "code",
   "execution_count": 23,
   "metadata": {},
   "outputs": [],
   "source": [
    "def doubleText(text):\n",
    "    return text + text\n",
    "\n",
    "in_file = \"dummy.txt\"\n",
    "out_file = \"temp.file\"\n",
    "\n",
    "with open(in_file, \"w\") as writer:\n",
    "    writer.write(\"Ala ma kota\\nA sierotka ma rysia\\n\\n\")\n",
    "\n",
    "with open(in_file, \"r\") as reader:\n",
    "    with open(out_file, \"w\") as writer:\n",
    "        fc = DoubleFileConverter(reader, writer, doubleText)\n",
    "        fc.convertFile()\n",
    "\n",
    "if os.path.exists(in_file):\n",
    "    os.remove(in_file)\n",
    "if os.path.exists(out_file):\n",
    "    os.remove(out_file)"
   ]
  },
  {
   "cell_type": "markdown",
   "metadata": {},
   "source": [
    "### Hermetyzacja"
   ]
  },
  {
   "cell_type": "markdown",
   "metadata": {},
   "source": [
    "Niektóre pola nie powinny być dostępne z zewnątrz. Jeżeli nasza klasa wykonuje jakąś operację na własnych parametrach możemy chcieć chronić te parametry przed zmianą z zewnątrz lub przez klasy dziedziczące."
   ]
  },
  {
   "cell_type": "markdown",
   "metadata": {},
   "source": [
    "Pola [prywatne](https://en.wikipedia.org/wiki/Access_modifiers) są dostępne tylko dla klasy zawierającej owe pole. Klasy dziedziczące nie mają do tego pola dostępu. Podejście takie nazywamy hermetyzacją. Python nie posiada mechanizmu hermetyzacji i pola są zawsze dostępne. Jeżeli chcemy zaznaczyć, że pole jest zamierzone jako chronione zaczynamy jego nazwę od podkreślnika (`_`), jeżeli zaś chcemy, żeby było traktowane jako prywatne zaczynamy jego nazwę od podwójnego podkreślnika (`__`)."
   ]
  },
  {
   "cell_type": "code",
   "execution_count": 24,
   "metadata": {},
   "outputs": [
    {
     "data": {
      "text/plain": [
       "0"
      ]
     },
     "execution_count": 24,
     "metadata": {},
     "output_type": "execute_result"
    }
   ],
   "source": [
    "class ProtectedDummy:\n",
    "    def __init__(self) -> None:\n",
    "        self._counter = 0\n",
    "\n",
    "    def add(self):\n",
    "        self._counter += 1\n",
    "\n",
    "    def getCounter(self):\n",
    "        return self._counter\n",
    "\n",
    "class ProtectedChild(ProtectedDummy):\n",
    "    def add(self):\n",
    "        self._counter += 3\n",
    "\n",
    "dummy = ProtectedDummy()\n",
    "dummy.add()\n",
    "dummy.add()\n",
    "dummy.add()\n",
    "dummy._counter = -3\n",
    "dummy.add()\n",
    "dummy.add()\n",
    "dummy.add()\n",
    "dummy.getCounter()"
   ]
  },
  {
   "cell_type": "code",
   "execution_count": 25,
   "metadata": {},
   "outputs": [
    {
     "name": "stdout",
     "output_type": "stream",
     "text": [
      "0\n"
     ]
    }
   ],
   "source": [
    "class PrivateDummy:\n",
    "    def __init__(self) -> None:\n",
    "        self.__private = 0\n",
    "\n",
    "    def add(self):\n",
    "        self.__private += 1\n",
    "\n",
    "    def counter(self):\n",
    "        return self.__private\n",
    "\n",
    "dummy = PrivateDummy()\n",
    "dir(dummy)\n",
    "\n",
    "dummy.add()\n",
    "dummy.add()\n",
    "dummy.add()\n",
    "dummy._PrivateDummy__private = -3\n",
    "dummy.add()\n",
    "dummy.add()\n",
    "dummy.add()\n",
    "print(dummy.counter())"
   ]
  },
  {
   "cell_type": "markdown",
   "metadata": {},
   "source": [
    "### Dataclass"
   ]
  },
  {
   "cell_type": "code",
   "execution_count": 26,
   "metadata": {},
   "outputs": [
    {
     "name": "stdout",
     "output_type": "stream",
     "text": [
      "Dummy(a=1, b=2, c=3)\n",
      "True\n",
      "1 2 3\n"
     ]
    }
   ],
   "source": [
    "from dataclasses import dataclass\n",
    "\n",
    "@dataclass\n",
    "class Dummy:\n",
    "    a: int\n",
    "    b: int\n",
    "    c: int\n",
    "\n",
    "dummy = Dummy(1, 2, 3)\n",
    "dummy2 = Dummy(1, 2, 3)\n",
    "print(dummy)\n",
    "print(dummy == dummy2)\n",
    "print(dummy.a, dummy.b, dummy.c)"
   ]
  },
  {
   "cell_type": "markdown",
   "metadata": {},
   "source": [
    "### Kopia płytka a głęboka"
   ]
  },
  {
   "cell_type": "markdown",
   "metadata": {},
   "source": [
    "## Serializacja"
   ]
  },
  {
   "cell_type": "markdown",
   "metadata": {},
   "source": [
    "Serializacja do tekstu. Bardzo trudna do deserializacji."
   ]
  },
  {
   "cell_type": "code",
   "execution_count": 27,
   "metadata": {},
   "outputs": [
    {
     "data": {
      "text/plain": [
       "['[', '1', ',', ' ', '2', ',', ' ', '3', ']']"
      ]
     },
     "execution_count": 27,
     "metadata": {},
     "output_type": "execute_result"
    }
   ],
   "source": [
    "data = [1, 2, 3]\n",
    "\n",
    "dummy_file_name = \"dummy.txt\"\n",
    "\n",
    "with open(dummy_file_name, \"w\") as writer:\n",
    "    writer.write(str(data))\n",
    "\n",
    "with open(dummy_file_name, \"r\") as reader:\n",
    "    l = reader.read()\n",
    "\n",
    "if os.path.exists(dummy_file_name):\n",
    "    os.remove(dummy_file_name)\n",
    "\n",
    "list(l)"
   ]
  },
  {
   "cell_type": "markdown",
   "metadata": {},
   "source": [
    "Serializacja do postaci binarnej za pomocą modułu Pickle."
   ]
  },
  {
   "cell_type": "code",
   "execution_count": 28,
   "metadata": {},
   "outputs": [
    {
     "data": {
      "text/plain": [
       "2"
      ]
     },
     "execution_count": 28,
     "metadata": {},
     "output_type": "execute_result"
    }
   ],
   "source": [
    "import pickle\n",
    "\n",
    "data = [1, 2, 3]\n",
    "\n",
    "dummy_file_name = \"dummy.txt\"\n",
    "\n",
    "with open(dummy_file_name, \"wb\") as writer:\n",
    "    pickle.dump(data, writer)\n",
    "\n",
    "with open(dummy_file_name, \"rb\") as reader:\n",
    "    l = pickle.load(reader)\n",
    "\n",
    "if os.path.exists(dummy_file_name):\n",
    "    os.remove(dummy_file_name)\n",
    "\n",
    "l[1]"
   ]
  },
  {
   "cell_type": "markdown",
   "metadata": {},
   "source": [
    "JSON"
   ]
  },
  {
   "cell_type": "code",
   "execution_count": 29,
   "metadata": {},
   "outputs": [
    {
     "data": {
      "text/plain": [
       "15"
      ]
     },
     "execution_count": 29,
     "metadata": {},
     "output_type": "execute_result"
    }
   ],
   "source": [
    "import json\n",
    "\n",
    "dummy_file_name = \"dummy.json\"\n",
    "\n",
    "data = {\n",
    "    \"capitals\":\n",
    "    {\n",
    "        \"Poland\": \"Warsaw\",\n",
    "        \"Sri Lanka\": \"Sri Djayavardanapura Kotte\",\n",
    "        \"Czechia\": \"Prague\"\n",
    "    },\n",
    "    \"numbers\": [1, 2, 3, 4],\n",
    "    \"number\": 15\n",
    "}\n",
    "\n",
    "with open(dummy_file_name, \"w\") as writer:\n",
    "    json.dump(data, writer)\n",
    "\n",
    "with open(dummy_file_name, \"r\") as reader:\n",
    "    l = json.load(reader)\n",
    "\n",
    "if os.path.exists(dummy_file_name):\n",
    "    os.remove(dummy_file_name)\n",
    "\n",
    "l[\"number\"]\n"
   ]
  },
  {
   "cell_type": "markdown",
   "metadata": {},
   "source": [
    "csv"
   ]
  },
  {
   "cell_type": "code",
   "execution_count": 30,
   "metadata": {},
   "outputs": [
    {
     "data": {
      "text/plain": [
       "[['pracownik', 'pensja'],\n",
       " ['Jan Kowalski', '2500'],\n",
       " ['Joanna Dolegiewicz', '7500'],\n",
       " ['Katarzyna Kot', '10000']]"
      ]
     },
     "execution_count": 30,
     "metadata": {},
     "output_type": "execute_result"
    }
   ],
   "source": [
    "dummy_file_name = \"pracownicy.csv\"\n",
    "\n",
    "data = [['pracownik', 'pensja'],\n",
    "    ['Jan Kowalski', '2500'],\n",
    "    ['Joanna Dolegiewicz', '7500'],\n",
    "    ['Katarzyna Kot', '10000']]\n",
    "\n",
    "import csv\n",
    "\n",
    "with open(dummy_file_name, 'w', newline='') as writer:\n",
    "    csv_writer = csv.writer(writer)\n",
    "    csv_writer.writerows(data)\n",
    "\n",
    "with open(dummy_file_name, \"r\") as reader:\n",
    "    csv_reader = csv.reader(reader)\n",
    "    l = list(csv_reader)\n",
    "\n",
    "if os.path.exists(dummy_file_name):\n",
    "    os.remove(dummy_file_name)\n",
    "\n",
    "l"
   ]
  },
  {
   "cell_type": "markdown",
   "metadata": {},
   "source": [
    "## Dekoratory"
   ]
  },
  {
   "cell_type": "markdown",
   "metadata": {},
   "source": [
    "## Wyrażenia lambda"
   ]
  },
  {
   "cell_type": "markdown",
   "metadata": {},
   "source": [
    "## Generatory i iteratory"
   ]
  },
  {
   "cell_type": "markdown",
   "metadata": {},
   "source": [
    "## Wyrażenia regularne"
   ]
  },
  {
   "cell_type": "markdown",
   "metadata": {},
   "source": [
    "## Wielowątkowość"
   ]
  },
  {
   "cell_type": "markdown",
   "metadata": {},
   "source": [
    "## Profilowanie kodu"
   ]
  }
 ],
 "metadata": {
  "kernelspec": {
   "display_name": "Python 3.9.6 ('pyML')",
   "language": "python",
   "name": "python3"
  },
  "language_info": {
   "codemirror_mode": {
    "name": "ipython",
    "version": 3
   },
   "file_extension": ".py",
   "mimetype": "text/x-python",
   "name": "python",
   "nbconvert_exporter": "python",
   "pygments_lexer": "ipython3",
   "version": "3.9.6"
  },
  "orig_nbformat": 4,
  "vscode": {
   "interpreter": {
    "hash": "43dbf5479a0fc87de1ee7ded1cd5b445b0b8a7634e32fcae97e87d9cabed96b1"
   }
  }
 },
 "nbformat": 4,
 "nbformat_minor": 2
}
