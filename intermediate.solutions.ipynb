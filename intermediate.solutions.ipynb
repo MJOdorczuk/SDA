{
 "cells": [
  {
   "cell_type": "markdown",
   "metadata": {},
   "source": [
    "# Rozwiązania do zadań dla bloku Python Średniozaawansowany"
   ]
  },
  {
   "cell_type": "markdown",
   "metadata": {},
   "source": [
    "## Wyjątki"
   ]
  },
  {
   "cell_type": "markdown",
   "metadata": {},
   "source": [
    "1. Napisz klasę `AutodestructingFile` która stworzy plik o lokalizacji zadanej w konstruktorze i pozwoli na zapisywanie i odczytywanie z owego pliku. Obiekt tej klasy, gdy użyty w ramach klauzuli `with`, ma usunąć automatycznie plik z dysku w momencie zakończenia działania, niezależnie od tego, czy klauzula zakończyła się poprawnie czy błędem. Należy zastąpić wszystkie wystąpienia `pass` odpowiednim kodem."
   ]
  },
  {
   "cell_type": "markdown",
   "metadata": {},
   "source": [
    "##### Rozwiązanie\n",
    "\n",
    " * podpowiedź 1 - zapisz zmienną `address` w konstruktorze jako pole obiektu. Następnie stwórz pola `reader` i `writer` i przypisz do nich odpowiednio `open(address, \"w\")` i `open(address, \"r\")`.\n",
    "\n",
    " * podpowiedź 2 - w operacji `write` zapisz tekst do pliku odwołując się do pola `self.writer`. Analogicznie zczytaj treść pliku z pomocą `self.reader` w operacji `write`.\n",
    "\n",
    " * podpowiedź 3 - W operacji `__exit__` zamknij `self.writer` i `self.reader` oraz usuń plik z pomocą operacji `os.path.exists` i `os.remove`.\n",
    "\n",
    "Wywołanie powinno zakończyć się tekstem *\"This code should fail here and dummy.file should not exist\"*."
   ]
  },
  {
   "cell_type": "code",
   "execution_count": 1,
   "metadata": {},
   "outputs": [
    {
     "name": "stdout",
     "output_type": "stream",
     "text": [
      "\n"
     ]
    },
    {
     "ename": "Exception",
     "evalue": "This code should fail here and dummy.file should not exist",
     "output_type": "error",
     "traceback": [
      "\u001b[1;31m---------------------------------------------------------------------------\u001b[0m",
      "\u001b[1;31mException\u001b[0m                                 Traceback (most recent call last)",
      "\u001b[1;32m~\\AppData\\Local\\Temp/ipykernel_17192/4197174020.py\u001b[0m in \u001b[0;36m<module>\u001b[1;34m\u001b[0m\n\u001b[0;32m     32\u001b[0m     \u001b[0mprint\u001b[0m\u001b[1;33m(\u001b[0m\u001b[0mfile\u001b[0m\u001b[1;33m.\u001b[0m\u001b[0mread\u001b[0m\u001b[1;33m(\u001b[0m\u001b[1;33m)\u001b[0m\u001b[1;33m)\u001b[0m\u001b[1;33m\u001b[0m\u001b[1;33m\u001b[0m\u001b[0m\n\u001b[0;32m     33\u001b[0m \u001b[1;33m\u001b[0m\u001b[0m\n\u001b[1;32m---> 34\u001b[1;33m     \u001b[1;32mraise\u001b[0m \u001b[0mException\u001b[0m\u001b[1;33m(\u001b[0m\u001b[1;34mf\"This code should fail here and {dummy_file_name} should not exist\"\u001b[0m\u001b[1;33m)\u001b[0m\u001b[1;33m\u001b[0m\u001b[1;33m\u001b[0m\u001b[0m\n\u001b[0m\u001b[0;32m     35\u001b[0m     \u001b[0mprint\u001b[0m\u001b[1;33m(\u001b[0m\u001b[1;34m\"This message should not be displayed\"\u001b[0m\u001b[1;33m)\u001b[0m\u001b[1;33m\u001b[0m\u001b[1;33m\u001b[0m\u001b[0m\n",
      "\u001b[1;31mException\u001b[0m: This code should fail here and dummy.file should not exist"
     ]
    }
   ],
   "source": [
    "class AutodestructingFile:\n",
    "\n",
    "    def __init__(self, address) -> None:\n",
    "        self.address = address\n",
    "        self.writer = open(address, \"w\")\n",
    "        self.reader = open(address, \"r\")\n",
    "\n",
    "    def write(self, text):\n",
    "        self.writer.write(text)\n",
    "\n",
    "    def read(self):\n",
    "        return self.reader.read()\n",
    "\n",
    "    def __enter__(self):\n",
    "        return self\n",
    "\n",
    "    def __exit__(self, type, value, traceback):\n",
    "        self.reader.close()\n",
    "        self.writer.close()\n",
    "        if os.path.exists(self.address):\n",
    "            os.remove(self.address)\n",
    "\n",
    "\n",
    "dummy_file_name = \"dummy.file\"\n",
    "some_dummy_message = \"somedummymessage\"\n",
    "\n",
    "assert not os.path.exists(dummy_file_name)\n",
    "\n",
    "with AutodestructingFile(dummy_file_name) as file:\n",
    "    assert os.path.exists(dummy_file_name)\n",
    "    file.write(some_dummy_message)\n",
    "    print(file.read())\n",
    "\n",
    "    raise Exception(f\"This code should fail here and {dummy_file_name} should not exist\")\n",
    "    print(\"This message should not be displayed\")"
   ]
  },
  {
   "cell_type": "markdown",
   "metadata": {},
   "source": [
    "## Programowanie obiektowe"
   ]
  },
  {
   "cell_type": "markdown",
   "metadata": {},
   "source": [
    "2. Wczytaj plik za pomocą `reader`, przetwórz treść za pomocą `converter` i zapisz do pliku za pomocą `writer`. Stwórz klasę `LUFileConverter`, która będzie konwertowała zadany plik zmieniając małe litery w wielkie i vice versa. Stwórz klasę `DoubleFileConverter`, która wykona operacje `converter` dwukrotnie.\n",
    "\n",
    "`convertFile` w `FileConverter` ma być metodą abstrakcyjną.\n",
    "`reader` ma posiadać operację `read()`, która zczyta obiekt typu `str` z pewnego pliku.\n",
    "`writer` ma posiadać operację `write()`, która zapisze do pewnego pliku zadany obiekt typu `str`.\n",
    "`converter` ma przyjąć obiekt typu `str` i zwrócić obiekt typu `str`."
   ]
  },
  {
   "cell_type": "markdown",
   "metadata": {},
   "source": [
    "##### Rozwiązanie\n",
    "\n",
    " - Stwórz plik (`dummy.txt` lub jakikolwiek inny) z dowolną treścią (`Ala ma kota` lub cokolwiek innego).\n",
    " - Wczytaj treść tego pliku za pomocą operacji `open` i `read`.\n",
    " - Zapisz treść tego pliku za pomocą `open` i `write` do innego pliku (`temp.file` lub jakikolwiek inny).\n",
    " - Stwórz funkcję `toUpper`, która przyjmie obiekt typu `str` i zwróci ów tekst z wszystkimi małymi literami zamienionymi na wielkie.\n",
    " - Stwórz obiekt typu `FileConverter` i zapisz jako jego pola `reader`, `writer` oraz `toUpper`.\n",
    " - Zmień pole `convertFile` w `FileConverter` na metodę abstrakcyjną."
   ]
  },
  {
   "cell_type": "code",
   "execution_count": 2,
   "metadata": {},
   "outputs": [],
   "source": [
    "from abc import ABC, abstractmethod\n",
    "\n",
    "def swapCase(text: str) -> str:\n",
    "    return text.swapcase()\n",
    "\n",
    "class FileConverter(ABC):\n",
    "    def __init__(self, reader, writer, converter) -> None:\n",
    "        self.reader = reader\n",
    "        self.writer = writer\n",
    "        self.converter = converter\n",
    "\n",
    "    @abstractmethod\n",
    "    def convertFile(self):\n",
    "        pass\n",
    "\n",
    "class LUFileConverter(FileConverter):\n",
    "    def __init__(self, reader, writer) -> None:\n",
    "        super().__init__(reader, writer, swapCase)\n",
    "\n",
    "    def convertFile(self):\n",
    "        content = self.reader.read()\n",
    "        content = self.converter(content)\n",
    "        self.writer.write(content)\n",
    "\n",
    "class DoubleFileConverter(FileConverter):\n",
    "    def convertFile(self):\n",
    "        content = self.reader.read()\n",
    "        content = self.converter(content)\n",
    "        content = self.converter(content)\n",
    "        self.writer.write(content)"
   ]
  },
  {
   "cell_type": "code",
   "execution_count": 3,
   "metadata": {},
   "outputs": [],
   "source": [
    "def doubleText(text):\n",
    "    return text + text\n",
    "\n",
    "in_file = \"dummy.txt\"\n",
    "out_file = \"temp.file\"\n",
    "\n",
    "with open(in_file, \"w\") as writer:\n",
    "    writer.write(\"Ala ma kota\\nA sierotka ma rysia\\n\\n\")\n",
    "\n",
    "with open(in_file, \"r\") as reader:\n",
    "    with open(out_file, \"w\") as writer:\n",
    "        fc = DoubleFileConverter(reader, writer, doubleText)\n",
    "        fc.convertFile()\n",
    "\n",
    "if os.path.exists(in_file):\n",
    "    os.remove(in_file)\n",
    "if os.path.exists(out_file):\n",
    "    os.remove(out_file)"
   ]
  },
  {
   "cell_type": "code",
   "execution_count": 4,
   "metadata": {},
   "outputs": [],
   "source": [
    "def doubleText(text):\n",
    "    return text + text\n",
    "\n",
    "in_file = \"dummy.txt\"\n",
    "out_file = \"temp.file\"\n",
    "\n",
    "with open(in_file, \"w\") as writer:\n",
    "    writer.write(\"Ala ma kota\\nA sierotka ma rysia\\n\\n\")\n",
    "\n",
    "with open(in_file, \"r\") as reader:\n",
    "    with open(out_file, \"w\") as writer:\n",
    "        fc = LUFileConverter(reader, writer)\n",
    "        fc.convertFile()\n",
    "\n",
    "if os.path.exists(in_file):\n",
    "    os.remove(in_file)\n",
    "if os.path.exists(out_file):\n",
    "    os.remove(out_file)"
   ]
  },
  {
   "cell_type": "markdown",
   "metadata": {},
   "source": [
    "3. Napisz strukturę o trzech niemutowalnych polach, którą można posortować oraz przechowywać jako element zbioru."
   ]
  },
  {
   "cell_type": "code",
   "execution_count": 5,
   "metadata": {},
   "outputs": [
    {
     "name": "stdout",
     "output_type": "stream",
     "text": [
      "[Triple(a=1, b=2, c=1), Triple(a=1, b=2, c=3), Triple(a=1, b=3, c=2), Triple(a=2, b=1, c=19)]\n",
      "{Triple(a=1, b=2, c=1), Triple(a=1, b=3, c=2), Triple(a=1, b=2, c=3), Triple(a=2, b=1, c=19)}\n"
     ]
    }
   ],
   "source": [
    "from dataclasses import dataclass\n",
    "\n",
    "@dataclass(frozen=True, order=True, unsafe_hash=True)\n",
    "class Triple:\n",
    "    a: float\n",
    "    b: float\n",
    "    c: float\n",
    "\n",
    "print(sorted([Triple(1, 2, 3), Triple(2, 1, 19), Triple(1, 2, 1), Triple(1, 3, 2)]))\n",
    "print({Triple(1, 2, 3), Triple(2, 1, 19), Triple(1, 2, 1), Triple(1, 3, 2)})"
   ]
  },
  {
   "cell_type": "markdown",
   "metadata": {},
   "source": [
    "## Serializacja"
   ]
  },
  {
   "cell_type": "markdown",
   "metadata": {},
   "source": [
    "## Dekoratory"
   ]
  },
  {
   "cell_type": "markdown",
   "metadata": {},
   "source": [
    "#### Napisz dekorator, który przechwyci wyjątek wyrzucany przez funkcję i wypisze jego treść i ślad na wyjściu konsoli (domyślnie wyjątki wypisują się na `stderr`, standardowe wyjście konsoli to `stdout`).\n",
    "\n",
    "Do zadania wykorzystaj pakiet [traceback](https://docs.python.org/3/library/traceback.html)."
   ]
  },
  {
   "cell_type": "code",
   "execution_count": 6,
   "metadata": {},
   "outputs": [
    {
     "name": "stdout",
     "output_type": "stream",
     "text": [
      "First print\n",
      "Traceback (most recent call last):\n",
      "  File \"C:\\Users\\micha\\AppData\\Local\\Temp/ipykernel_17192/2643493766.py\", line 6, in wrapper\n",
      "    func()\n",
      "  File \"C:\\Users\\micha\\AppData\\Local\\Temp/ipykernel_17192/2643493766.py\", line 17, in function1\n",
      "    function2()\n",
      "  File \"C:\\Users\\micha\\AppData\\Local\\Temp/ipykernel_17192/2643493766.py\", line 15, in function2\n",
      "    raise AssertionError(\"Why index error? Just so\")\n",
      "AssertionError: Why index error? Just so\n"
     ]
    }
   ],
   "source": [
    "import traceback, sys\n",
    "\n",
    "def captureError(func):\n",
    "    def wrapper():\n",
    "        try:\n",
    "            func()\n",
    "        except Exception as e:\n",
    "            traceback.print_exc(file=sys.stdout)\n",
    "    return wrapper\n",
    "\n",
    "\n",
    "@captureError\n",
    "def function1():\n",
    "    def function2():\n",
    "        raise AssertionError(\"Why index error? Just so\")\n",
    "    print(\"First print\")\n",
    "    function2()\n",
    "    print(\"Second print\")\n",
    "\n",
    "function1()"
   ]
  },
  {
   "cell_type": "markdown",
   "metadata": {},
   "source": [
    "#### Napisz dekorator `encrypted`, który przyjmuje jako parametry adres pliku oraz funkcję szyfrującą a następnie zapisuje do tego pliku zaszyfrowany wynik funkcji."
   ]
  },
  {
   "cell_type": "code",
   "execution_count": 7,
   "metadata": {},
   "outputs": [],
   "source": [
    "from random import shuffle\n",
    "import string\n",
    "\n",
    "basis = list(string.printable)\n",
    "permutation = list(basis)\n",
    "shuffle(permutation)\n",
    "\n",
    "dictionary = {}\n",
    "for i in range(len(basis)):\n",
    "    dictionary[basis[i]] = permutation[i]\n",
    "\n",
    "def encryptor(text):\n",
    "    return ''.join([dictionary[c] for c in text])"
   ]
  },
  {
   "cell_type": "code",
   "execution_count": 8,
   "metadata": {},
   "outputs": [],
   "source": [
    "dummy_file_name = \"dummy.file\"\n",
    "\n",
    "def encrypted(encryptor, address):\n",
    "    def dec(func):\n",
    "        def wrapper():\n",
    "            with open(address, \"w\") as writer:\n",
    "                writer.write(encryptor(func()))\n",
    "        return wrapper\n",
    "    return dec\n",
    "\n",
    "@encrypted(encryptor, dummy_file_name)\n",
    "def strfunc():\n",
    "    return \"Ala ma kota\"\n",
    "\n",
    "strfunc()\n",
    "\n",
    "if os.path.exists(dummy_file_name):\n",
    "    os.remove(dummy_file_name)"
   ]
  },
  {
   "cell_type": "markdown",
   "metadata": {},
   "source": [
    "#### Napisz powyższe zadanie, tym razem jednak dla funkcji, która przyjmuje argumenty"
   ]
  },
  {
   "cell_type": "code",
   "execution_count": 9,
   "metadata": {},
   "outputs": [],
   "source": [
    "from random import shuffle\n",
    "import string\n",
    "\n",
    "basis = list(string.printable)\n",
    "permutation = list(basis)\n",
    "shuffle(permutation)\n",
    "\n",
    "dictionary = {}\n",
    "for i in range(len(basis)):\n",
    "    dictionary[basis[i]] = permutation[i]\n",
    "\n",
    "def encryptor(text):\n",
    "    return ''.join([dictionary[c] for c in text])"
   ]
  },
  {
   "cell_type": "code",
   "execution_count": 10,
   "metadata": {},
   "outputs": [],
   "source": [
    "dummy_file_name = \"dummy.file\"\n",
    "\n",
    "def encrypted(encryptor, address):\n",
    "    def dec(func):\n",
    "        def wrapper(*args, **kwargs):\n",
    "            with open(address, \"w\") as writer:\n",
    "                writer.write(encryptor(func(*args, **kwargs)))\n",
    "        return wrapper\n",
    "    return dec\n",
    "\n",
    "@encrypted(encryptor, dummy_file_name)\n",
    "def strfunc(text, n):\n",
    "    return f\"My encrypted text is '{text}' and it should occure {n} times after this line\\n\" + \"\\n\".join([text] * n)\n",
    "\n",
    "strfunc(\"Ala ma kota\", 5)\n",
    "\n",
    "if os.path.exists(dummy_file_name):\n",
    "    os.remove(dummy_file_name)"
   ]
  }
 ],
 "metadata": {
  "kernelspec": {
   "display_name": "Python 3.9.6 ('pyML2')",
   "language": "python",
   "name": "python3"
  },
  "language_info": {
   "codemirror_mode": {
    "name": "ipython",
    "version": 3
   },
   "file_extension": ".py",
   "mimetype": "text/x-python",
   "name": "python",
   "nbconvert_exporter": "python",
   "pygments_lexer": "ipython3",
   "version": "3.9.6"
  },
  "orig_nbformat": 4,
  "vscode": {
   "interpreter": {
    "hash": "2d705a3254ba13857b8223e946b59c349eb97b3023c3bbac6bccd61d74bd64dd"
   }
  }
 },
 "nbformat": 4,
 "nbformat_minor": 2
}
