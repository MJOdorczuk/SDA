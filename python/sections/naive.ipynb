{
 "cells": [
  {
   "cell_type": "markdown",
   "metadata": {},
   "source": [
    "## Ten plik zawiera implementacje kilku algorytmów naiwnych"
   ]
  },
  {
   "cell_type": "markdown",
   "metadata": {},
   "source": [
    "### Algorytmy sortowania"
   ]
  },
  {
   "cell_type": "markdown",
   "metadata": {},
   "source": [
    "#### [Sortowanie przez wybieranie](https://en.wikipedia.org/wiki/Selection_sort)\n",
    "\n",
    "Znajdź najmniejszy element na liście i zamień go miejscem z pierwszym elementem listy. Pomijając pierwszy element powtarzaj algorytm aż do pustej tablicy"
   ]
  },
  {
   "cell_type": "code",
   "execution_count": 2,
   "metadata": {},
   "outputs": [],
   "source": [
    "def selectionSort(L):\n",
    "    for i in range(len(L)):\n",
    "        mini = i\n",
    "        for j in range(i, len(L)):\n",
    "            if L[j] < L[mini]:\n",
    "                mini = j\n",
    "        L[i], L[mini] = L[mini], L[i]\n",
    "    return L"
   ]
  },
  {
   "cell_type": "markdown",
   "metadata": {},
   "source": [
    "Ta procedura składa się z pętli, która wykonuje się $n$ razy dla listy `L` od długości $n$. W środku tej pętli wykonujemy kolejną pętlę, która wykonuje się kolejno $n,n - 1,n - 2\\ldots$"
   ]
  },
  {
   "cell_type": "code",
   "execution_count": null,
   "metadata": {},
   "outputs": [],
   "source": []
  }
 ],
 "metadata": {
  "kernelspec": {
   "display_name": "Python 3",
   "language": "python",
   "name": "python3"
  },
  "language_info": {
   "codemirror_mode": {
    "name": "ipython",
    "version": 3
   },
   "file_extension": ".py",
   "mimetype": "text/x-python",
   "name": "python",
   "nbconvert_exporter": "python",
   "pygments_lexer": "ipython3",
   "version": "3.10.2"
  }
 },
 "nbformat": 4,
 "nbformat_minor": 2
}
